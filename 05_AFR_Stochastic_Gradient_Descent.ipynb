{
 "cells": [
  {
   "cell_type": "markdown",
   "metadata": {},
   "source": [
    "## Boston Housing price Prediction Using SGD"
   ]
  },
  {
   "cell_type": "markdown",
   "metadata": {},
   "source": [
    "Each record in the database describes a Boston suburb or town. The data was drawn from the Boston Standard Metropolitan Statistical Area (SMSA) in 1970. The attributes are deﬁned as follows (taken from the UCI Machine Learning Repository\n",
    "nts aggregate information about 14 features of homes from various suburbs located in Boston.\n",
    "\n",
    "<b>The features can be summarized as follows:</b>\n",
    "<pre>- CRIM: This is the per capita crime rate by town\n",
    "- ZN: This is the proportion of residential land zoned for lots larger than 25,000 sq.ft.\n",
    "- INDUS: This is the proportion of non-retail business acres per town.\n",
    "- CHAS: This is the Charles River dummy variable (this is equal to 1 if tract bounds river; 0 otherwise)\n",
    "- NOX: This is the nitric oxides concentration (parts per 10 million)\n",
    "- RM: This is the average number of rooms per dwelling\n",
    "- AGE: This is the proportion of owner-occupied units built prior to 1940\n",
    "- DIS: This is the weighted distances to five Boston employment centers\n",
    "- RAD: This is the index of accessibility to radial highways\n",
    "- TAX: This is the full-value property-tax rate per $10,000\n",
    "- PTRATIO: This is the pupil-teacher ratio by town\n",
    "- B: This is calculated as 1000(Bk — 0.63)², where Bk is the proportion of people of African American descent by town\n",
    "- LSTAT: This is the percentage lower status of the population\n",
    "- MEDV: This is the median value of owner-occupied homes in $1000s</pre>"
   ]
  },
  {
   "cell_type": "code",
   "execution_count": 1,
   "metadata": {},
   "outputs": [],
   "source": [
    "import pandas as pd\n",
    "import numpy as np\n",
    "from sklearn.datasets import load_boston\n",
    "import seaborn as sns;\n",
    "from sklearn.model_selection import train_test_split\n",
    "from sklearn.metrics import mean_squared_error\n",
    "from sklearn import preprocessing\n",
    "import matplotlib.pyplot as plt"
   ]
  },
  {
   "cell_type": "code",
   "execution_count": 111,
   "metadata": {},
   "outputs": [],
   "source": [
    "# Loading Data\n",
    "Boston = load_boston()\n",
    "X = Boston.data\n",
    "Y = Boston.target"
   ]
  },
  {
   "cell_type": "code",
   "execution_count": 112,
   "metadata": {},
   "outputs": [
    {
     "name": "stdout",
     "output_type": "stream",
     "text": [
      "(354, 13) (152, 13) (354,) (152,)\n"
     ]
    }
   ],
   "source": [
    "# Splitting data into train and test test\n",
    "from sklearn.model_selection import train_test_split\n",
    "x_train, x_test, y_train, y_test = train_test_split(X, Y, test_size = 0.3)\n",
    "\n",
    "# standardization\n",
    "scaler = preprocessing.StandardScaler().fit(x_train)\n",
    "x_train = scaler.transform(x_train)\n",
    "x_test = scaler.transform(x_test)\n",
    "print(x_train.shape, x_test.shape, y_train.shape, y_test.shape)"
   ]
  },
  {
   "cell_type": "code",
   "execution_count": 113,
   "metadata": {},
   "outputs": [
    {
     "data": {
      "text/html": [
       "<div>\n",
       "<style scoped>\n",
       "    .dataframe tbody tr th:only-of-type {\n",
       "        vertical-align: middle;\n",
       "    }\n",
       "\n",
       "    .dataframe tbody tr th {\n",
       "        vertical-align: top;\n",
       "    }\n",
       "\n",
       "    .dataframe thead th {\n",
       "        text-align: right;\n",
       "    }\n",
       "</style>\n",
       "<table border=\"1\" class=\"dataframe\">\n",
       "  <thead>\n",
       "    <tr style=\"text-align: right;\">\n",
       "      <th></th>\n",
       "      <th>CRIM</th>\n",
       "      <th>ZN</th>\n",
       "      <th>INDUS</th>\n",
       "      <th>CHAS</th>\n",
       "      <th>NOX</th>\n",
       "      <th>RM</th>\n",
       "      <th>AGE</th>\n",
       "      <th>DIS</th>\n",
       "      <th>RAD</th>\n",
       "      <th>TAX</th>\n",
       "      <th>PTRATIO</th>\n",
       "      <th>B</th>\n",
       "      <th>LSTAT</th>\n",
       "      <th>PRICE</th>\n",
       "    </tr>\n",
       "  </thead>\n",
       "  <tbody>\n",
       "    <tr>\n",
       "      <th>0</th>\n",
       "      <td>-0.378754</td>\n",
       "      <td>-0.489350</td>\n",
       "      <td>-0.356767</td>\n",
       "      <td>-0.293069</td>\n",
       "      <td>-0.278733</td>\n",
       "      <td>0.653459</td>\n",
       "      <td>0.412047</td>\n",
       "      <td>-0.521000</td>\n",
       "      <td>-0.515333</td>\n",
       "      <td>-0.128730</td>\n",
       "      <td>1.122341</td>\n",
       "      <td>0.421753</td>\n",
       "      <td>-0.434456</td>\n",
       "      <td>27.5</td>\n",
       "    </tr>\n",
       "    <tr>\n",
       "      <th>1</th>\n",
       "      <td>-0.385367</td>\n",
       "      <td>1.509712</td>\n",
       "      <td>-1.125762</td>\n",
       "      <td>-0.293069</td>\n",
       "      <td>-1.002674</td>\n",
       "      <td>0.993553</td>\n",
       "      <td>-1.690093</td>\n",
       "      <td>1.256823</td>\n",
       "      <td>-0.515333</td>\n",
       "      <td>-0.044139</td>\n",
       "      <td>-1.502438</td>\n",
       "      <td>0.235998</td>\n",
       "      <td>-1.070420</td>\n",
       "      <td>37.0</td>\n",
       "    </tr>\n",
       "    <tr>\n",
       "      <th>2</th>\n",
       "      <td>-0.366789</td>\n",
       "      <td>-0.489350</td>\n",
       "      <td>-0.155506</td>\n",
       "      <td>-0.293069</td>\n",
       "      <td>-0.069400</td>\n",
       "      <td>-0.898219</td>\n",
       "      <td>0.332857</td>\n",
       "      <td>0.039528</td>\n",
       "      <td>-0.632050</td>\n",
       "      <td>-0.612110</td>\n",
       "      <td>-0.028878</td>\n",
       "      <td>0.439806</td>\n",
       "      <td>-0.128251</td>\n",
       "      <td>16.2</td>\n",
       "    </tr>\n",
       "    <tr>\n",
       "      <th>3</th>\n",
       "      <td>1.146606</td>\n",
       "      <td>-0.489350</td>\n",
       "      <td>1.076087</td>\n",
       "      <td>-0.293069</td>\n",
       "      <td>0.689430</td>\n",
       "      <td>-3.694883</td>\n",
       "      <td>1.135558</td>\n",
       "      <td>-1.129552</td>\n",
       "      <td>1.702281</td>\n",
       "      <td>1.575181</td>\n",
       "      <td>0.799999</td>\n",
       "      <td>-2.442214</td>\n",
       "      <td>0.141151</td>\n",
       "      <td>23.1</td>\n",
       "    </tr>\n",
       "    <tr>\n",
       "      <th>4</th>\n",
       "      <td>-0.211755</td>\n",
       "      <td>-0.489350</td>\n",
       "      <td>-0.419848</td>\n",
       "      <td>-0.293069</td>\n",
       "      <td>-0.121734</td>\n",
       "      <td>-0.304573</td>\n",
       "      <td>1.023972</td>\n",
       "      <td>-0.049411</td>\n",
       "      <td>-0.632050</td>\n",
       "      <td>-0.593983</td>\n",
       "      <td>1.168389</td>\n",
       "      <td>-1.170971</td>\n",
       "      <td>1.173121</td>\n",
       "      <td>13.5</td>\n",
       "    </tr>\n",
       "    <tr>\n",
       "      <th>5</th>\n",
       "      <td>0.100305</td>\n",
       "      <td>-0.489350</td>\n",
       "      <td>1.076087</td>\n",
       "      <td>-0.293069</td>\n",
       "      <td>0.244598</td>\n",
       "      <td>-0.196775</td>\n",
       "      <td>0.559629</td>\n",
       "      <td>-0.398253</td>\n",
       "      <td>1.702281</td>\n",
       "      <td>1.575181</td>\n",
       "      <td>0.799999</td>\n",
       "      <td>0.445026</td>\n",
       "      <td>0.576904</td>\n",
       "      <td>19.9</td>\n",
       "    </tr>\n",
       "    <tr>\n",
       "      <th>6</th>\n",
       "      <td>-0.367218</td>\n",
       "      <td>-0.489350</td>\n",
       "      <td>1.645324</td>\n",
       "      <td>-0.293069</td>\n",
       "      <td>0.628374</td>\n",
       "      <td>-0.667441</td>\n",
       "      <td>1.070766</td>\n",
       "      <td>-1.053675</td>\n",
       "      <td>-0.632050</td>\n",
       "      <td>0.191508</td>\n",
       "      <td>1.260487</td>\n",
       "      <td>0.392171</td>\n",
       "      <td>1.317390</td>\n",
       "      <td>13.3</td>\n",
       "    </tr>\n",
       "    <tr>\n",
       "      <th>7</th>\n",
       "      <td>0.598506</td>\n",
       "      <td>-0.489350</td>\n",
       "      <td>1.076087</td>\n",
       "      <td>-0.293069</td>\n",
       "      <td>1.230205</td>\n",
       "      <td>0.264780</td>\n",
       "      <td>1.092363</td>\n",
       "      <td>-1.026254</td>\n",
       "      <td>1.702281</td>\n",
       "      <td>1.575181</td>\n",
       "      <td>0.799999</td>\n",
       "      <td>0.391518</td>\n",
       "      <td>0.699092</td>\n",
       "      <td>13.1</td>\n",
       "    </tr>\n",
       "    <tr>\n",
       "      <th>8</th>\n",
       "      <td>-0.386283</td>\n",
       "      <td>-0.489350</td>\n",
       "      <td>0.448275</td>\n",
       "      <td>-0.293069</td>\n",
       "      <td>-1.002674</td>\n",
       "      <td>-0.257506</td>\n",
       "      <td>-1.801679</td>\n",
       "      <td>0.787587</td>\n",
       "      <td>-0.632050</td>\n",
       "      <td>-0.702743</td>\n",
       "      <td>-1.134048</td>\n",
       "      <td>0.445026</td>\n",
       "      <td>-0.558116</td>\n",
       "      <td>23.9</td>\n",
       "    </tr>\n",
       "    <tr>\n",
       "      <th>9</th>\n",
       "      <td>-0.365641</td>\n",
       "      <td>-0.489350</td>\n",
       "      <td>-0.356767</td>\n",
       "      <td>-0.293069</td>\n",
       "      <td>-0.278733</td>\n",
       "      <td>-0.102642</td>\n",
       "      <td>0.818797</td>\n",
       "      <td>-0.632751</td>\n",
       "      <td>-0.515333</td>\n",
       "      <td>-0.128730</td>\n",
       "      <td>1.122341</td>\n",
       "      <td>0.383362</td>\n",
       "      <td>0.467966</td>\n",
       "      <td>19.4</td>\n",
       "    </tr>\n",
       "  </tbody>\n",
       "</table>\n",
       "</div>"
      ],
      "text/plain": [
       "       CRIM        ZN     INDUS      CHAS       NOX        RM       AGE  \\\n",
       "0 -0.378754 -0.489350 -0.356767 -0.293069 -0.278733  0.653459  0.412047   \n",
       "1 -0.385367  1.509712 -1.125762 -0.293069 -1.002674  0.993553 -1.690093   \n",
       "2 -0.366789 -0.489350 -0.155506 -0.293069 -0.069400 -0.898219  0.332857   \n",
       "3  1.146606 -0.489350  1.076087 -0.293069  0.689430 -3.694883  1.135558   \n",
       "4 -0.211755 -0.489350 -0.419848 -0.293069 -0.121734 -0.304573  1.023972   \n",
       "5  0.100305 -0.489350  1.076087 -0.293069  0.244598 -0.196775  0.559629   \n",
       "6 -0.367218 -0.489350  1.645324 -0.293069  0.628374 -0.667441  1.070766   \n",
       "7  0.598506 -0.489350  1.076087 -0.293069  1.230205  0.264780  1.092363   \n",
       "8 -0.386283 -0.489350  0.448275 -0.293069 -1.002674 -0.257506 -1.801679   \n",
       "9 -0.365641 -0.489350 -0.356767 -0.293069 -0.278733 -0.102642  0.818797   \n",
       "\n",
       "        DIS       RAD       TAX   PTRATIO         B     LSTAT  PRICE  \n",
       "0 -0.521000 -0.515333 -0.128730  1.122341  0.421753 -0.434456   27.5  \n",
       "1  1.256823 -0.515333 -0.044139 -1.502438  0.235998 -1.070420   37.0  \n",
       "2  0.039528 -0.632050 -0.612110 -0.028878  0.439806 -0.128251   16.2  \n",
       "3 -1.129552  1.702281  1.575181  0.799999 -2.442214  0.141151   23.1  \n",
       "4 -0.049411 -0.632050 -0.593983  1.168389 -1.170971  1.173121   13.5  \n",
       "5 -0.398253  1.702281  1.575181  0.799999  0.445026  0.576904   19.9  \n",
       "6 -1.053675 -0.632050  0.191508  1.260487  0.392171  1.317390   13.3  \n",
       "7 -1.026254  1.702281  1.575181  0.799999  0.391518  0.699092   13.1  \n",
       "8  0.787587 -0.632050 -0.702743 -1.134048  0.445026 -0.558116   23.9  \n",
       "9 -0.632751 -0.515333 -0.128730  1.122341  0.383362  0.467966   19.4  "
      ]
     },
     "execution_count": 113,
     "metadata": {},
     "output_type": "execute_result"
    }
   ],
   "source": [
    "# Convert it into pandas dataframe\n",
    "BostonDF = pd.DataFrame(x_train, columns = Boston.feature_names)\n",
    "BostonDF[\"PRICE\"] = y_train\n",
    "BostonDF.head(10)"
   ]
  },
  {
   "cell_type": "markdown",
   "metadata": {},
   "source": [
    "### Stochastic Gradient Decent(SGD) Manual Implementation "
   ]
  },
  {
   "cell_type": "code",
   "execution_count": 114,
   "metadata": {},
   "outputs": [],
   "source": [
    "def predict(x,w,b):\n",
    "    return (np.dot(x, w) + b)"
   ]
  },
  {
   "cell_type": "code",
   "execution_count": 115,
   "metadata": {},
   "outputs": [],
   "source": [
    "def mse(y1,y2):\n",
    "    totalError = 0\n",
    "    for i in range(0, len(y1)):\n",
    "        totalError += (y1[i]-y2[i]) ** 2\n",
    "    return totalError / len(y1)"
   ]
  },
  {
   "cell_type": "code",
   "execution_count": 116,
   "metadata": {},
   "outputs": [],
   "source": [
    "def stochastic_gradient_decent(w0, b0):\n",
    "    n_iter = 1000\n",
    "    deltaW = 0\n",
    "    deltaB = 0\n",
    "    r = 0.01\n",
    "    tempW = w0\n",
    "    batch_size = 15\n",
    "    for j in range(0, n_iter):\n",
    "        # sampling 15 random data sample from dataframe\n",
    "        mini_batch = BostonDF.sample(batch_size)\n",
    "        X = np.asmatrix(mini_batch.drop(\"PRICE\", axis = 1))\n",
    "        Y = np.asmatrix(mini_batch[\"PRICE\"])\n",
    "        \n",
    "        for i in range(len(X)):\n",
    "            # Gradient computation\n",
    "            temp = (Y[:,i] - np.dot(X[i] , w0) - b0)\n",
    "            deltaW += np.dot(-2*X[i].T , temp)\n",
    "            deltaB += -2*temp\n",
    "            \n",
    "        deltaW = deltaW/batch_size\n",
    "        deltaB = deltaB/batch_size\n",
    "        \n",
    "        # Weight updation\n",
    "        w0 = w0 - (r * deltaW)\n",
    "        b0 = b0 - (r * deltaB)\n",
    "        \n",
    "       # checking for convergence\n",
    "        if (abs(w0-tempW)<0.00001).all() and abs(b0-tempB)<0.00001:\n",
    "            break \n",
    "            \n",
    "        tempW = w0\n",
    "        tempB = b0\n",
    "#         r = r/2        \n",
    "        \n",
    "    return w0, b0"
   ]
  },
  {
   "cell_type": "code",
   "execution_count": 117,
   "metadata": {},
   "outputs": [],
   "source": [
    "# initial weights\n",
    "w0 = np.random.rand(13)\n",
    "w0 = np.asmatrix(w0).T\n",
    "\n",
    "# Initial intercept\n",
    "b0 = np.random.rand()\n",
    "\n",
    "# Computing optimal weights and intercept\n",
    "optimal_w, optimal_b = stochastic_gradient_decent(w0, b0)"
   ]
  },
  {
   "cell_type": "code",
   "execution_count": 119,
   "metadata": {},
   "outputs": [],
   "source": [
    "# Prediction over test database\n",
    "y_pred_SGD = []\n",
    "for i in x_test:\n",
    "    y_pred_SGD.append(predict(i,optimal_w,optimal_b))\n",
    "    \n",
    "delta_y_SGD = y_test - np.array(y_pred_SGD).reshape(152,)"
   ]
  },
  {
   "cell_type": "markdown",
   "metadata": {},
   "source": [
    "### Linear Regression Implementation with sklearn"
   ]
  },
  {
   "cell_type": "code",
   "execution_count": 120,
   "metadata": {},
   "outputs": [
    {
     "data": {
      "image/png": "[encoded data removed]",
      "text/plain": [
       "<Figure size 432x288 with 1 Axes>"
      ]
     },
     "metadata": {},
     "output_type": "display_data"
    }
   ],
   "source": [
    "# code source:https://medium.com/@haydar_ai/learning-data-science-day-9-linear-regression-on-boston-housing-dataset-cd62a80775ef\n",
    "from sklearn.linear_model import LinearRegression\n",
    "\n",
    "lm = LinearRegression()\n",
    "lm.fit(x_train, y_train)\n",
    "y_pred = lm.predict(x_test)\n",
    "\n",
    "plt.scatter(y_test, y_pred)\n",
    "plt.xlabel(\"Prices: $Y_i$\")\n",
    "plt.ylabel(\"Predicted prices: $\\hat{Y}_i$\")\n",
    "plt.title(\"Prices vs Predicted prices: $Y_i$ vs $\\hat{Y}_i$\")\n",
    "plt.show()"
   ]
  },
  {
   "cell_type": "markdown",
   "metadata": {},
   "source": [
    "#### Error Distribution"
   ]
  },
  {
   "cell_type": "code",
   "execution_count": 122,
   "metadata": {},
   "outputs": [
    {
     "data": {
      "image/png": "[encoded data removed]",
      "text/plain": [
       "<Figure size 432x288 with 1 Axes>"
      ]
     },
     "metadata": {},
     "output_type": "display_data"
    }
   ],
   "source": [
    "delta_y = y_test - y_pred;\n",
    "sns.set_style('whitegrid')\n",
    "sns.kdeplot(delta_y_SGD, label = \"Implemented SGD\", bw = 0.5)\n",
    "sns.kdeplot(delta_y, label = \"Sklearn Linear Regression\", bw = 0.5)\n",
    "plt.title(\"Distribution of error: $y_i$ - $\\hat{y}_i$\")\n",
    "plt.xlabel(\"Error\")\n",
    "plt.ylabel(\"Density\")\n",
    "plt.legend()\n",
    "plt.show()"
   ]
  },
  {
   "cell_type": "markdown",
   "metadata": {},
   "source": [
    "#### Prediction Distribution"
   ]
  },
  {
   "cell_type": "code",
   "execution_count": 123,
   "metadata": {},
   "outputs": [
    {
     "data": {
      "image/png": "[encoded data removed]",
      "text/plain": [
       "<Figure size 432x288 with 1 Axes>"
      ]
     },
     "metadata": {},
     "output_type": "display_data"
    }
   ],
   "source": [
    "sns.set_style('whitegrid')\n",
    "sns.kdeplot(np.array(y_pred_SGD).reshape(152,), label = \"Implemented SGD\", bw = 0.5)\n",
    "sns.kdeplot(np.array(y_pred).reshape(152,), label = \"Sklearn Linear Regression\", bw = 0.5)\n",
    "plt.title(\"Distribution of error: $y_i$ - $\\hat{y}_i$\")\n",
    "plt.xlabel(\"Error\")\n",
    "plt.ylabel(\"Density\")\n",
    "plt.legend()\n",
    "plt.show()"
   ]
  },
  {
   "cell_type": "markdown",
   "metadata": {},
   "source": [
    "#### Mean Square Error"
   ]
  },
  {
   "cell_type": "code",
   "execution_count": 124,
   "metadata": {},
   "outputs": [
    {
     "name": "stdout",
     "output_type": "stream",
     "text": [
      "Mean squared error Linear Regression with sklearn: 23.97\n",
      "Mean squared error for manual SGD implementation : 23.73\n"
     ]
    }
   ],
   "source": [
    "# The mean squared error\n",
    "print(\"Mean squared error Linear Regression with sklearn: %.2f\" % mean_squared_error(y_test, y_pred))\n",
    "print(\"Mean squared error for manual SGD implementation : %.2f\" % mse(y_test,np.array(y_pred_SGD).reshape(152,)))"
   ]
  },
  {
   "cell_type": "markdown",
   "metadata": {},
   "source": [
    " * Observation(s):\n",
    "     - From the graph we can interpret that implemented SGD and Sklearn's implemented models are giving approximately similar results.\n",
    "     - The mean squared error for implemented SGD is nearly same as sklearn implementation. \n",
    "     "
   ]
  },
  {
   "cell_type": "markdown",
   "metadata": {},
   "source": [
    "#### Conclusion"
   ]
  },
  {
   "cell_type": "code",
   "execution_count": 128,
   "metadata": {},
   "outputs": [
    {
     "name": "stdout",
     "output_type": "stream",
     "text": [
      "+--------------------------------+-------+\n",
      "|             Model              |  MSE  |\n",
      "+--------------------------------+-------+\n",
      "| Linear Regression With Sklearn | 23.97 |\n",
      "|  Custom Implementation of SGD  | 23.73 |\n",
      "+--------------------------------+-------+\n"
     ]
    }
   ],
   "source": [
    "from prettytable import PrettyTable\n",
    "x = PrettyTable()\n",
    "x.field_names = [\"Model\", \"MSE\"]\n",
    "x.add_row([\"Linear Regression With Sklearn\", 23.97])\n",
    "x.add_row([\"Custom Implementation of SGD\", 23.73])\n",
    "print(x)"
   ]
  }
 ],
 "metadata": {
  "kernelspec": {
   "display_name": "Python 3",
   "language": "python",
   "name": "python3"
  },
  "language_info": {
   "codemirror_mode": {
    "name": "ipython",
    "version": 3
   },
   "file_extension": ".py",
   "mimetype": "text/x-python",
   "name": "python",
   "nbconvert_exporter": "python",
   "pygments_lexer": "ipython3",
   "version": "3.6.7"
  }
 },
 "nbformat": 4,
 "nbformat_minor": 2
}
