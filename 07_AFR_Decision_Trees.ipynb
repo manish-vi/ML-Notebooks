{
 "cells": [
  {
   "cell_type": "markdown",
   "metadata": {
    "colab_type": "text",
    "id": "IXmtUCbYiWM3"
   },
   "source": [
    "# Amazon Fine Food Reviews Analysis\n",
    "\n",
    "\n",
    "Data Source: https://www.kaggle.com/snap/amazon-fine-food-reviews <br>\n",
    "\n",
    "EDA: https://nycdatascience.com/blog/student-works/amazon-fine-foods-visualization/\n",
    "\n",
    "\n",
    "The Amazon Fine Food Reviews dataset consists of reviews of fine foods from Amazon.<br>\n",
    "\n",
    "Number of reviews: 568,454<br>\n",
    "Number of users: 256,059<br>\n",
    "Number of products: 74,258<br>\n",
    "Timespan: Oct 1999 - Oct 2012<br>\n",
    "Number of Attributes/Columns in data: 10 \n",
    "\n",
    "Attribute Information:\n",
    "\n",
    "1. Id\n",
    "2. ProductId - unique identifier for the product\n",
    "3. UserId - unqiue identifier for the user\n",
    "4. ProfileName\n",
    "5. HelpfulnessNumerator - number of users who found the review helpful\n",
    "6. HelpfulnessDenominator - number of users who indicated whether they found the review helpful or not\n",
    "7. Score - rating between 1 and 5\n",
    "8. Time - timestamp for the review\n",
    "9. Summary - brief summary of the review\n",
    "10. Text - text of the review\n",
    "\n",
    "\n",
    "#### Objective:\n",
    "Given a review, determine whether the review is positive (rating of 4 or 5) or negative (rating of 1 or 2).\n",
    "\n",
    "<br>\n",
    "[Q] How to determine if a review is positive or negative?<br>\n",
    "<br> \n",
    "[Ans] We could use Score/Rating. A rating of 4 or 5 can be cosnidered as a positive review. A rating of 1 or 2 can be considered as negative one. A review of rating 3 is considered nuetral and such reviews are ignored from our analysis. This is an approximate and proxy way of determining the polarity (positivity/negativity) of a review.\n",
    "\n",
    "\n"
   ]
  },
  {
   "cell_type": "markdown",
   "metadata": {
    "colab_type": "text",
    "id": "syeYHDR_iWM7"
   },
   "source": [
    "# [1]. Reading Data"
   ]
  },
  {
   "cell_type": "markdown",
   "metadata": {
    "colab_type": "text",
    "id": "D_eZrQC0iWM9"
   },
   "source": [
    "## [1.1] Loading the data\n",
    "\n",
    "The dataset is available in two forms\n",
    "1. .csv file\n",
    "2. SQLite Database\n",
    "\n",
    "In order to load the data, We have used the SQLITE dataset as it is easier to query the data and visualise the data efficiently.\n",
    "<br> \n",
    "\n",
    "Here as we only want to get the global sentiment of the recommendations (positive or negative), we will purposefully ignore all Scores equal to 3. If the score is above 3, then the recommendation wil be set to \"positive\". Otherwise, it will be set to \"negative\"."
   ]
  },
  {
   "cell_type": "code",
   "execution_count": 1,
   "metadata": {
    "colab": {},
    "colab_type": "code",
    "id": "53fLFqf8iWNA"
   },
   "outputs": [],
   "source": [
    "%matplotlib inline\n",
    "import warnings\n",
    "warnings.filterwarnings(\"ignore\")\n",
    "\n",
    "import sqlite3\n",
    "from joblib import dump, load\n",
    "import pandas as pd\n",
    "import numpy as np\n",
    "import nltk\n",
    "import string\n",
    "import matplotlib.pyplot as plt\n",
    "import seaborn as sns\n",
    "from scipy import sparse\n",
    "from sklearn.tree import DecisionTreeClassifier\n",
    "from sklearn.model_selection import GridSearchCV\n",
    "from sklearn.feature_extraction.text import TfidfTransformer\n",
    "from sklearn.feature_extraction.text import TfidfVectorizer\n",
    "\n",
    "from sklearn.feature_extraction.text import CountVectorizer\n",
    "from sklearn.model_selection import train_test_split\n",
    "from sklearn import preprocessing\n",
    "\n",
    "from sklearn.metrics import confusion_matrix\n",
    "from sklearn import metrics\n",
    "from sklearn.metrics import roc_curve, auc\n",
    "from sklearn.metrics import accuracy_score\n",
    "from nltk.stem.porter import PorterStemmer\n",
    "\n",
    "import re\n",
    "# Tutorial about Python regular expressions: https://pymotw.com/2/re/\n",
    "import string\n",
    "from nltk.corpus import stopwords\n",
    "from nltk.stem import PorterStemmer\n",
    "from nltk.stem.wordnet import WordNetLemmatizer\n",
    "\n",
    "from gensim.models import Word2Vec\n",
    "from gensim.models import KeyedVectors\n",
    "import pickle\n",
    "\n",
    "from tqdm import tqdm\n",
    "import os\n",
    "import datetime"
   ]
  },
  {
   "cell_type": "code",
   "execution_count": 6,
   "metadata": {
    "colab": {},
    "colab_type": "code",
    "id": "j3kshrC-iWNI",
    "outputId": "07826916-2c3f-4a0a-e928-ddbc6d567a11"
   },
   "outputs": [
    {
     "name": "stdout",
     "output_type": "stream",
     "text": [
      "Number of data points in our data (525814, 10)\n"
     ]
    },
    {
     "data": {
      "text/html": [
       "<div>\n",
       "<style scoped>\n",
       "    .dataframe tbody tr th:only-of-type {\n",
       "        vertical-align: middle;\n",
       "    }\n",
       "\n",
       "    .dataframe tbody tr th {\n",
       "        vertical-align: top;\n",
       "    }\n",
       "\n",
       "    .dataframe thead th {\n",
       "        text-align: right;\n",
       "    }\n",
       "</style>\n",
       "<table border=\"1\" class=\"dataframe\">\n",
       "  <thead>\n",
       "    <tr style=\"text-align: right;\">\n",
       "      <th></th>\n",
       "      <th>Id</th>\n",
       "      <th>ProductId</th>\n",
       "      <th>UserId</th>\n",
       "      <th>ProfileName</th>\n",
       "      <th>HelpfulnessNumerator</th>\n",
       "      <th>HelpfulnessDenominator</th>\n",
       "      <th>Score</th>\n",
       "      <th>Time</th>\n",
       "      <th>Summary</th>\n",
       "      <th>Text</th>\n",
       "    </tr>\n",
       "  </thead>\n",
       "  <tbody>\n",
       "    <tr>\n",
       "      <th>0</th>\n",
       "      <td>1</td>\n",
       "      <td>B001E4KFG0</td>\n",
       "      <td>A3SGXH7AUHU8GW</td>\n",
       "      <td>delmartian</td>\n",
       "      <td>1</td>\n",
       "      <td>1</td>\n",
       "      <td>1</td>\n",
       "      <td>1303862400</td>\n",
       "      <td>Good Quality Dog Food</td>\n",
       "      <td>I have bought several of the Vitality canned d...</td>\n",
       "    </tr>\n",
       "    <tr>\n",
       "      <th>1</th>\n",
       "      <td>2</td>\n",
       "      <td>B00813GRG4</td>\n",
       "      <td>A1D87F6ZCVE5NK</td>\n",
       "      <td>dll pa</td>\n",
       "      <td>0</td>\n",
       "      <td>0</td>\n",
       "      <td>0</td>\n",
       "      <td>1346976000</td>\n",
       "      <td>Not as Advertised</td>\n",
       "      <td>Product arrived labeled as Jumbo Salted Peanut...</td>\n",
       "    </tr>\n",
       "    <tr>\n",
       "      <th>2</th>\n",
       "      <td>3</td>\n",
       "      <td>B000LQOCH0</td>\n",
       "      <td>ABXLMWJIXXAIN</td>\n",
       "      <td>Natalia Corres \"Natalia Corres\"</td>\n",
       "      <td>1</td>\n",
       "      <td>1</td>\n",
       "      <td>1</td>\n",
       "      <td>1219017600</td>\n",
       "      <td>\"Delight\" says it all</td>\n",
       "      <td>This is a confection that has been around a fe...</td>\n",
       "    </tr>\n",
       "  </tbody>\n",
       "</table>\n",
       "</div>"
      ],
      "text/plain": [
       "   Id   ProductId          UserId                      ProfileName  \\\n",
       "0   1  B001E4KFG0  A3SGXH7AUHU8GW                       delmartian   \n",
       "1   2  B00813GRG4  A1D87F6ZCVE5NK                           dll pa   \n",
       "2   3  B000LQOCH0   ABXLMWJIXXAIN  Natalia Corres \"Natalia Corres\"   \n",
       "\n",
       "   HelpfulnessNumerator  HelpfulnessDenominator  Score        Time  \\\n",
       "0                     1                       1      1  1303862400   \n",
       "1                     0                       0      0  1346976000   \n",
       "2                     1                       1      1  1219017600   \n",
       "\n",
       "                 Summary                                               Text  \n",
       "0  Good Quality Dog Food  I have bought several of the Vitality canned d...  \n",
       "1      Not as Advertised  Product arrived labeled as Jumbo Salted Peanut...  \n",
       "2  \"Delight\" says it all  This is a confection that has been around a fe...  "
      ]
     },
     "execution_count": 6,
     "metadata": {},
     "output_type": "execute_result"
    }
   ],
   "source": [
    "# using SQLite Table to read data.\n",
    "con = sqlite3.connect('D:\\\\AppliedAI\\\\Codebook\\\\Datasets\\\\database.sqlite') \n",
    "filtered_data = pd.read_sql_query(\"\"\" SELECT * FROM Reviews WHERE Score != 3 \"\"\", con) \n",
    "\n",
    "# Give reviews with Score>3 a positive rating(1), and reviews with a score<3 a negative rating(0).\n",
    "def partition(x):\n",
    "    if x < 3:\n",
    "        return 0\n",
    "    return 1\n",
    "\n",
    "#changing reviews with score less than 3 to be positive and vice-versa\n",
    "actualScore = filtered_data['Score']\n",
    "positiveNegative = actualScore.map(partition) \n",
    "filtered_data['Score'] = positiveNegative\n",
    "print(\"Number of data points in our data\", filtered_data.shape)\n",
    "filtered_data.head(3)"
   ]
  },
  {
   "cell_type": "code",
   "execution_count": 7,
   "metadata": {
    "colab": {},
    "colab_type": "code",
    "id": "-7Iy8yWfiWNR"
   },
   "outputs": [],
   "source": [
    "display = pd.read_sql_query(\"\"\"\n",
    "SELECT UserId, ProductId, ProfileName, Time, Score, Text, COUNT(*)\n",
    "FROM Reviews\n",
    "GROUP BY UserId\n",
    "HAVING COUNT(*)>1\n",
    "\"\"\", con)"
   ]
  },
  {
   "cell_type": "code",
   "execution_count": 8,
   "metadata": {
    "colab": {},
    "colab_type": "code",
    "id": "wuK6OYpOiWNV",
    "outputId": "5cb5082e-47b9-4d4b-cf90-fc6ffe0dceeb",
    "scrolled": true
   },
   "outputs": [
    {
     "name": "stdout",
     "output_type": "stream",
     "text": [
      "(80668, 7)\n"
     ]
    },
    {
     "data": {
      "text/html": [
       "<div>\n",
       "<style scoped>\n",
       "    .dataframe tbody tr th:only-of-type {\n",
       "        vertical-align: middle;\n",
       "    }\n",
       "\n",
       "    .dataframe tbody tr th {\n",
       "        vertical-align: top;\n",
       "    }\n",
       "\n",
       "    .dataframe thead th {\n",
       "        text-align: right;\n",
       "    }\n",
       "</style>\n",
       "<table border=\"1\" class=\"dataframe\">\n",
       "  <thead>\n",
       "    <tr style=\"text-align: right;\">\n",
       "      <th></th>\n",
       "      <th>UserId</th>\n",
       "      <th>ProductId</th>\n",
       "      <th>ProfileName</th>\n",
       "      <th>Time</th>\n",
       "      <th>Score</th>\n",
       "      <th>Text</th>\n",
       "      <th>COUNT(*)</th>\n",
       "    </tr>\n",
       "  </thead>\n",
       "  <tbody>\n",
       "    <tr>\n",
       "      <th>0</th>\n",
       "      <td>#oc-R115TNMSPFT9I7</td>\n",
       "      <td>B007Y59HVM</td>\n",
       "      <td>Breyton</td>\n",
       "      <td>1331510400</td>\n",
       "      <td>2</td>\n",
       "      <td>Overall its just OK when considering the price...</td>\n",
       "      <td>2</td>\n",
       "    </tr>\n",
       "    <tr>\n",
       "      <th>1</th>\n",
       "      <td>#oc-R11D9D7SHXIJB9</td>\n",
       "      <td>B005HG9ET0</td>\n",
       "      <td>Louis E. Emory \"hoppy\"</td>\n",
       "      <td>1342396800</td>\n",
       "      <td>5</td>\n",
       "      <td>My wife has recurring extreme muscle spasms, u...</td>\n",
       "      <td>3</td>\n",
       "    </tr>\n",
       "    <tr>\n",
       "      <th>2</th>\n",
       "      <td>#oc-R11DNU2NBKQ23Z</td>\n",
       "      <td>B007Y59HVM</td>\n",
       "      <td>Kim Cieszykowski</td>\n",
       "      <td>1348531200</td>\n",
       "      <td>1</td>\n",
       "      <td>This coffee is horrible and unfortunately not ...</td>\n",
       "      <td>2</td>\n",
       "    </tr>\n",
       "    <tr>\n",
       "      <th>3</th>\n",
       "      <td>#oc-R11O5J5ZVQE25C</td>\n",
       "      <td>B005HG9ET0</td>\n",
       "      <td>Penguin Chick</td>\n",
       "      <td>1346889600</td>\n",
       "      <td>5</td>\n",
       "      <td>This will be the bottle that you grab from the...</td>\n",
       "      <td>3</td>\n",
       "    </tr>\n",
       "    <tr>\n",
       "      <th>4</th>\n",
       "      <td>#oc-R12KPBODL2B5ZD</td>\n",
       "      <td>B007OSBE1U</td>\n",
       "      <td>Christopher P. Presta</td>\n",
       "      <td>1348617600</td>\n",
       "      <td>1</td>\n",
       "      <td>I didnt like this coffee. Instead of telling y...</td>\n",
       "      <td>2</td>\n",
       "    </tr>\n",
       "  </tbody>\n",
       "</table>\n",
       "</div>"
      ],
      "text/plain": [
       "               UserId   ProductId             ProfileName        Time  Score  \\\n",
       "0  #oc-R115TNMSPFT9I7  B007Y59HVM                 Breyton  1331510400      2   \n",
       "1  #oc-R11D9D7SHXIJB9  B005HG9ET0  Louis E. Emory \"hoppy\"  1342396800      5   \n",
       "2  #oc-R11DNU2NBKQ23Z  B007Y59HVM        Kim Cieszykowski  1348531200      1   \n",
       "3  #oc-R11O5J5ZVQE25C  B005HG9ET0           Penguin Chick  1346889600      5   \n",
       "4  #oc-R12KPBODL2B5ZD  B007OSBE1U   Christopher P. Presta  1348617600      1   \n",
       "\n",
       "                                                Text  COUNT(*)  \n",
       "0  Overall its just OK when considering the price...         2  \n",
       "1  My wife has recurring extreme muscle spasms, u...         3  \n",
       "2  This coffee is horrible and unfortunately not ...         2  \n",
       "3  This will be the bottle that you grab from the...         3  \n",
       "4  I didnt like this coffee. Instead of telling y...         2  "
      ]
     },
     "execution_count": 8,
     "metadata": {},
     "output_type": "execute_result"
    }
   ],
   "source": [
    "print(display.shape)\n",
    "display.head()"
   ]
  },
  {
   "cell_type": "code",
   "execution_count": 9,
   "metadata": {
    "colab": {},
    "colab_type": "code",
    "id": "OMKVKkH7iWNZ",
    "outputId": "acc9d31a-27a1-48a1-d2f2-ce1f2e511793"
   },
   "outputs": [
    {
     "data": {
      "text/html": [
       "<div>\n",
       "<style scoped>\n",
       "    .dataframe tbody tr th:only-of-type {\n",
       "        vertical-align: middle;\n",
       "    }\n",
       "\n",
       "    .dataframe tbody tr th {\n",
       "        vertical-align: top;\n",
       "    }\n",
       "\n",
       "    .dataframe thead th {\n",
       "        text-align: right;\n",
       "    }\n",
       "</style>\n",
       "<table border=\"1\" class=\"dataframe\">\n",
       "  <thead>\n",
       "    <tr style=\"text-align: right;\">\n",
       "      <th></th>\n",
       "      <th>UserId</th>\n",
       "      <th>ProductId</th>\n",
       "      <th>ProfileName</th>\n",
       "      <th>Time</th>\n",
       "      <th>Score</th>\n",
       "      <th>Text</th>\n",
       "      <th>COUNT(*)</th>\n",
       "    </tr>\n",
       "  </thead>\n",
       "  <tbody>\n",
       "    <tr>\n",
       "      <th>80638</th>\n",
       "      <td>AZY10LLTJ71NX</td>\n",
       "      <td>B006P7E5ZI</td>\n",
       "      <td>undertheshrine \"undertheshrine\"</td>\n",
       "      <td>1334707200</td>\n",
       "      <td>5</td>\n",
       "      <td>I was recommended to try green tea extract to ...</td>\n",
       "      <td>5</td>\n",
       "    </tr>\n",
       "  </tbody>\n",
       "</table>\n",
       "</div>"
      ],
      "text/plain": [
       "              UserId   ProductId                      ProfileName        Time  \\\n",
       "80638  AZY10LLTJ71NX  B006P7E5ZI  undertheshrine \"undertheshrine\"  1334707200   \n",
       "\n",
       "       Score                                               Text  COUNT(*)  \n",
       "80638      5  I was recommended to try green tea extract to ...         5  "
      ]
     },
     "execution_count": 9,
     "metadata": {},
     "output_type": "execute_result"
    }
   ],
   "source": [
    "display[display['UserId']=='AZY10LLTJ71NX']"
   ]
  },
  {
   "cell_type": "code",
   "execution_count": 10,
   "metadata": {
    "colab": {},
    "colab_type": "code",
    "id": "s37uqS_jiWNe",
    "outputId": "489f08d4-48a2-4e82-bfc1-4f982f35b2e4"
   },
   "outputs": [
    {
     "data": {
      "text/plain": [
       "393063"
      ]
     },
     "execution_count": 10,
     "metadata": {},
     "output_type": "execute_result"
    }
   ],
   "source": [
    "display['COUNT(*)'].sum()"
   ]
  },
  {
   "cell_type": "markdown",
   "metadata": {
    "colab_type": "text",
    "id": "efnNNqNfiWNh"
   },
   "source": [
    "#  [2] Exploratory Data Analysis"
   ]
  },
  {
   "cell_type": "markdown",
   "metadata": {
    "colab_type": "text",
    "id": "Eq0hnbxhiWNi"
   },
   "source": [
    "## [2.1] Data Cleaning: Deduplication\n",
    "\n",
    "It is observed (as shown in the table below) that the reviews data had many duplicate entries. Hence it was necessary to remove duplicates in order to get unbiased results for the analysis of the data.  Following is an example:"
   ]
  },
  {
   "cell_type": "code",
   "execution_count": 11,
   "metadata": {
    "colab": {},
    "colab_type": "code",
    "id": "3CKLJ2FFiWNj",
    "outputId": "c995e0c8-7ef1-48a0-d7a9-b0cc50efaa83",
    "scrolled": false
   },
   "outputs": [
    {
     "data": {
      "text/html": [
       "<div>\n",
       "<style scoped>\n",
       "    .dataframe tbody tr th:only-of-type {\n",
       "        vertical-align: middle;\n",
       "    }\n",
       "\n",
       "    .dataframe tbody tr th {\n",
       "        vertical-align: top;\n",
       "    }\n",
       "\n",
       "    .dataframe thead th {\n",
       "        text-align: right;\n",
       "    }\n",
       "</style>\n",
       "<table border=\"1\" class=\"dataframe\">\n",
       "  <thead>\n",
       "    <tr style=\"text-align: right;\">\n",
       "      <th></th>\n",
       "      <th>Id</th>\n",
       "      <th>ProductId</th>\n",
       "      <th>UserId</th>\n",
       "      <th>ProfileName</th>\n",
       "      <th>HelpfulnessNumerator</th>\n",
       "      <th>HelpfulnessDenominator</th>\n",
       "      <th>Score</th>\n",
       "      <th>Time</th>\n",
       "      <th>Summary</th>\n",
       "      <th>Text</th>\n",
       "    </tr>\n",
       "  </thead>\n",
       "  <tbody>\n",
       "    <tr>\n",
       "      <th>0</th>\n",
       "      <td>78445</td>\n",
       "      <td>B000HDL1RQ</td>\n",
       "      <td>AR5J8UI46CURR</td>\n",
       "      <td>Geetha Krishnan</td>\n",
       "      <td>2</td>\n",
       "      <td>2</td>\n",
       "      <td>5</td>\n",
       "      <td>1199577600</td>\n",
       "      <td>LOACKER QUADRATINI VANILLA WAFERS</td>\n",
       "      <td>DELICIOUS WAFERS. I FIND THAT EUROPEAN WAFERS ...</td>\n",
       "    </tr>\n",
       "    <tr>\n",
       "      <th>1</th>\n",
       "      <td>138317</td>\n",
       "      <td>B000HDOPYC</td>\n",
       "      <td>AR5J8UI46CURR</td>\n",
       "      <td>Geetha Krishnan</td>\n",
       "      <td>2</td>\n",
       "      <td>2</td>\n",
       "      <td>5</td>\n",
       "      <td>1199577600</td>\n",
       "      <td>LOACKER QUADRATINI VANILLA WAFERS</td>\n",
       "      <td>DELICIOUS WAFERS. I FIND THAT EUROPEAN WAFERS ...</td>\n",
       "    </tr>\n",
       "    <tr>\n",
       "      <th>2</th>\n",
       "      <td>138277</td>\n",
       "      <td>B000HDOPYM</td>\n",
       "      <td>AR5J8UI46CURR</td>\n",
       "      <td>Geetha Krishnan</td>\n",
       "      <td>2</td>\n",
       "      <td>2</td>\n",
       "      <td>5</td>\n",
       "      <td>1199577600</td>\n",
       "      <td>LOACKER QUADRATINI VANILLA WAFERS</td>\n",
       "      <td>DELICIOUS WAFERS. I FIND THAT EUROPEAN WAFERS ...</td>\n",
       "    </tr>\n",
       "    <tr>\n",
       "      <th>3</th>\n",
       "      <td>73791</td>\n",
       "      <td>B000HDOPZG</td>\n",
       "      <td>AR5J8UI46CURR</td>\n",
       "      <td>Geetha Krishnan</td>\n",
       "      <td>2</td>\n",
       "      <td>2</td>\n",
       "      <td>5</td>\n",
       "      <td>1199577600</td>\n",
       "      <td>LOACKER QUADRATINI VANILLA WAFERS</td>\n",
       "      <td>DELICIOUS WAFERS. I FIND THAT EUROPEAN WAFERS ...</td>\n",
       "    </tr>\n",
       "    <tr>\n",
       "      <th>4</th>\n",
       "      <td>155049</td>\n",
       "      <td>B000PAQ75C</td>\n",
       "      <td>AR5J8UI46CURR</td>\n",
       "      <td>Geetha Krishnan</td>\n",
       "      <td>2</td>\n",
       "      <td>2</td>\n",
       "      <td>5</td>\n",
       "      <td>1199577600</td>\n",
       "      <td>LOACKER QUADRATINI VANILLA WAFERS</td>\n",
       "      <td>DELICIOUS WAFERS. I FIND THAT EUROPEAN WAFERS ...</td>\n",
       "    </tr>\n",
       "  </tbody>\n",
       "</table>\n",
       "</div>"
      ],
      "text/plain": [
       "       Id   ProductId         UserId      ProfileName  HelpfulnessNumerator  \\\n",
       "0   78445  B000HDL1RQ  AR5J8UI46CURR  Geetha Krishnan                     2   \n",
       "1  138317  B000HDOPYC  AR5J8UI46CURR  Geetha Krishnan                     2   \n",
       "2  138277  B000HDOPYM  AR5J8UI46CURR  Geetha Krishnan                     2   \n",
       "3   73791  B000HDOPZG  AR5J8UI46CURR  Geetha Krishnan                     2   \n",
       "4  155049  B000PAQ75C  AR5J8UI46CURR  Geetha Krishnan                     2   \n",
       "\n",
       "   HelpfulnessDenominator  Score        Time  \\\n",
       "0                       2      5  1199577600   \n",
       "1                       2      5  1199577600   \n",
       "2                       2      5  1199577600   \n",
       "3                       2      5  1199577600   \n",
       "4                       2      5  1199577600   \n",
       "\n",
       "                             Summary  \\\n",
       "0  LOACKER QUADRATINI VANILLA WAFERS   \n",
       "1  LOACKER QUADRATINI VANILLA WAFERS   \n",
       "2  LOACKER QUADRATINI VANILLA WAFERS   \n",
       "3  LOACKER QUADRATINI VANILLA WAFERS   \n",
       "4  LOACKER QUADRATINI VANILLA WAFERS   \n",
       "\n",
       "                                                Text  \n",
       "0  DELICIOUS WAFERS. I FIND THAT EUROPEAN WAFERS ...  \n",
       "1  DELICIOUS WAFERS. I FIND THAT EUROPEAN WAFERS ...  \n",
       "2  DELICIOUS WAFERS. I FIND THAT EUROPEAN WAFERS ...  \n",
       "3  DELICIOUS WAFERS. I FIND THAT EUROPEAN WAFERS ...  \n",
       "4  DELICIOUS WAFERS. I FIND THAT EUROPEAN WAFERS ...  "
      ]
     },
     "execution_count": 11,
     "metadata": {},
     "output_type": "execute_result"
    }
   ],
   "source": [
    "display= pd.read_sql_query(\"\"\"\n",
    "SELECT *\n",
    "FROM Reviews\n",
    "WHERE Score != 3 AND UserId=\"AR5J8UI46CURR\"\n",
    "ORDER BY ProductID\n",
    "\"\"\", con)\n",
    "display.head()"
   ]
  },
  {
   "cell_type": "markdown",
   "metadata": {
    "colab_type": "text",
    "id": "GmHe67iviWNn"
   },
   "source": [
    "As it can be seen above that same user has multiple reviews with same values for HelpfulnessNumerator, HelpfulnessDenominator, Score, Time, Summary and Text and on doing analysis it was found that <br>\n",
    "<br> \n",
    "ProductId=B000HDOPZG was Loacker Quadratini Vanilla Wafer Cookies, 8.82-Ounce Packages (Pack of 8)<br>\n",
    "<br> \n",
    "ProductId=B000HDL1RQ was Loacker Quadratini Lemon Wafer Cookies, 8.82-Ounce Packages (Pack of 8) and so on<br>\n",
    "\n",
    "It was inferred after analysis that reviews with same parameters other than ProductId belonged to the same product just having different flavour or quantity. Hence in order to reduce redundancy it was decided to eliminate the rows having same parameters.<br>\n",
    "\n",
    "The method used for the same was that we first sort the data according to ProductId and then just keep the first similar product review and delelte the others. for eg. in the above just the review for ProductId=B000HDL1RQ remains. This method ensures that there is only one representative for each product and deduplication without sorting would lead to possibility of different representatives still existing for the same product."
   ]
  },
  {
   "cell_type": "code",
   "execution_count": 12,
   "metadata": {
    "colab": {},
    "colab_type": "code",
    "id": "wgmdXIJviWNn"
   },
   "outputs": [],
   "source": [
    "#Sorting data according to ProductId in ascending order\n",
    "sorted_data=filtered_data.sort_values('ProductId', axis=0, ascending=True, inplace=False, kind='quicksort', na_position='last')"
   ]
  },
  {
   "cell_type": "code",
   "execution_count": 13,
   "metadata": {
    "colab": {},
    "colab_type": "code",
    "id": "ComjQ0rHiWNp",
    "outputId": "1c155404-4bb7-4078-c46b-1a9a33ac0602"
   },
   "outputs": [
    {
     "data": {
      "text/plain": [
       "(364173, 10)"
      ]
     },
     "execution_count": 13,
     "metadata": {},
     "output_type": "execute_result"
    }
   ],
   "source": [
    "#Deduplication of entries\n",
    "final=sorted_data.drop_duplicates(subset={\"UserId\",\"ProfileName\",\"Time\",\"Text\"}, keep='first', inplace=False)\n",
    "final.shape"
   ]
  },
  {
   "cell_type": "code",
   "execution_count": 14,
   "metadata": {
    "colab": {},
    "colab_type": "code",
    "id": "yFrWiU23iWNt",
    "outputId": "b9d26952-d8af-4fbb-eb3d-c6a28abcc029"
   },
   "outputs": [
    {
     "data": {
      "text/plain": [
       "69.25890143662969"
      ]
     },
     "execution_count": 14,
     "metadata": {},
     "output_type": "execute_result"
    }
   ],
   "source": [
    "#Checking to see how much % of data still remains\n",
    "(final['Id'].size*1.0)/(filtered_data['Id'].size*1.0)*100"
   ]
  },
  {
   "cell_type": "markdown",
   "metadata": {
    "colab_type": "text",
    "id": "g4lvCHn6iWNw"
   },
   "source": [
    "<b>Observation:-</b> It was also seen that in two rows given below the value of HelpfulnessNumerator is greater than HelpfulnessDenominator which is not practically possible hence these two rows too are removed from calcualtions"
   ]
  },
  {
   "cell_type": "code",
   "execution_count": 18,
   "metadata": {
    "colab": {},
    "colab_type": "code",
    "id": "6ehzwEdgiWNw",
    "outputId": "60e18da4-784f-49d8-84b7-59823cfa3e85"
   },
   "outputs": [
    {
     "data": {
      "text/html": [
       "<div>\n",
       "<style scoped>\n",
       "    .dataframe tbody tr th:only-of-type {\n",
       "        vertical-align: middle;\n",
       "    }\n",
       "\n",
       "    .dataframe tbody tr th {\n",
       "        vertical-align: top;\n",
       "    }\n",
       "\n",
       "    .dataframe thead th {\n",
       "        text-align: right;\n",
       "    }\n",
       "</style>\n",
       "<table border=\"1\" class=\"dataframe\">\n",
       "  <thead>\n",
       "    <tr style=\"text-align: right;\">\n",
       "      <th></th>\n",
       "      <th>Id</th>\n",
       "      <th>ProductId</th>\n",
       "      <th>UserId</th>\n",
       "      <th>ProfileName</th>\n",
       "      <th>HelpfulnessNumerator</th>\n",
       "      <th>HelpfulnessDenominator</th>\n",
       "      <th>Score</th>\n",
       "      <th>Time</th>\n",
       "      <th>Summary</th>\n",
       "      <th>Text</th>\n",
       "    </tr>\n",
       "  </thead>\n",
       "  <tbody>\n",
       "    <tr>\n",
       "      <th>0</th>\n",
       "      <td>64422</td>\n",
       "      <td>B000MIDROQ</td>\n",
       "      <td>A161DK06JJMCYF</td>\n",
       "      <td>J. E. Stephens \"Jeanne\"</td>\n",
       "      <td>3</td>\n",
       "      <td>1</td>\n",
       "      <td>5</td>\n",
       "      <td>1224892800</td>\n",
       "      <td>Bought This for My Son at College</td>\n",
       "      <td>My son loves spaghetti so I didn't hesitate or...</td>\n",
       "    </tr>\n",
       "    <tr>\n",
       "      <th>1</th>\n",
       "      <td>44737</td>\n",
       "      <td>B001EQ55RW</td>\n",
       "      <td>A2V0I904FH7ABY</td>\n",
       "      <td>Ram</td>\n",
       "      <td>3</td>\n",
       "      <td>2</td>\n",
       "      <td>4</td>\n",
       "      <td>1212883200</td>\n",
       "      <td>Pure cocoa taste with crunchy almonds inside</td>\n",
       "      <td>It was almost a 'love at first bite' - the per...</td>\n",
       "    </tr>\n",
       "  </tbody>\n",
       "</table>\n",
       "</div>"
      ],
      "text/plain": [
       "      Id   ProductId          UserId              ProfileName  \\\n",
       "0  64422  B000MIDROQ  A161DK06JJMCYF  J. E. Stephens \"Jeanne\"   \n",
       "1  44737  B001EQ55RW  A2V0I904FH7ABY                      Ram   \n",
       "\n",
       "   HelpfulnessNumerator  HelpfulnessDenominator  Score        Time  \\\n",
       "0                     3                       1      5  1224892800   \n",
       "1                     3                       2      4  1212883200   \n",
       "\n",
       "                                        Summary  \\\n",
       "0             Bought This for My Son at College   \n",
       "1  Pure cocoa taste with crunchy almonds inside   \n",
       "\n",
       "                                                Text  \n",
       "0  My son loves spaghetti so I didn't hesitate or...  \n",
       "1  It was almost a 'love at first bite' - the per...  "
      ]
     },
     "execution_count": 18,
     "metadata": {},
     "output_type": "execute_result"
    }
   ],
   "source": [
    "display= pd.read_sql_query(\"\"\"\n",
    "SELECT *\n",
    "FROM Reviews\n",
    "WHERE Score != 3 AND Id=44737 OR Id=64422\n",
    "ORDER BY ProductID\n",
    "\"\"\", con)\n",
    "\n",
    "display.head()"
   ]
  },
  {
   "cell_type": "code",
   "execution_count": 19,
   "metadata": {
    "colab": {},
    "colab_type": "code",
    "id": "EBa1d6gViWNz"
   },
   "outputs": [],
   "source": [
    "final=final[final.HelpfulnessNumerator<=final.HelpfulnessDenominator]"
   ]
  },
  {
   "cell_type": "code",
   "execution_count": 17,
   "metadata": {
    "colab": {},
    "colab_type": "code",
    "id": "KNQ01asjiWN1",
    "outputId": "0d2433fb-dd33-41cd-a18d-110d776f60b4"
   },
   "outputs": [
    {
     "name": "stdout",
     "output_type": "stream",
     "text": [
      "(364171, 10)\n"
     ]
    },
    {
     "data": {
      "text/plain": [
       "1    307061\n",
       "0     57110\n",
       "Name: Score, dtype: int64"
      ]
     },
     "execution_count": 17,
     "metadata": {},
     "output_type": "execute_result"
    }
   ],
   "source": [
    "#Before starting the next phase of preprocessing lets see the number of entries left\n",
    "print(final.shape)\n",
    "\n",
    "#How many positive and negative reviews are present in our dataset?\n",
    "final['Score'].value_counts()"
   ]
  },
  {
   "cell_type": "code",
   "execution_count": 20,
   "metadata": {},
   "outputs": [],
   "source": [
    "reviewDF = final.sort_values('Time', axis=0, ascending=True, inplace=False, kind='quicksort', na_position='last')\n",
    "reviewDF = reviewDF[:100000]"
   ]
  },
  {
   "cell_type": "code",
   "execution_count": 21,
   "metadata": {},
   "outputs": [],
   "source": [
    "# Saving dataframe to make sure we are processing same dataset(Train, Test, Cv) across various models.\n",
    "reviewDF.to_pickle('reviewDF')"
   ]
  },
  {
   "cell_type": "markdown",
   "metadata": {
    "colab_type": "text",
    "id": "92IZ5ea0iWN4"
   },
   "source": [
    "#  [3] Preprocessing"
   ]
  },
  {
   "cell_type": "markdown",
   "metadata": {
    "colab_type": "text",
    "id": "NTwQITJKiWN5"
   },
   "source": [
    "## [3.1].  Preprocessing Review Text\n",
    "\n",
    "Now that we have finished deduplication our data requires some preprocessing before we go on further with analysis and making the prediction model.\n",
    "\n",
    "Hence in the Preprocessing phase we do the following in the order below:-\n",
    "\n",
    "1. Begin by removing the html tags\n",
    "2. Remove any punctuations or limited set of special characters like , or . or # etc.\n",
    "3. Check if the word is made up of english letters and is not alpha-numeric\n",
    "4. Check to see if the length of the word is greater than 2 (as it was researched that there is no adjective in 2-letters)\n",
    "5. Convert the word to lowercase\n",
    "6. Remove Stopwords\n",
    "7. Finally Snowball Stemming the word (it was obsereved to be better than Porter Stemming)<br>\n",
    "\n",
    "After which we collect the words used to describe positive and negative reviews"
   ]
  },
  {
   "cell_type": "code",
   "execution_count": 2,
   "metadata": {},
   "outputs": [],
   "source": [
    "reviewDF = pd.read_pickle('reviewDF')"
   ]
  },
  {
   "cell_type": "code",
   "execution_count": 3,
   "metadata": {
    "colab": {},
    "colab_type": "code",
    "id": "qzIaKh8niWOC"
   },
   "outputs": [],
   "source": [
    "# https://stackoverflow.com/a/47091490/4084039\n",
    "import re\n",
    "\n",
    "def decontracted(phrase):\n",
    "    # specific\n",
    "    phrase = re.sub(r\"won't\", \"will not\", phrase)\n",
    "    phrase = re.sub(r\"can\\'t\", \"can not\", phrase)\n",
    "\n",
    "    # general\n",
    "    phrase = re.sub(r\"n\\'t\", \" not\", phrase)\n",
    "    phrase = re.sub(r\"\\'re\", \" are\", phrase)\n",
    "    phrase = re.sub(r\"\\'s\", \" is\", phrase)\n",
    "    phrase = re.sub(r\"\\'d\", \" would\", phrase)\n",
    "    phrase = re.sub(r\"\\'ll\", \" will\", phrase)\n",
    "    phrase = re.sub(r\"\\'t\", \" not\", phrase)\n",
    "    phrase = re.sub(r\"\\'ve\", \" have\", phrase)\n",
    "    phrase = re.sub(r\"\\'m\", \" am\", phrase)\n",
    "    return phrase"
   ]
  },
  {
   "cell_type": "code",
   "execution_count": 4,
   "metadata": {
    "colab": {},
    "colab_type": "code",
    "id": "MfzZtIP1iWOL"
   },
   "outputs": [],
   "source": [
    "# https://gist.github.com/sebleier/554280\n",
    "# we are removing the words from the stop words list: 'no', 'nor', 'not'\n",
    "# <br /><br /> ==> after the above steps, we are getting \"br br\"\n",
    "# we are including them into stop words list\n",
    "# instead of <br /> if we have <br/> these tags would have revmoved in the 1st step\n",
    "\n",
    "stopwords= set(['br', 'the', 'i', 'me', 'my', 'myself', 'we', 'our', 'ours', 'ourselves', 'you', \"you're\", \"you've\",\\\n",
    "            \"you'll\", \"you'd\", 'your', 'yours', 'yourself', 'yourselves', 'he', 'him', 'his', 'himself', \\\n",
    "            'she', \"she's\", 'her', 'hers', 'herself', 'it', \"it's\", 'its', 'itself', 'they', 'them', 'their',\\\n",
    "            'theirs', 'themselves', 'what', 'which', 'who', 'whom', 'this', 'that', \"that'll\", 'these', 'those', \\\n",
    "            'am', 'is', 'are', 'was', 'were', 'be', 'been', 'being', 'have', 'has', 'had', 'having', 'do', 'does', \\\n",
    "            'did', 'doing', 'a', 'an', 'the', 'and', 'but', 'if', 'or', 'because', 'as', 'until', 'while', 'of', \\\n",
    "            'at', 'by', 'for', 'with', 'about', 'against', 'between', 'into', 'through', 'during', 'before', 'after',\\\n",
    "            'above', 'below', 'to', 'from', 'up', 'down', 'in', 'out', 'on', 'off', 'over', 'under', 'again', 'further',\\\n",
    "            'then', 'once', 'here', 'there', 'when', 'where', 'why', 'how', 'all', 'any', 'both', 'each', 'few', 'more',\\\n",
    "            'most', 'other', 'some', 'such', 'only', 'own', 'same', 'so', 'than', 'too', 'very', \\\n",
    "            's', 't', 'can', 'will', 'just', 'don', \"don't\", 'should', \"should've\", 'now', 'd', 'll', 'm', 'o', 're', \\\n",
    "            've', 'y', 'ain', 'aren', \"aren't\", 'couldn', \"couldn't\", 'didn', \"didn't\", 'doesn', \"doesn't\", 'hadn',\\\n",
    "            \"hadn't\", 'hasn', \"hasn't\", 'haven', \"haven't\", 'isn', \"isn't\", 'ma', 'mightn', \"mightn't\", 'mustn',\\\n",
    "            \"mustn't\", 'needn', \"needn't\", 'shan', \"shan't\", 'shouldn', \"shouldn't\", 'wasn', \"wasn't\", 'weren', \"weren't\", \\\n",
    "            'won', \"won't\", 'wouldn', \"wouldn't\"])"
   ]
  },
  {
   "cell_type": "code",
   "execution_count": 5,
   "metadata": {
    "colab": {},
    "colab_type": "code",
    "id": "g1C43tjNiWOM",
    "outputId": "a997afc9-894c-4a56-d538-dadea8a21e6d"
   },
   "outputs": [
    {
     "name": "stderr",
     "output_type": "stream",
     "text": [
      "100%|██████████| 100000/100000 [00:46<00:00, 2164.24it/s]\n"
     ]
    }
   ],
   "source": [
    "# Combining all the above stundents \n",
    "from bs4 import BeautifulSoup\n",
    "from tqdm import tqdm\n",
    "preprocessed_reviews = []\n",
    "rLength = []\n",
    "# tqdm is for printing the status bar\n",
    "for sentance in tqdm(reviewDF['Text'].values):\n",
    "    sentance = re.sub(r\"http\\S+\", \"\", sentance)\n",
    "    sentance = BeautifulSoup(sentance, 'html').get_text()\n",
    "    sentance = decontracted(sentance)\n",
    "    sentance = re.sub(\"\\S*\\d\\S*\", \"\", sentance).strip()\n",
    "    sentance = re.sub('[^A-Za-z]+', ' ', sentance)\n",
    "    # https://gist.github.com/sebleier/554280\n",
    "    sentance = ' '.join(e.lower() for e in sentance.split() if e.lower() not in stopwords)\n",
    "    preprocessed_reviews.append(sentance.strip())\n",
    "    rLength.append(len(sentance.split(' ')))"
   ]
  },
  {
   "cell_type": "code",
   "execution_count": 6,
   "metadata": {
    "colab": {},
    "colab_type": "code",
    "id": "MWDrCFxViWOP",
    "outputId": "5618c9c3-a86a-42a4-e9c4-d24d93fd5a7a"
   },
   "outputs": [
    {
     "data": {
      "text/plain": [
       "'japanese version breadcrumb pan bread portuguese loan word ko child derived panko used katsudon tonkatsu cutlets served rice soups cutlets pounded chicken pork coated light crispy crumbs fried not gritty dense like regular crumbs nice deep fried shrimps decorative gourmet touch'"
      ]
     },
     "execution_count": 6,
     "metadata": {},
     "output_type": "execute_result"
    }
   ],
   "source": [
    "preprocessed_reviews[150]"
   ]
  },
  {
   "cell_type": "markdown",
   "metadata": {
    "colab_type": "text",
    "id": "IwObBT2UiWOr"
   },
   "source": [
    "# [5] Assignment 8: Decision Trees"
   ]
  },
  {
   "cell_type": "markdown",
   "metadata": {
    "colab_type": "text",
    "id": "k_mwmumRiWOr"
   },
   "source": [
    "<ol>\n",
    "    <li><strong>Apply Decision Trees on these feature sets</strong>\n",
    "        <ul>\n",
    "            <li><font color='red'>SET 1:</font>Review text, preprocessed one converted into vectors using (BOW)</li>\n",
    "            <li><font color='red'>SET 2:</font>Review text, preprocessed one converted into vectors using (TFIDF)</li>\n",
    "            <li><font color='red'>SET 3:</font>Review text, preprocessed one converted into vectors using (AVG W2v)</li>\n",
    "            <li><font color='red'>SET 4:</font>Review text, preprocessed one converted into vectors using (TFIDF W2v)</li>\n",
    "        </ul>\n",
    "    </li>\n",
    "    <br>\n",
    "    <li><strong>The hyper paramter tuning (best `depth` in range [1, 5, 10, 50, 100, 500, 100], and the best `min_samples_split` in range [5, 10, 100, 500])</strong>\n",
    "        <ul>\n",
    "    <li>Find the best hyper parameter which will give the maximum <a href='https://www.appliedaicourse.com/course/applied-ai-course-online/lessons/receiver-operating-characteristic-curve-roc-curve-and-auc-1/'>AUC</a> value</li>\n",
    "    <li>Find the best hyper paramter using k-fold cross validation or simple cross validation data</li>\n",
    "    <li>Use gridsearch cv or randomsearch cv or you can also write your own for loops to do this task of hyperparameter tuning</li>          \n",
    "        </ul>\n",
    "    </li>\n",
    "    <br>\n",
    "    <li><strong>Graphviz</strong>\n",
    "        <ul>\n",
    "    <li>Visualize your decision tree with Graphviz. It helps you to understand how a decision is being made, given a new vector.</li>\n",
    "    <li>Since feature names are not obtained from word2vec related models, visualize only BOW & TFIDF decision trees using Graphviz</li>\n",
    "    <li>Make sure to print the words in each node of the decision tree instead of printing its index.</li>\n",
    "    <li>Just for visualization purpose, limit max_depth to 2 or 3 and either embed the generated images of graphviz in your notebook, or directly upload them as .png files.</li>                \n",
    "        </ul>\n",
    "    </li>\n",
    "    <br>\n",
    "    <li><strong>Feature importance</strong>\n",
    "        <ul>\n",
    "    <li>Find the top 20 important features from both feature sets <font color='red'>Set 1</font> and <font color='red'>Set 2</font> using `feature_importances_` method of <a href='https://scikit-learn.org/stable/modules/generated/sklearn.tree.DecisionTreeClassifier.html'>Decision Tree Classifier</a> and print their corresponding feature names</li>\n",
    "        </ul>\n",
    "    </li>\n",
    "    <br>\n",
    "    <li><strong>Feature engineering</strong>\n",
    "        <ul>\n",
    "    <li>To increase the performance of your model, you can also experiment with with feature engineering like :</li>\n",
    "            <ul>\n",
    "            <li>Taking length of reviews as another feature.</li>\n",
    "            <li>Considering some features from review summary as well.</li>\n",
    "        </ul>\n",
    "        </ul>\n",
    "    </li>\n",
    "    <br>\n",
    "    <li><strong>Representation of results</strong>\n",
    "        <ul>\n",
    "    <li>You need to plot the performance of model both on train data and cross validation data for each hyper parameter, like shown in the figure.\n",
    "    <img src='../Datasets/train_cv_auc.JPG' width=300px></li>\n",
    "    <li>Once after you found the best hyper parameter, you need to train your model with it, and find the AUC on test data and plot the ROC curve on both train and test.\n",
    "    <img src='../Datasets/train_test_auc.JPG' width=300px></li>\n",
    "    <li>Along with plotting ROC curve, you need to print the <a href='https://www.appliedaicourse.com/course/applied-ai-course-online/lessons/confusion-matrix-tpr-fpr-fnr-tnr-1/'>confusion matrix</a> with predicted and original labels of test data points. Please visualize your confusion matrices using <a href='https://seaborn.pydata.org/generated/seaborn.heatmap.html'>seaborn heatmaps.\n",
    "    <img src='../Datasets/confusion_matrix.png' width=300px></li>\n",
    "        </ul>\n",
    "    </li>\n",
    "    <br>\n",
    "    <li><strong>Conclusion</strong>\n",
    "        <ul>\n",
    "    <li>You need to summarize the results at the end of the notebook, summarize it in the table format. To print out a table please refer to this prettytable library<a href='http://zetcode.com/python/prettytable/'>  link</a> \n",
    "        <img src='../Datasets/summary.JPG' width=400px>\n",
    "    </li>\n",
    "        </ul>\n",
    "</ol>"
   ]
  },
  {
   "cell_type": "markdown",
   "metadata": {
    "colab_type": "text",
    "id": "uqhvv_IiiWOs"
   },
   "source": [
    "<h4><font color='red'>Note: Data Leakage</font></h4>\n",
    "\n",
    "1. There will be an issue of data-leakage if you vectorize the entire data and then split it into train/cv/test.\n",
    "2. To avoid the issue of data-leakag, make sure to split your data first and then vectorize it. \n",
    "3. While vectorizing your data, apply the method fit_transform() on you train data, and apply the method transform() on cv/test data.\n",
    "4. For more details please go through this <a href='https://soundcloud.com/applied-ai-course/leakage-bow-and-tfidf'>link.</a>"
   ]
  },
  {
   "cell_type": "markdown",
   "metadata": {
    "colab_type": "text",
    "id": "ayLYlocviWOs"
   },
   "source": [
    "# Applying Decision Trees"
   ]
  },
  {
   "cell_type": "code",
   "execution_count": 2,
   "metadata": {},
   "outputs": [],
   "source": [
    "# Save to file in the current working directory\n",
    "def saveModel(fileName,model):  \n",
    "    with open(fileName, 'wb') as file:  \n",
    "        pickle.dump(model, file)\n"
   ]
  },
  {
   "cell_type": "code",
   "execution_count": 2,
   "metadata": {},
   "outputs": [],
   "source": [
    "# Load from file\n",
    "def getModel(pkl_filename):\n",
    "    with open(pkl_filename, 'rb') as file:  \n",
    "        pickle_model = pickle.load(file)\n",
    "    return pickle_model"
   ]
  },
  {
   "cell_type": "markdown",
   "metadata": {
    "colab_type": "text",
    "id": "fvKQwJMWiWOt"
   },
   "source": [
    "## [5.1] Applying Decision Trees on BOW,<font color='red'> SET 1</font>"
   ]
  },
  {
   "cell_type": "code",
   "execution_count": 9,
   "metadata": {},
   "outputs": [],
   "source": [
    "#Forming separate datafrmae\n",
    "Dataset = pd.DataFrame(\n",
    "    {'Review': preprocessed_reviews,\n",
    "     'length': rLength,\n",
    "     'Score' : reviewDF['Score']\n",
    "    })\n",
    "X = Dataset.iloc[:,:2].values\n",
    "Y = Dataset.Score.values\n",
    "\n",
    "X_train, X_test, y_train, y_test = train_test_split(X, Y, test_size=0.33)\n",
    "\n",
    "X_trainText = np.array(X_train[:,:1])\n",
    "X_trainText = X_trainText.reshape(X_trainText.shape[0],)\n",
    "\n",
    "X_testText  = np.array(X_test[:,:1])\n",
    "X_testText  = X_testText.reshape(X_testText.shape[0],) "
   ]
  },
  {
   "cell_type": "code",
   "execution_count": 10,
   "metadata": {},
   "outputs": [
    {
     "name": "stdout",
     "output_type": "stream",
     "text": [
      "Train Data Size:  (67000, 37738)\n",
      "Test Data Size:   (33000, 37738)\n"
     ]
    }
   ],
   "source": [
    "vectorizer = CountVectorizer(ngram_range=(1,2), min_df=10) \n",
    "vectorizer.fit(X_trainText)\n",
    "\n",
    "X_train_bow = vectorizer.transform(X_trainText)\n",
    "X_train_bow = preprocessing.normalize(X_train_bow)\n",
    "print(\"Train Data Size: \",X_train_bow.shape)\n",
    "\n",
    "X_test_bow = vectorizer.transform(X_testText)\n",
    "X_test_bow = preprocessing.normalize(X_test_bow)\n",
    "print(\"Test Data Size:  \",X_test_bow.shape)"
   ]
  },
  {
   "cell_type": "code",
   "execution_count": 11,
   "metadata": {},
   "outputs": [
    {
     "name": "stdout",
     "output_type": "stream",
     "text": [
      "Fitting 10 folds for each of 28 candidates, totalling 280 fits\n",
      "[CV] max_depth=1, min_samples_split=5 ................................\n"
     ]
    },
    {
     "name": "stderr",
     "output_type": "stream",
     "text": [
      "[Parallel(n_jobs=1)]: Using backend SequentialBackend with 1 concurrent workers.\n"
     ]
    },
    {
     "name": "stdout",
     "output_type": "stream",
     "text": [
      "[CV]  max_depth=1, min_samples_split=5, score=0.6012845261299082, total=   0.5s\n",
      "[CV] max_depth=1, min_samples_split=5 ................................\n"
     ]
    },
    {
     "name": "stderr",
     "output_type": "stream",
     "text": [
      "[Parallel(n_jobs=1)]: Done   1 out of   1 | elapsed:    0.5s remaining:    0.0s\n"
     ]
    },
    {
     "name": "stdout",
     "output_type": "stream",
     "text": [
      "[CV]  max_depth=1, min_samples_split=5, score=0.6052080730338014, total=   0.5s\n",
      "[CV] max_depth=1, min_samples_split=5 ................................\n"
     ]
    },
    {
     "name": "stderr",
     "output_type": "stream",
     "text": [
      "[Parallel(n_jobs=1)]: Done   2 out of   2 | elapsed:    1.1s remaining:    0.0s\n"
     ]
    },
    {
     "name": "stdout",
     "output_type": "stream",
     "text": [
      "[CV]  max_depth=1, min_samples_split=5, score=0.599237947090476, total=   0.4s\n",
      "[CV] max_depth=1, min_samples_split=5 ................................\n"
     ]
    },
    {
     "name": "stderr",
     "output_type": "stream",
     "text": [
      "[Parallel(n_jobs=1)]: Done   3 out of   3 | elapsed:    1.6s remaining:    0.0s\n"
     ]
    },
    {
     "name": "stdout",
     "output_type": "stream",
     "text": [
      "[CV]  max_depth=1, min_samples_split=5, score=0.6034493675104304, total=   0.5s\n",
      "[CV] max_depth=1, min_samples_split=5 ................................\n"
     ]
    },
    {
     "name": "stderr",
     "output_type": "stream",
     "text": [
      "[Parallel(n_jobs=1)]: Done   4 out of   4 | elapsed:    2.1s remaining:    0.0s\n"
     ]
    },
    {
     "name": "stdout",
     "output_type": "stream",
     "text": [
      "[CV]  max_depth=1, min_samples_split=5, score=0.5992088881779769, total=   0.4s\n",
      "[CV] max_depth=1, min_samples_split=5 ................................\n"
     ]
    },
    {
     "name": "stderr",
     "output_type": "stream",
     "text": [
      "[Parallel(n_jobs=1)]: Done   5 out of   5 | elapsed:    2.6s remaining:    0.0s\n"
     ]
    },
    {
     "name": "stdout",
     "output_type": "stream",
     "text": [
      "[CV]  max_depth=1, min_samples_split=5, score=0.6019914423961291, total=   0.4s\n",
      "[CV] max_depth=1, min_samples_split=5 ................................\n"
     ]
    },
    {
     "name": "stderr",
     "output_type": "stream",
     "text": [
      "[Parallel(n_jobs=1)]: Done   6 out of   6 | elapsed:    3.1s remaining:    0.0s\n"
     ]
    },
    {
     "name": "stdout",
     "output_type": "stream",
     "text": [
      "[CV]  max_depth=1, min_samples_split=5, score=0.6058328667972968, total=   0.4s\n",
      "[CV] max_depth=1, min_samples_split=5 ................................\n"
     ]
    },
    {
     "name": "stderr",
     "output_type": "stream",
     "text": [
      "[Parallel(n_jobs=1)]: Done   7 out of   7 | elapsed:    3.6s remaining:    0.0s\n"
     ]
    },
    {
     "name": "stdout",
     "output_type": "stream",
     "text": [
      "[CV]  max_depth=1, min_samples_split=5, score=0.5940505186155238, total=   0.4s\n",
      "[CV] max_depth=1, min_samples_split=5 ................................\n"
     ]
    },
    {
     "name": "stderr",
     "output_type": "stream",
     "text": [
      "[Parallel(n_jobs=1)]: Done   8 out of   8 | elapsed:    4.1s remaining:    0.0s\n"
     ]
    },
    {
     "name": "stdout",
     "output_type": "stream",
     "text": [
      "[CV]  max_depth=1, min_samples_split=5, score=0.6018353817986178, total=   0.4s\n",
      "[CV] max_depth=1, min_samples_split=5 ................................\n"
     ]
    },
    {
     "name": "stderr",
     "output_type": "stream",
     "text": [
      "[Parallel(n_jobs=1)]: Done   9 out of   9 | elapsed:    4.6s remaining:    0.0s\n"
     ]
    },
    {
     "name": "stdout",
     "output_type": "stream",
     "text": [
      "[CV]  max_depth=1, min_samples_split=5, score=0.6137761549465537, total=   0.4s\n",
      "[CV] max_depth=1, min_samples_split=10 ...............................\n",
      "[CV]  max_depth=1, min_samples_split=10, score=0.6012845261299082, total=   0.4s\n",
      "[CV] max_depth=1, min_samples_split=10 ...............................\n",
      "[CV]  max_depth=1, min_samples_split=10, score=0.6052080730338014, total=   0.4s\n",
      "[CV] max_depth=1, min_samples_split=10 ...............................\n",
      "[CV]  max_depth=1, min_samples_split=10, score=0.599237947090476, total=   0.4s\n",
      "[CV] max_depth=1, min_samples_split=10 ...............................\n",
      "[CV]  max_depth=1, min_samples_split=10, score=0.6034493675104304, total=   0.4s\n",
      "[CV] max_depth=1, min_samples_split=10 ...............................\n",
      "[CV]  max_depth=1, min_samples_split=10, score=0.5992088881779769, total=   0.4s\n",
      "[CV] max_depth=1, min_samples_split=10 ...............................\n",
      "[CV]  max_depth=1, min_samples_split=10, score=0.6019914423961291, total=   0.4s\n",
      "[CV] max_depth=1, min_samples_split=10 ...............................\n",
      "[CV]  max_depth=1, min_samples_split=10, score=0.6058328667972968, total=   0.4s\n",
      "[CV] max_depth=1, min_samples_split=10 ...............................\n",
      "[CV]  max_depth=1, min_samples_split=10, score=0.5940505186155238, total=   0.4s\n",
      "[CV] max_depth=1, min_samples_split=10 ...............................\n",
      "[CV]  max_depth=1, min_samples_split=10, score=0.6018353817986178, total=   0.4s\n",
      "[CV] max_depth=1, min_samples_split=10 ...............................\n",
      "[CV]  max_depth=1, min_samples_split=10, score=0.6137761549465537, total=   0.4s\n",
      "[CV] max_depth=1, min_samples_split=100 ..............................\n",
      "[CV]  max_depth=1, min_samples_split=100, score=0.6012845261299082, total=   0.4s\n",
      "[CV] max_depth=1, min_samples_split=100 ..............................\n",
      "[CV]  max_depth=1, min_samples_split=100, score=0.6052080730338014, total=   0.4s\n",
      "[CV] max_depth=1, min_samples_split=100 ..............................\n",
      "[CV]  max_depth=1, min_samples_split=100, score=0.599237947090476, total=   0.4s\n",
      "[CV] max_depth=1, min_samples_split=100 ..............................\n",
      "[CV]  max_depth=1, min_samples_split=100, score=0.6034493675104304, total=   0.4s\n",
      "[CV] max_depth=1, min_samples_split=100 ..............................\n",
      "[CV]  max_depth=1, min_samples_split=100, score=0.5992088881779769, total=   0.4s\n",
      "[CV] max_depth=1, min_samples_split=100 ..............................\n",
      "[CV]  max_depth=1, min_samples_split=100, score=0.6019914423961291, total=   0.4s\n",
      "[CV] max_depth=1, min_samples_split=100 ..............................\n",
      "[CV]  max_depth=1, min_samples_split=100, score=0.6058328667972968, total=   0.4s\n",
      "[CV] max_depth=1, min_samples_split=100 ..............................\n",
      "[CV]  max_depth=1, min_samples_split=100, score=0.5940505186155238, total=   0.4s\n",
      "[CV] max_depth=1, min_samples_split=100 ..............................\n",
      "[CV]  max_depth=1, min_samples_split=100, score=0.6018353817986178, total=   0.4s\n",
      "[CV] max_depth=1, min_samples_split=100 ..............................\n",
      "[CV]  max_depth=1, min_samples_split=100, score=0.6137761549465537, total=   0.5s\n",
      "[CV] max_depth=1, min_samples_split=500 ..............................\n",
      "[CV]  max_depth=1, min_samples_split=500, score=0.6012845261299082, total=   0.4s\n",
      "[CV] max_depth=1, min_samples_split=500 ..............................\n",
      "[CV]  max_depth=1, min_samples_split=500, score=0.6052080730338014, total=   0.5s\n",
      "[CV] max_depth=1, min_samples_split=500 ..............................\n",
      "[CV]  max_depth=1, min_samples_split=500, score=0.599237947090476, total=   0.4s\n",
      "[CV] max_depth=1, min_samples_split=500 ..............................\n",
      "[CV]  max_depth=1, min_samples_split=500, score=0.6034493675104304, total=   0.4s\n",
      "[CV] max_depth=1, min_samples_split=500 ..............................\n",
      "[CV]  max_depth=1, min_samples_split=500, score=0.5992088881779769, total=   0.4s\n",
      "[CV] max_depth=1, min_samples_split=500 ..............................\n",
      "[CV]  max_depth=1, min_samples_split=500, score=0.6019914423961291, total=   0.4s\n",
      "[CV] max_depth=1, min_samples_split=500 ..............................\n",
      "[CV]  max_depth=1, min_samples_split=500, score=0.6058328667972968, total=   0.4s\n",
      "[CV] max_depth=1, min_samples_split=500 ..............................\n",
      "[CV]  max_depth=1, min_samples_split=500, score=0.5940505186155238, total=   0.4s\n",
      "[CV] max_depth=1, min_samples_split=500 ..............................\n",
      "[CV]  max_depth=1, min_samples_split=500, score=0.6018353817986178, total=   0.4s\n",
      "[CV] max_depth=1, min_samples_split=500 ..............................\n",
      "[CV]  max_depth=1, min_samples_split=500, score=0.6137761549465537, total=   0.4s\n",
      "[CV] max_depth=5, min_samples_split=5 ................................\n",
      "[CV]  max_depth=5, min_samples_split=5, score=0.6649222433238375, total=   1.8s\n",
      "[CV] max_depth=5, min_samples_split=5 ................................\n",
      "[CV]  max_depth=5, min_samples_split=5, score=0.6608586552717945, total=   1.9s\n",
      "[CV] max_depth=5, min_samples_split=5 ................................\n",
      "[CV]  max_depth=5, min_samples_split=5, score=0.6541469880220566, total=   1.8s\n",
      "[CV] max_depth=5, min_samples_split=5 ................................\n",
      "[CV]  max_depth=5, min_samples_split=5, score=0.6548055086242519, total=   1.8s\n",
      "[CV] max_depth=5, min_samples_split=5 ................................\n",
      "[CV]  max_depth=5, min_samples_split=5, score=0.6613938722157796, total=   1.8s\n",
      "[CV] max_depth=5, min_samples_split=5 ................................\n",
      "[CV]  max_depth=5, min_samples_split=5, score=0.6690228819263938, total=   1.8s\n",
      "[CV] max_depth=5, min_samples_split=5 ................................\n",
      "[CV]  max_depth=5, min_samples_split=5, score=0.6573803085136162, total=   1.8s\n",
      "[CV] max_depth=5, min_samples_split=5 ................................\n",
      "[CV]  max_depth=5, min_samples_split=5, score=0.6551407998398485, total=   1.8s\n",
      "[CV] max_depth=5, min_samples_split=5 ................................\n",
      "[CV]  max_depth=5, min_samples_split=5, score=0.6642822586362934, total=   1.8s\n",
      "[CV] max_depth=5, min_samples_split=5 ................................\n",
      "[CV]  max_depth=5, min_samples_split=5, score=0.6663843510320177, total=   1.8s\n",
      "[CV] max_depth=5, min_samples_split=10 ...............................\n",
      "[CV]  max_depth=5, min_samples_split=10, score=0.6649222433238375, total=   1.8s\n",
      "[CV] max_depth=5, min_samples_split=10 ...............................\n",
      "[CV]  max_depth=5, min_samples_split=10, score=0.6608586552717945, total=   1.8s\n",
      "[CV] max_depth=5, min_samples_split=10 ...............................\n",
      "[CV]  max_depth=5, min_samples_split=10, score=0.6541469880220566, total=   2.0s\n",
      "[CV] max_depth=5, min_samples_split=10 ...............................\n",
      "[CV]  max_depth=5, min_samples_split=10, score=0.6548055086242519, total=   1.8s\n",
      "[CV] max_depth=5, min_samples_split=10 ...............................\n",
      "[CV]  max_depth=5, min_samples_split=10, score=0.6613938722157796, total=   1.8s\n",
      "[CV] max_depth=5, min_samples_split=10 ...............................\n",
      "[CV]  max_depth=5, min_samples_split=10, score=0.6690228819263938, total=   1.9s\n",
      "[CV] max_depth=5, min_samples_split=10 ...............................\n",
      "[CV]  max_depth=5, min_samples_split=10, score=0.6573803085136162, total=   1.9s\n",
      "[CV] max_depth=5, min_samples_split=10 ...............................\n",
      "[CV]  max_depth=5, min_samples_split=10, score=0.6551407998398485, total=   1.9s\n",
      "[CV] max_depth=5, min_samples_split=10 ...............................\n",
      "[CV]  max_depth=5, min_samples_split=10, score=0.6642822586362934, total=   1.8s\n",
      "[CV] max_depth=5, min_samples_split=10 ...............................\n",
      "[CV]  max_depth=5, min_samples_split=10, score=0.6663843510320177, total=   1.8s\n",
      "[CV] max_depth=5, min_samples_split=100 ..............................\n",
      "[CV]  max_depth=5, min_samples_split=100, score=0.664758150498942, total=   1.8s\n",
      "[CV] max_depth=5, min_samples_split=100 ..............................\n",
      "[CV]  max_depth=5, min_samples_split=100, score=0.6620767529611676, total=   1.8s\n",
      "[CV] max_depth=5, min_samples_split=100 ..............................\n",
      "[CV]  max_depth=5, min_samples_split=100, score=0.6543288853349326, total=   1.7s\n",
      "[CV] max_depth=5, min_samples_split=100 ..............................\n"
     ]
    },
    {
     "name": "stdout",
     "output_type": "stream",
     "text": [
      "[CV]  max_depth=5, min_samples_split=100, score=0.6548041548366457, total=   1.8s\n",
      "[CV] max_depth=5, min_samples_split=100 ..............................\n",
      "[CV]  max_depth=5, min_samples_split=100, score=0.661724821216726, total=   1.8s\n",
      "[CV] max_depth=5, min_samples_split=100 ..............................\n",
      "[CV]  max_depth=5, min_samples_split=100, score=0.6693566426400607, total=   1.9s\n",
      "[CV] max_depth=5, min_samples_split=100 ..............................\n",
      "[CV]  max_depth=5, min_samples_split=100, score=0.6582820351968115, total=   1.9s\n",
      "[CV] max_depth=5, min_samples_split=100 ..............................\n",
      "[CV]  max_depth=5, min_samples_split=100, score=0.655207008295346, total=   2.0s\n",
      "[CV] max_depth=5, min_samples_split=100 ..............................\n",
      "[CV]  max_depth=5, min_samples_split=100, score=0.6642901827978964, total=   1.7s\n",
      "[CV] max_depth=5, min_samples_split=100 ..............................\n",
      "[CV]  max_depth=5, min_samples_split=100, score=0.6662139815575566, total=   1.8s\n",
      "[CV] max_depth=5, min_samples_split=500 ..............................\n",
      "[CV]  max_depth=5, min_samples_split=500, score=0.6644938944141803, total=   1.7s\n",
      "[CV] max_depth=5, min_samples_split=500 ..............................\n",
      "[CV]  max_depth=5, min_samples_split=500, score=0.6616812017925268, total=   1.7s\n",
      "[CV] max_depth=5, min_samples_split=500 ..............................\n",
      "[CV]  max_depth=5, min_samples_split=500, score=0.6542484007196762, total=   1.6s\n",
      "[CV] max_depth=5, min_samples_split=500 ..............................\n",
      "[CV]  max_depth=5, min_samples_split=500, score=0.6543383477626266, total=   1.7s\n",
      "[CV] max_depth=5, min_samples_split=500 ..............................\n",
      "[CV]  max_depth=5, min_samples_split=500, score=0.6626919462550487, total=   1.7s\n",
      "[CV] max_depth=5, min_samples_split=500 ..............................\n",
      "[CV]  max_depth=5, min_samples_split=500, score=0.6692587533823862, total=   1.7s\n",
      "[CV] max_depth=5, min_samples_split=500 ..............................\n",
      "[CV]  max_depth=5, min_samples_split=500, score=0.6579180746057771, total=   1.6s\n",
      "[CV] max_depth=5, min_samples_split=500 ..............................\n",
      "[CV]  max_depth=5, min_samples_split=500, score=0.6562849028039021, total=   1.6s\n",
      "[CV] max_depth=5, min_samples_split=500 ..............................\n",
      "[CV]  max_depth=5, min_samples_split=500, score=0.6650489212713693, total=   1.8s\n",
      "[CV] max_depth=5, min_samples_split=500 ..............................\n",
      "[CV]  max_depth=5, min_samples_split=500, score=0.6671926155155083, total=   1.9s\n",
      "[CV] max_depth=10, min_samples_split=5 ...............................\n",
      "[CV]  max_depth=10, min_samples_split=5, score=0.7444206357139287, total=   5.1s\n",
      "[CV] max_depth=10, min_samples_split=5 ...............................\n",
      "[CV]  max_depth=10, min_samples_split=5, score=0.7488008521165476, total=   4.5s\n",
      "[CV] max_depth=10, min_samples_split=5 ...............................\n",
      "[CV]  max_depth=10, min_samples_split=5, score=0.7580416937378179, total=   4.4s\n",
      "[CV] max_depth=10, min_samples_split=5 ...............................\n",
      "[CV]  max_depth=10, min_samples_split=5, score=0.7563618645112703, total=   4.7s\n",
      "[CV] max_depth=10, min_samples_split=5 ...............................\n",
      "[CV]  max_depth=10, min_samples_split=5, score=0.7384942632729502, total=   4.5s\n",
      "[CV] max_depth=10, min_samples_split=5 ...............................\n",
      "[CV]  max_depth=10, min_samples_split=5, score=0.7335401295970461, total=   4.6s\n",
      "[CV] max_depth=10, min_samples_split=5 ...............................\n",
      "[CV]  max_depth=10, min_samples_split=5, score=0.7573809541661668, total=   4.5s\n",
      "[CV] max_depth=10, min_samples_split=5 ...............................\n",
      "[CV]  max_depth=10, min_samples_split=5, score=0.7448906882759944, total=   4.5s\n",
      "[CV] max_depth=10, min_samples_split=5 ...............................\n",
      "[CV]  max_depth=10, min_samples_split=5, score=0.7470279180725103, total=   4.5s\n",
      "[CV] max_depth=10, min_samples_split=5 ...............................\n",
      "[CV]  max_depth=10, min_samples_split=5, score=0.7465534067638975, total=   4.4s\n",
      "[CV] max_depth=10, min_samples_split=10 ..............................\n",
      "[CV]  max_depth=10, min_samples_split=10, score=0.7499851108667767, total=   4.6s\n",
      "[CV] max_depth=10, min_samples_split=10 ..............................\n",
      "[CV]  max_depth=10, min_samples_split=10, score=0.7518068952304796, total=   4.4s\n",
      "[CV] max_depth=10, min_samples_split=10 ..............................\n",
      "[CV]  max_depth=10, min_samples_split=10, score=0.7529783472437402, total=   4.4s\n",
      "[CV] max_depth=10, min_samples_split=10 ..............................\n",
      "[CV]  max_depth=10, min_samples_split=10, score=0.7582991345756521, total=   4.7s\n",
      "[CV] max_depth=10, min_samples_split=10 ..............................\n",
      "[CV]  max_depth=10, min_samples_split=10, score=0.7426996482651524, total=   4.4s\n",
      "[CV] max_depth=10, min_samples_split=10 ..............................\n",
      "[CV]  max_depth=10, min_samples_split=10, score=0.7391903183775211, total=   4.4s\n",
      "[CV] max_depth=10, min_samples_split=10 ..............................\n",
      "[CV]  max_depth=10, min_samples_split=10, score=0.7590335122832275, total=   4.5s\n",
      "[CV] max_depth=10, min_samples_split=10 ..............................\n",
      "[CV]  max_depth=10, min_samples_split=10, score=0.7463665633745251, total=   4.4s\n",
      "[CV] max_depth=10, min_samples_split=10 ..............................\n",
      "[CV]  max_depth=10, min_samples_split=10, score=0.7524098835148245, total=   4.6s\n",
      "[CV] max_depth=10, min_samples_split=10 ..............................\n",
      "[CV]  max_depth=10, min_samples_split=10, score=0.7478473389414154, total=   4.4s\n",
      "[CV] max_depth=10, min_samples_split=100 .............................\n",
      "[CV]  max_depth=10, min_samples_split=100, score=0.7603091109000949, total=   4.0s\n",
      "[CV] max_depth=10, min_samples_split=100 .............................\n",
      "[CV]  max_depth=10, min_samples_split=100, score=0.7602847468639111, total=   4.0s\n",
      "[CV] max_depth=10, min_samples_split=100 .............................\n",
      "[CV]  max_depth=10, min_samples_split=100, score=0.7634456161394039, total=   4.1s\n",
      "[CV] max_depth=10, min_samples_split=100 .............................\n",
      "[CV]  max_depth=10, min_samples_split=100, score=0.7735653808600258, total=   4.1s\n",
      "[CV] max_depth=10, min_samples_split=100 .............................\n",
      "[CV]  max_depth=10, min_samples_split=100, score=0.7654277635595367, total=   3.9s\n",
      "[CV] max_depth=10, min_samples_split=100 .............................\n",
      "[CV]  max_depth=10, min_samples_split=100, score=0.754743775909412, total=   3.9s\n",
      "[CV] max_depth=10, min_samples_split=100 .............................\n",
      "[CV]  max_depth=10, min_samples_split=100, score=0.7701910131829754, total=   4.1s\n",
      "[CV] max_depth=10, min_samples_split=100 .............................\n",
      "[CV]  max_depth=10, min_samples_split=100, score=0.7598706901944757, total=   3.8s\n",
      "[CV] max_depth=10, min_samples_split=100 .............................\n",
      "[CV]  max_depth=10, min_samples_split=100, score=0.7584534121856923, total=   4.0s\n",
      "[CV] max_depth=10, min_samples_split=100 .............................\n",
      "[CV]  max_depth=10, min_samples_split=100, score=0.7565827887209986, total=   3.8s\n",
      "[CV] max_depth=10, min_samples_split=500 .............................\n",
      "[CV]  max_depth=10, min_samples_split=500, score=0.7626122411581454, total=   3.4s\n",
      "[CV] max_depth=10, min_samples_split=500 .............................\n",
      "[CV]  max_depth=10, min_samples_split=500, score=0.761936087094141, total=   3.5s\n",
      "[CV] max_depth=10, min_samples_split=500 .............................\n",
      "[CV]  max_depth=10, min_samples_split=500, score=0.7695712970829792, total=   3.5s\n",
      "[CV] max_depth=10, min_samples_split=500 .............................\n",
      "[CV]  max_depth=10, min_samples_split=500, score=0.7731484142773357, total=   3.5s\n",
      "[CV] max_depth=10, min_samples_split=500 .............................\n",
      "[CV]  max_depth=10, min_samples_split=500, score=0.7690616419069327, total=   3.5s\n",
      "[CV] max_depth=10, min_samples_split=500 .............................\n",
      "[CV]  max_depth=10, min_samples_split=500, score=0.7564020615894216, total=   3.5s\n",
      "[CV] max_depth=10, min_samples_split=500 .............................\n",
      "[CV]  max_depth=10, min_samples_split=500, score=0.7672460044520868, total=   3.5s\n",
      "[CV] max_depth=10, min_samples_split=500 .............................\n"
     ]
    },
    {
     "name": "stdout",
     "output_type": "stream",
     "text": [
      "[CV]  max_depth=10, min_samples_split=500, score=0.7615858541203555, total=   3.4s\n",
      "[CV] max_depth=10, min_samples_split=500 .............................\n",
      "[CV]  max_depth=10, min_samples_split=500, score=0.7624381185537987, total=   3.5s\n",
      "[CV] max_depth=10, min_samples_split=500 .............................\n",
      "[CV]  max_depth=10, min_samples_split=500, score=0.7614504135161173, total=   3.4s\n",
      "[CV] max_depth=50, min_samples_split=5 ...............................\n",
      "[CV]  max_depth=50, min_samples_split=5, score=0.7103514876638846, total=  31.7s\n",
      "[CV] max_depth=50, min_samples_split=5 ...............................\n",
      "[CV]  max_depth=50, min_samples_split=5, score=0.7226918719909374, total=  31.3s\n",
      "[CV] max_depth=50, min_samples_split=5 ...............................\n",
      "[CV]  max_depth=50, min_samples_split=5, score=0.698466211038366, total=  30.6s\n",
      "[CV] max_depth=50, min_samples_split=5 ...............................\n",
      "[CV]  max_depth=50, min_samples_split=5, score=0.7196036151544234, total=  32.6s\n",
      "[CV] max_depth=50, min_samples_split=5 ...............................\n",
      "[CV]  max_depth=50, min_samples_split=5, score=0.6994154136841684, total=  30.6s\n",
      "[CV] max_depth=50, min_samples_split=5 ...............................\n",
      "[CV]  max_depth=50, min_samples_split=5, score=0.6754309834912892, total=  31.3s\n",
      "[CV] max_depth=50, min_samples_split=5 ...............................\n",
      "[CV]  max_depth=50, min_samples_split=5, score=0.7098767553418377, total=  31.9s\n",
      "[CV] max_depth=50, min_samples_split=5 ...............................\n",
      "[CV]  max_depth=50, min_samples_split=5, score=0.724264304154346, total=  30.4s\n",
      "[CV] max_depth=50, min_samples_split=5 ...............................\n",
      "[CV]  max_depth=50, min_samples_split=5, score=0.7110955987538213, total=  31.2s\n",
      "[CV] max_depth=50, min_samples_split=5 ...............................\n",
      "[CV]  max_depth=50, min_samples_split=5, score=0.720399190067272, total=  29.5s\n",
      "[CV] max_depth=50, min_samples_split=10 ..............................\n",
      "[CV]  max_depth=50, min_samples_split=10, score=0.7264287320705682, total=  30.2s\n",
      "[CV] max_depth=50, min_samples_split=10 ..............................\n",
      "[CV]  max_depth=50, min_samples_split=10, score=0.7301158228797041, total=  29.9s\n",
      "[CV] max_depth=50, min_samples_split=10 ..............................\n",
      "[CV]  max_depth=50, min_samples_split=10, score=0.7147181684908458, total=  29.7s\n",
      "[CV] max_depth=50, min_samples_split=10 ..............................\n",
      "[CV]  max_depth=50, min_samples_split=10, score=0.7292407084349715, total=  31.7s\n",
      "[CV] max_depth=50, min_samples_split=10 ..............................\n",
      "[CV]  max_depth=50, min_samples_split=10, score=0.7087993486823689, total=  29.7s\n",
      "[CV] max_depth=50, min_samples_split=10 ..............................\n",
      "[CV]  max_depth=50, min_samples_split=10, score=0.7057432252302689, total=  29.6s\n",
      "[CV] max_depth=50, min_samples_split=10 ..............................\n",
      "[CV]  max_depth=50, min_samples_split=10, score=0.7029897253768944, total=  31.0s\n",
      "[CV] max_depth=50, min_samples_split=10 ..............................\n",
      "[CV]  max_depth=50, min_samples_split=10, score=0.7319049684493251, total=  29.4s\n",
      "[CV] max_depth=50, min_samples_split=10 ..............................\n",
      "[CV]  max_depth=50, min_samples_split=10, score=0.7294739190817983, total=  30.6s\n",
      "[CV] max_depth=50, min_samples_split=10 ..............................\n",
      "[CV]  max_depth=50, min_samples_split=10, score=0.7248409954415218, total=  29.4s\n",
      "[CV] max_depth=50, min_samples_split=100 .............................\n",
      "[CV]  max_depth=50, min_samples_split=100, score=0.7938782756093091, total=  25.6s\n",
      "[CV] max_depth=50, min_samples_split=100 .............................\n",
      "[CV]  max_depth=50, min_samples_split=100, score=0.7855566036950039, total=  26.0s\n",
      "[CV] max_depth=50, min_samples_split=100 .............................\n",
      "[CV]  max_depth=50, min_samples_split=100, score=0.780075320272544, total=  25.1s\n",
      "[CV] max_depth=50, min_samples_split=100 .............................\n",
      "[CV]  max_depth=50, min_samples_split=100, score=0.7951740179416431, total=  27.0s\n",
      "[CV] max_depth=50, min_samples_split=100 .............................\n",
      "[CV]  max_depth=50, min_samples_split=100, score=0.7928271750576505, total=  24.8s\n",
      "[CV] max_depth=50, min_samples_split=100 .............................\n",
      "[CV]  max_depth=50, min_samples_split=100, score=0.751323379453753, total=  26.0s\n",
      "[CV] max_depth=50, min_samples_split=100 .............................\n",
      "[CV]  max_depth=50, min_samples_split=100, score=0.7758646329027872, total=  27.3s\n",
      "[CV] max_depth=50, min_samples_split=100 .............................\n",
      "[CV]  max_depth=50, min_samples_split=100, score=0.79012993539723, total=  26.4s\n",
      "[CV] max_depth=50, min_samples_split=100 .............................\n",
      "[CV]  max_depth=50, min_samples_split=100, score=0.7839964257860559, total=  26.7s\n",
      "[CV] max_depth=50, min_samples_split=100 .............................\n",
      "[CV]  max_depth=50, min_samples_split=100, score=0.8006512409654128, total=  25.0s\n",
      "[CV] max_depth=50, min_samples_split=500 .............................\n",
      "[CV]  max_depth=50, min_samples_split=500, score=0.8210176254019026, total=  22.5s\n",
      "[CV] max_depth=50, min_samples_split=500 .............................\n",
      "[CV]  max_depth=50, min_samples_split=500, score=0.8204133140086962, total=  22.8s\n",
      "[CV] max_depth=50, min_samples_split=500 .............................\n",
      "[CV]  max_depth=50, min_samples_split=500, score=0.810513081613274, total=  21.4s\n",
      "[CV] max_depth=50, min_samples_split=500 .............................\n",
      "[CV]  max_depth=50, min_samples_split=500, score=0.8197576553565002, total=  23.3s\n",
      "[CV] max_depth=50, min_samples_split=500 .............................\n",
      "[CV]  max_depth=50, min_samples_split=500, score=0.8290107936444462, total=  21.1s\n",
      "[CV] max_depth=50, min_samples_split=500 .............................\n",
      "[CV]  max_depth=50, min_samples_split=500, score=0.787685906279575, total=  22.4s\n",
      "[CV] max_depth=50, min_samples_split=500 .............................\n",
      "[CV]  max_depth=50, min_samples_split=500, score=0.8028980010597035, total=  22.8s\n",
      "[CV] max_depth=50, min_samples_split=500 .............................\n",
      "[CV]  max_depth=50, min_samples_split=500, score=0.8214521651728927, total=  21.9s\n",
      "[CV] max_depth=50, min_samples_split=500 .............................\n",
      "[CV]  max_depth=50, min_samples_split=500, score=0.8081315452532187, total=  22.9s\n",
      "[CV] max_depth=50, min_samples_split=500 .............................\n",
      "[CV]  max_depth=50, min_samples_split=500, score=0.8128132650465232, total=  22.1s\n",
      "[CV] max_depth=100, min_samples_split=5 ..............................\n",
      "[CV]  max_depth=100, min_samples_split=5, score=0.6819072042580838, total=  50.1s\n",
      "[CV] max_depth=100, min_samples_split=5 ..............................\n",
      "[CV]  max_depth=100, min_samples_split=5, score=0.6877397879287654, total=  50.1s\n",
      "[CV] max_depth=100, min_samples_split=5 ..............................\n",
      "[CV]  max_depth=100, min_samples_split=5, score=0.6747576090759158, total=  50.2s\n",
      "[CV] max_depth=100, min_samples_split=5 ..............................\n",
      "[CV]  max_depth=100, min_samples_split=5, score=0.7000256594820117, total=  50.8s\n",
      "[CV] max_depth=100, min_samples_split=5 ..............................\n",
      "[CV]  max_depth=100, min_samples_split=5, score=0.6765707685181483, total=  53.0s\n",
      "[CV] max_depth=100, min_samples_split=5 ..............................\n",
      "[CV]  max_depth=100, min_samples_split=5, score=0.6832734750936404, total=  52.1s\n",
      "[CV] max_depth=100, min_samples_split=5 ..............................\n",
      "[CV]  max_depth=100, min_samples_split=5, score=0.6835009114114714, total=  52.1s\n",
      "[CV] max_depth=100, min_samples_split=5 ..............................\n",
      "[CV]  max_depth=100, min_samples_split=5, score=0.7006977432821877, total=  49.5s\n",
      "[CV] max_depth=100, min_samples_split=5 ..............................\n",
      "[CV]  max_depth=100, min_samples_split=5, score=0.6696225179649085, total=  51.7s\n",
      "[CV] max_depth=100, min_samples_split=5 ..............................\n",
      "[CV]  max_depth=100, min_samples_split=5, score=0.6973961830564742, total=  50.6s\n",
      "[CV] max_depth=100, min_samples_split=10 .............................\n",
      "[CV]  max_depth=100, min_samples_split=10, score=0.6998945266296833, total=  51.6s\n",
      "[CV] max_depth=100, min_samples_split=10 .............................\n"
     ]
    },
    {
     "name": "stdout",
     "output_type": "stream",
     "text": [
      "[CV]  max_depth=100, min_samples_split=10, score=0.6956613274026688, total=  52.4s\n",
      "[CV] max_depth=100, min_samples_split=10 .............................\n",
      "[CV]  max_depth=100, min_samples_split=10, score=0.6899683684008863, total=  50.8s\n",
      "[CV] max_depth=100, min_samples_split=10 .............................\n",
      "[CV]  max_depth=100, min_samples_split=10, score=0.7117937185921275, total=  50.9s\n",
      "[CV] max_depth=100, min_samples_split=10 .............................\n",
      "[CV]  max_depth=100, min_samples_split=10, score=0.692025816104824, total=  50.2s\n",
      "[CV] max_depth=100, min_samples_split=10 .............................\n",
      "[CV]  max_depth=100, min_samples_split=10, score=0.6916213460231135, total=  48.9s\n",
      "[CV] max_depth=100, min_samples_split=10 .............................\n",
      "[CV]  max_depth=100, min_samples_split=10, score=0.6946420627224378, total=  50.6s\n",
      "[CV] max_depth=100, min_samples_split=10 .............................\n",
      "[CV]  max_depth=100, min_samples_split=10, score=0.7238542287913985, total=  48.8s\n",
      "[CV] max_depth=100, min_samples_split=10 .............................\n",
      "[CV]  max_depth=100, min_samples_split=10, score=0.6842140274342816, total=  50.8s\n",
      "[CV] max_depth=100, min_samples_split=10 .............................\n",
      "[CV]  max_depth=100, min_samples_split=10, score=0.7037929625103745, total=  49.9s\n",
      "[CV] max_depth=100, min_samples_split=100 ............................\n",
      "[CV]  max_depth=100, min_samples_split=100, score=0.7759436378629616, total=  46.2s\n",
      "[CV] max_depth=100, min_samples_split=100 ............................\n",
      "[CV]  max_depth=100, min_samples_split=100, score=0.7508782506205541, total=  45.9s\n",
      "[CV] max_depth=100, min_samples_split=100 ............................\n",
      "[CV]  max_depth=100, min_samples_split=100, score=0.7484601720892264, total=  45.1s\n",
      "[CV] max_depth=100, min_samples_split=100 ............................\n",
      "[CV]  max_depth=100, min_samples_split=100, score=0.7729766915263727, total=  47.0s\n",
      "[CV] max_depth=100, min_samples_split=100 ............................\n",
      "[CV]  max_depth=100, min_samples_split=100, score=0.7761878757281294, total=  44.1s\n",
      "[CV] max_depth=100, min_samples_split=100 ............................\n",
      "[CV]  max_depth=100, min_samples_split=100, score=0.745731403540342, total=  43.6s\n",
      "[CV] max_depth=100, min_samples_split=100 ............................\n",
      "[CV]  max_depth=100, min_samples_split=100, score=0.764243303541675, total=  45.8s\n",
      "[CV] max_depth=100, min_samples_split=100 ............................\n",
      "[CV]  max_depth=100, min_samples_split=100, score=0.7759578851663866, total=  43.3s\n",
      "[CV] max_depth=100, min_samples_split=100 ............................\n",
      "[CV]  max_depth=100, min_samples_split=100, score=0.7566386749133556, total=  45.1s\n",
      "[CV] max_depth=100, min_samples_split=100 ............................\n",
      "[CV]  max_depth=100, min_samples_split=100, score=0.7763285482518882, total=  44.3s\n",
      "[CV] max_depth=100, min_samples_split=500 ............................\n",
      "[CV]  max_depth=100, min_samples_split=500, score=0.8074248879670815, total=  41.1s\n",
      "[CV] max_depth=100, min_samples_split=500 ............................\n",
      "[CV]  max_depth=100, min_samples_split=500, score=0.8048864469322138, total=  41.8s\n",
      "[CV] max_depth=100, min_samples_split=500 ............................\n",
      "[CV]  max_depth=100, min_samples_split=500, score=0.7978355573325336, total=  39.7s\n",
      "[CV] max_depth=100, min_samples_split=500 ............................\n",
      "[CV]  max_depth=100, min_samples_split=500, score=0.8050142835006199, total=  41.3s\n",
      "[CV] max_depth=100, min_samples_split=500 ............................\n",
      "[CV]  max_depth=100, min_samples_split=500, score=0.8218644612841737, total=  40.7s\n",
      "[CV] max_depth=100, min_samples_split=500 ............................\n",
      "[CV]  max_depth=100, min_samples_split=500, score=0.7843291378414042, total=  40.0s\n",
      "[CV] max_depth=100, min_samples_split=500 ............................\n",
      "[CV]  max_depth=100, min_samples_split=500, score=0.7984183178709962, total=  40.7s\n",
      "[CV] max_depth=100, min_samples_split=500 ............................\n",
      "[CV]  max_depth=100, min_samples_split=500, score=0.8186997701993135, total=  38.4s\n",
      "[CV] max_depth=100, min_samples_split=500 ............................\n",
      "[CV]  max_depth=100, min_samples_split=500, score=0.7823889678988044, total=  41.4s\n",
      "[CV] max_depth=100, min_samples_split=500 ............................\n",
      "[CV]  max_depth=100, min_samples_split=500, score=0.8000808055952922, total=  39.3s\n",
      "[CV] max_depth=500, min_samples_split=5 ..............................\n",
      "[CV]  max_depth=500, min_samples_split=5, score=0.6995731087677213, total= 1.4min\n",
      "[CV] max_depth=500, min_samples_split=5 ..............................\n",
      "[CV]  max_depth=500, min_samples_split=5, score=0.689679644160128, total= 1.4min\n",
      "[CV] max_depth=500, min_samples_split=5 ..............................\n",
      "[CV]  max_depth=500, min_samples_split=5, score=0.6983823945891017, total= 1.4min\n",
      "[CV] max_depth=500, min_samples_split=5 ..............................\n",
      "[CV]  max_depth=500, min_samples_split=5, score=0.7072498866983912, total= 1.4min\n",
      "[CV] max_depth=500, min_samples_split=5 ..............................\n",
      "[CV]  max_depth=500, min_samples_split=5, score=0.6845347885925275, total= 1.3min\n",
      "[CV] max_depth=500, min_samples_split=5 ..............................\n",
      "[CV]  max_depth=500, min_samples_split=5, score=0.6915445966795963, total= 1.5min\n",
      "[CV] max_depth=500, min_samples_split=5 ..............................\n",
      "[CV]  max_depth=500, min_samples_split=5, score=0.7023322011503446, total= 1.4min\n",
      "[CV] max_depth=500, min_samples_split=5 ..............................\n",
      "[CV]  max_depth=500, min_samples_split=5, score=0.6909831382182314, total= 1.4min\n",
      "[CV] max_depth=500, min_samples_split=5 ..............................\n",
      "[CV]  max_depth=500, min_samples_split=5, score=0.6809647041159764, total= 1.4min\n",
      "[CV] max_depth=500, min_samples_split=5 ..............................\n",
      "[CV]  max_depth=500, min_samples_split=5, score=0.6904623331234125, total= 1.6min\n",
      "[CV] max_depth=500, min_samples_split=10 .............................\n",
      "[CV]  max_depth=500, min_samples_split=10, score=0.7057886451097006, total= 1.4min\n",
      "[CV] max_depth=500, min_samples_split=10 .............................\n",
      "[CV]  max_depth=500, min_samples_split=10, score=0.7057210713512253, total= 1.4min\n",
      "[CV] max_depth=500, min_samples_split=10 .............................\n",
      "[CV]  max_depth=500, min_samples_split=10, score=0.7040323521082179, total= 1.4min\n",
      "[CV] max_depth=500, min_samples_split=10 .............................\n",
      "[CV]  max_depth=500, min_samples_split=10, score=0.7260298366457392, total= 1.4min\n",
      "[CV] max_depth=500, min_samples_split=10 .............................\n",
      "[CV]  max_depth=500, min_samples_split=10, score=0.6872123722024499, total= 1.3min\n",
      "[CV] max_depth=500, min_samples_split=10 .............................\n",
      "[CV]  max_depth=500, min_samples_split=10, score=0.6981218175577504, total= 1.5min\n",
      "[CV] max_depth=500, min_samples_split=10 .............................\n",
      "[CV]  max_depth=500, min_samples_split=10, score=0.7046926860479065, total= 1.4min\n",
      "[CV] max_depth=500, min_samples_split=10 .............................\n",
      "[CV]  max_depth=500, min_samples_split=10, score=0.6992228065712154, total= 1.4min\n",
      "[CV] max_depth=500, min_samples_split=10 .............................\n",
      "[CV]  max_depth=500, min_samples_split=10, score=0.68136560413391, total= 1.4min\n",
      "[CV] max_depth=500, min_samples_split=10 .............................\n",
      "[CV]  max_depth=500, min_samples_split=10, score=0.699989052145154, total= 1.5min\n",
      "[CV] max_depth=500, min_samples_split=100 ............................\n",
      "[CV]  max_depth=500, min_samples_split=100, score=0.7398822613157413, total= 1.2min\n",
      "[CV] max_depth=500, min_samples_split=100 ............................\n",
      "[CV]  max_depth=500, min_samples_split=100, score=0.736859559031769, total= 1.2min\n",
      "[CV] max_depth=500, min_samples_split=100 ............................\n",
      "[CV]  max_depth=500, min_samples_split=100, score=0.738148770553251, total= 1.2min\n",
      "[CV] max_depth=500, min_samples_split=100 ............................\n",
      "[CV]  max_depth=500, min_samples_split=100, score=0.7631671465323042, total= 1.3min\n",
      "[CV] max_depth=500, min_samples_split=100 ............................\n",
      "[CV]  max_depth=500, min_samples_split=100, score=0.7494177671918529, total= 1.2min\n",
      "[CV] max_depth=500, min_samples_split=100 ............................\n"
     ]
    },
    {
     "name": "stdout",
     "output_type": "stream",
     "text": [
      "[CV]  max_depth=500, min_samples_split=100, score=0.7304998350461871, total= 1.3min\n",
      "[CV] max_depth=500, min_samples_split=100 ............................\n",
      "[CV]  max_depth=500, min_samples_split=100, score=0.7475828642979966, total= 1.3min\n",
      "[CV] max_depth=500, min_samples_split=100 ............................\n",
      "[CV]  max_depth=500, min_samples_split=100, score=0.7418232036134178, total= 1.2min\n",
      "[CV] max_depth=500, min_samples_split=100 ............................\n",
      "[CV]  max_depth=500, min_samples_split=100, score=0.7252448148874143, total= 1.2min\n",
      "[CV] max_depth=500, min_samples_split=100 ............................\n",
      "[CV]  max_depth=500, min_samples_split=100, score=0.7386374821185038, total= 1.4min\n",
      "[CV] max_depth=500, min_samples_split=500 ............................\n",
      "[CV]  max_depth=500, min_samples_split=500, score=0.7795729421760209, total= 1.2min\n",
      "[CV] max_depth=500, min_samples_split=500 ............................\n",
      "[CV]  max_depth=500, min_samples_split=500, score=0.7672785788062039, total= 1.2min\n",
      "[CV] max_depth=500, min_samples_split=500 ............................\n",
      "[CV]  max_depth=500, min_samples_split=500, score=0.7677685666450098, total= 1.2min\n",
      "[CV] max_depth=500, min_samples_split=500 ............................\n",
      "[CV]  max_depth=500, min_samples_split=500, score=0.7745249038602524, total= 1.2min\n",
      "[CV] max_depth=500, min_samples_split=500 ............................\n",
      "[CV]  max_depth=500, min_samples_split=500, score=0.7795836957318618, total= 1.2min\n",
      "[CV] max_depth=500, min_samples_split=500 ............................\n",
      "[CV]  max_depth=500, min_samples_split=500, score=0.766147041328428, total= 1.3min\n",
      "[CV] max_depth=500, min_samples_split=500 ............................\n",
      "[CV]  max_depth=500, min_samples_split=500, score=0.7692036854680688, total= 1.2min\n",
      "[CV] max_depth=500, min_samples_split=500 ............................\n",
      "[CV]  max_depth=500, min_samples_split=500, score=0.7610950774274, total= 1.2min\n",
      "[CV] max_depth=500, min_samples_split=500 ............................\n",
      "[CV]  max_depth=500, min_samples_split=500, score=0.74577590053926, total= 1.3min\n",
      "[CV] max_depth=500, min_samples_split=500 ............................\n",
      "[CV]  max_depth=500, min_samples_split=500, score=0.760688547084117, total= 1.4min\n",
      "[CV] max_depth=1000, min_samples_split=5 .............................\n",
      "[CV]  max_depth=1000, min_samples_split=5, score=0.6923389682975994, total= 1.4min\n",
      "[CV] max_depth=1000, min_samples_split=5 .............................\n",
      "[CV]  max_depth=1000, min_samples_split=5, score=0.6892964832492046, total= 1.5min\n",
      "[CV] max_depth=1000, min_samples_split=5 .............................\n",
      "[CV]  max_depth=1000, min_samples_split=5, score=0.6902893697835975, total= 1.4min\n",
      "[CV] max_depth=1000, min_samples_split=5 .............................\n",
      "[CV]  max_depth=1000, min_samples_split=5, score=0.7045024268204902, total= 1.4min\n",
      "[CV] max_depth=1000, min_samples_split=5 .............................\n",
      "[CV]  max_depth=1000, min_samples_split=5, score=0.6860311404473414, total= 1.4min\n",
      "[CV] max_depth=1000, min_samples_split=5 .............................\n",
      "[CV]  max_depth=1000, min_samples_split=5, score=0.6894821533304007, total= 1.6min\n",
      "[CV] max_depth=1000, min_samples_split=5 .............................\n",
      "[CV]  max_depth=1000, min_samples_split=5, score=0.7055562984031138, total= 1.4min\n",
      "[CV] max_depth=1000, min_samples_split=5 .............................\n",
      "[CV]  max_depth=1000, min_samples_split=5, score=0.6884553306669225, total= 1.4min\n",
      "[CV] max_depth=1000, min_samples_split=5 .............................\n",
      "[CV]  max_depth=1000, min_samples_split=5, score=0.6705964599850692, total= 1.4min\n",
      "[CV] max_depth=1000, min_samples_split=5 .............................\n",
      "[CV]  max_depth=1000, min_samples_split=5, score=0.6986528925275157, total= 1.6min\n",
      "[CV] max_depth=1000, min_samples_split=10 ............................\n",
      "[CV]  max_depth=1000, min_samples_split=10, score=0.7051039532210505, total= 1.4min\n",
      "[CV] max_depth=1000, min_samples_split=10 ............................\n",
      "[CV]  max_depth=1000, min_samples_split=10, score=0.7032948714745031, total= 1.4min\n",
      "[CV] max_depth=1000, min_samples_split=10 ............................\n",
      "[CV]  max_depth=1000, min_samples_split=10, score=0.7009885135022572, total= 1.4min\n",
      "[CV] max_depth=1000, min_samples_split=10 ............................\n",
      "[CV]  max_depth=1000, min_samples_split=10, score=0.7261324120912811, total= 1.4min\n",
      "[CV] max_depth=1000, min_samples_split=10 ............................\n",
      "[CV]  max_depth=1000, min_samples_split=10, score=0.69613851871476, total= 1.4min\n",
      "[CV] max_depth=1000, min_samples_split=10 ............................\n",
      "[CV]  max_depth=1000, min_samples_split=10, score=0.698396532304288, total= 1.5min\n",
      "[CV] max_depth=1000, min_samples_split=10 ............................\n",
      "[CV]  max_depth=1000, min_samples_split=10, score=0.704258328501353, total= 1.5min\n",
      "[CV] max_depth=1000, min_samples_split=10 ............................\n",
      "[CV]  max_depth=1000, min_samples_split=10, score=0.6967276340538759, total= 1.4min\n",
      "[CV] max_depth=1000, min_samples_split=10 ............................\n",
      "[CV]  max_depth=1000, min_samples_split=10, score=0.6888147331017254, total= 1.3min\n",
      "[CV] max_depth=1000, min_samples_split=10 ............................\n",
      "[CV]  max_depth=1000, min_samples_split=10, score=0.7084067013383493, total= 1.5min\n",
      "[CV] max_depth=1000, min_samples_split=100 ...........................\n",
      "[CV]  max_depth=1000, min_samples_split=100, score=0.7508734611091676, total= 1.3min\n",
      "[CV] max_depth=1000, min_samples_split=100 ...........................\n",
      "[CV]  max_depth=1000, min_samples_split=100, score=0.745435491528812, total= 1.2min\n",
      "[CV] max_depth=1000, min_samples_split=100 ...........................\n",
      "[CV]  max_depth=1000, min_samples_split=100, score=0.7459270411648091, total= 1.2min\n",
      "[CV] max_depth=1000, min_samples_split=100 ...........................\n",
      "[CV]  max_depth=1000, min_samples_split=100, score=0.7603081553831594, total= 1.3min\n",
      "[CV] max_depth=1000, min_samples_split=100 ...........................\n",
      "[CV]  max_depth=1000, min_samples_split=100, score=0.7457973225830101, total= 1.2min\n",
      "[CV] max_depth=1000, min_samples_split=100 ...........................\n",
      "[CV]  max_depth=1000, min_samples_split=100, score=0.7372305546113755, total= 1.4min\n",
      "[CV] max_depth=1000, min_samples_split=100 ...........................\n",
      "[CV]  max_depth=1000, min_samples_split=100, score=0.7512510038855786, total= 1.4min\n",
      "[CV] max_depth=1000, min_samples_split=100 ...........................\n",
      "[CV]  max_depth=1000, min_samples_split=100, score=0.7385679371739103, total= 1.3min\n",
      "[CV] max_depth=1000, min_samples_split=100 ...........................\n",
      "[CV]  max_depth=1000, min_samples_split=100, score=0.7294257485204756, total= 1.3min\n",
      "[CV] max_depth=1000, min_samples_split=100 ...........................\n",
      "[CV]  max_depth=1000, min_samples_split=100, score=0.7548574067972624, total= 1.5min\n",
      "[CV] max_depth=1000, min_samples_split=500 ...........................\n",
      "[CV]  max_depth=1000, min_samples_split=500, score=0.7780329060256219, total= 1.2min\n",
      "[CV] max_depth=1000, min_samples_split=500 ...........................\n",
      "[CV]  max_depth=1000, min_samples_split=500, score=0.7708060539423927, total= 1.2min\n",
      "[CV] max_depth=1000, min_samples_split=500 ...........................\n",
      "[CV]  max_depth=1000, min_samples_split=500, score=0.7627898695586985, total= 1.2min\n",
      "[CV] max_depth=1000, min_samples_split=500 ...........................\n",
      "[CV]  max_depth=1000, min_samples_split=500, score=0.7819972907585877, total= 1.2min\n",
      "[CV] max_depth=1000, min_samples_split=500 ...........................\n",
      "[CV]  max_depth=1000, min_samples_split=500, score=0.7751385861958651, total= 1.1min\n",
      "[CV] max_depth=1000, min_samples_split=500 ...........................\n",
      "[CV]  max_depth=1000, min_samples_split=500, score=0.7595492012236574, total= 1.3min\n",
      "[CV] max_depth=1000, min_samples_split=500 ...........................\n",
      "[CV]  max_depth=1000, min_samples_split=500, score=0.772205345003399, total= 1.4min\n",
      "[CV] max_depth=1000, min_samples_split=500 ...........................\n",
      "[CV]  max_depth=1000, min_samples_split=500, score=0.760583447677595, total= 1.2min\n",
      "[CV] max_depth=1000, min_samples_split=500 ...........................\n"
     ]
    },
    {
     "name": "stdout",
     "output_type": "stream",
     "text": [
      "[CV]  max_depth=1000, min_samples_split=500, score=0.7506949281195129, total= 1.2min\n",
      "[CV] max_depth=1000, min_samples_split=500 ...........................\n",
      "[CV]  max_depth=1000, min_samples_split=500, score=0.7570957739194989, total= 1.4min\n"
     ]
    },
    {
     "name": "stderr",
     "output_type": "stream",
     "text": [
      "[Parallel(n_jobs=1)]: Done 280 out of 280 | elapsed: 161.6min finished\n"
     ]
    },
    {
     "name": "stdout",
     "output_type": "stream",
     "text": [
      "Best Hyperparameter: DecisionTreeClassifier(class_weight=None, criterion='gini', max_depth=50,\n",
      "            max_features=None, max_leaf_nodes=None,\n",
      "            min_impurity_decrease=0.0, min_impurity_split=None,\n",
      "            min_samples_leaf=1, min_samples_split=500,\n",
      "            min_weight_fraction_leaf=0.0, presort=False, random_state=None,\n",
      "            splitter='best')\n"
     ]
    }
   ],
   "source": [
    "# Model Training\n",
    "clf = DecisionTreeClassifier()\n",
    "parameters = {\"max_depth\":[1, 5, 10, 50, 100, 500, 1000],\n",
    "              \"min_samples_split\": [5, 10, 100, 500]} \n",
    "\n",
    "model = GridSearchCV(clf, parameters, cv=10,verbose=10, scoring='roc_auc')\n",
    "model.fit(X_train_bow, y_train)\n",
    "bestParameter = model.best_estimator_\n",
    "print(\"Best Hyperparameter: \"+ str(bestParameter))"
   ]
  },
  {
   "cell_type": "markdown",
   "metadata": {},
   "source": [
    "<br>\n",
    "Heatmap  of <B>max_depth</B> and <B>min_sample_split</B> parameters to find the areas where the maximum AUC is achieved in the test and train set."
   ]
  },
  {
   "cell_type": "code",
   "execution_count": 45,
   "metadata": {},
   "outputs": [
    {
     "data": {
      "image/png": "[encoded data removed]",
      "text/plain": [
       "<Figure size 1224x360 with 4 Axes>"
      ]
     },
     "metadata": {
      "needs_background": "light"
     },
     "output_type": "display_data"
    }
   ],
   "source": [
    "# https://stackoverflow.com/questions/48272437/combining-two-heat-maps-in-seaborn?rq=1\n",
    "# Train vs CV auc score\n",
    "df_gridsearch = pd.DataFrame(model.cv_results_)\n",
    "max_scores = df_gridsearch.groupby(['param_max_depth', 'param_min_samples_split']).max()\n",
    "max_scores = max_scores.unstack()[['mean_test_score', 'mean_train_score']]\n",
    "\n",
    "fig, (ax,ax2) = plt.subplots(ncols=2, figsize=(17,5))\n",
    "fig.subplots_adjust(wspace=0.2)\n",
    "sns.heatmap(max_scores.mean_train_score,annot=True, fmt='.4g', cmap=\"rocket\", ax=ax, cbar=False)\n",
    "fig.colorbar(ax.collections[0], ax=ax,location=\"left\", use_gridspec=False, pad=0.2)\n",
    "sns.heatmap(max_scores.mean_test_score,annot=True, fmt='.4g', cmap=\"icefire\", ax=ax2, cbar=False)\n",
    "fig.colorbar(ax2.collections[0], ax=ax2,location=\"right\", use_gridspec=False, pad=0.2)\n",
    "ax2.yaxis.tick_right()\n",
    "ax2.tick_params(rotation=0)\n",
    "ax.title.set_text('Train AUC Score')\n",
    "ax2.title.set_text('CV AUC Score')\n",
    "plt.show()"
   ]
  },
  {
   "cell_type": "code",
   "execution_count": 46,
   "metadata": {},
   "outputs": [],
   "source": [
    "import itertools\n",
    "def confusionMatrixPlot(YTest, predTest):\n",
    "    # Compute confusion matrix\n",
    "    cnf_matrix = confusion_matrix(YTest, predTest)\n",
    "    plt.imshow(cnf_matrix,cmap=plt.cm.Blues,interpolation='nearest')\n",
    "    plt.colorbar()\n",
    "    plt.title('Confusion Matrix')\n",
    "    plt.xlabel('Predicted')\n",
    "    plt.ylabel('Actual')\n",
    "    tick_marks = np.arange(len(set(YTest))) # length of classes\n",
    "    class_labels = ['0','1']\n",
    "    tick_marks\n",
    "    plt.xticks(tick_marks,class_labels)\n",
    "    plt.yticks(tick_marks,class_labels)\n",
    "    # plotting text value inside cells\n",
    "    thresh = cnf_matrix.max() / 2.\n",
    "    for i,j in itertools.product(range(cnf_matrix.shape[0]),range(cnf_matrix.shape[1])):\n",
    "        plt.text(j,i,format(cnf_matrix[i,j],'d'),horizontalalignment='center',color='black' if cnf_matrix[i,j] >thresh else 'black')\n",
    "    plt.show();"
   ]
  },
  {
   "cell_type": "code",
   "execution_count": 20,
   "metadata": {},
   "outputs": [
    {
     "data": {
      "image/png": "[encoded data removed]",
      "text/plain": [
       "<Figure size 432x288 with 1 Axes>"
      ]
     },
     "metadata": {
      "needs_background": "light"
     },
     "output_type": "display_data"
    }
   ],
   "source": [
    "# Testing accuracy on test dataset\n",
    "clf1 = DecisionTreeClassifier( max_depth=bestParameter.max_depth, min_samples_split=bestParameter.min_samples_split)\n",
    "clf1.fit(X_train_bow,y_train)\n",
    "\n",
    "predTest  = clf1.predict_proba(X_test_bow)\n",
    "predTrain = clf1.predict_proba(X_train_bow)\n",
    "\n",
    "train_fpr, train_tpr, thresholds = roc_curve(y_train, predTrain[:,1])\n",
    "test_fpr, test_tpr, thresholds = roc_curve(y_test, predTest[:,1])\n",
    "\n",
    "plt.plot(train_fpr, train_tpr, label=\"train AUC =\"+str(auc(train_fpr, train_tpr)))\n",
    "plt.plot(test_fpr, test_tpr, label=\"test AUC =\"+str(auc(test_fpr, test_tpr)))\n",
    "\n",
    "plt.legend()\n",
    "plt.xlabel(\"FPR\")\n",
    "plt.ylabel(\"TPR\")\n",
    "plt.title(\"ROC\")\n",
    "plt.show()"
   ]
  },
  {
   "cell_type": "code",
   "execution_count": 44,
   "metadata": {
    "colab": {},
    "colab_type": "code",
    "id": "vnSi4W-iiWOt"
   },
   "outputs": [
    {
     "data": {
      "image/png": "[encoded data removed]",
      "text/plain": [
       "<Figure size 432x288 with 2 Axes>"
      ]
     },
     "metadata": {
      "needs_background": "light"
     },
     "output_type": "display_data"
    }
   ],
   "source": [
    "# Confusion Matrix\n",
    "confusionMatrixPlot(y_test,clf1.predict(X_test_bow))"
   ]
  },
  {
   "cell_type": "markdown",
   "metadata": {
    "colab_type": "text",
    "id": "jm4vkPwMiWOu"
   },
   "source": [
    "### [5.1.1] Top 20 important features from<font color='red'> SET 1</font>"
   ]
  },
  {
   "cell_type": "code",
   "execution_count": 29,
   "metadata": {},
   "outputs": [],
   "source": [
    "featureProb = pd.DataFrame(\n",
    "    {'feature': vectorizer.get_feature_names(),\n",
    "     'Probability': clf1.feature_importances_\n",
    "    })\n",
    "\n",
    "sortedFeature = featureProb.sort_values('Probability', axis=0, ascending=False, inplace=False, kind='quicksort', na_position='last')"
   ]
  },
  {
   "cell_type": "code",
   "execution_count": 31,
   "metadata": {
    "colab": {},
    "colab_type": "code",
    "id": "puCcjOAkiWOv"
   },
   "outputs": [
    {
     "data": {
      "text/html": [
       "<div>\n",
       "<style scoped>\n",
       "    .dataframe tbody tr th:only-of-type {\n",
       "        vertical-align: middle;\n",
       "    }\n",
       "\n",
       "    .dataframe tbody tr th {\n",
       "        vertical-align: top;\n",
       "    }\n",
       "\n",
       "    .dataframe thead th {\n",
       "        text-align: right;\n",
       "    }\n",
       "</style>\n",
       "<table border=\"1\" class=\"dataframe\">\n",
       "  <thead>\n",
       "    <tr style=\"text-align: right;\">\n",
       "      <th></th>\n",
       "      <th>feature</th>\n",
       "      <th>Probability</th>\n",
       "    </tr>\n",
       "  </thead>\n",
       "  <tbody>\n",
       "    <tr>\n",
       "      <th>22052</th>\n",
       "      <td>not</td>\n",
       "      <td>0.099815</td>\n",
       "    </tr>\n",
       "    <tr>\n",
       "      <th>37179</th>\n",
       "      <td>worst</td>\n",
       "      <td>0.042895</td>\n",
       "    </tr>\n",
       "    <tr>\n",
       "      <th>14459</th>\n",
       "      <td>great</td>\n",
       "      <td>0.042645</td>\n",
       "    </tr>\n",
       "    <tr>\n",
       "      <th>8506</th>\n",
       "      <td>disappointed</td>\n",
       "      <td>0.037383</td>\n",
       "    </tr>\n",
       "    <tr>\n",
       "      <th>33393</th>\n",
       "      <td>terrible</td>\n",
       "      <td>0.028713</td>\n",
       "    </tr>\n",
       "    <tr>\n",
       "      <th>36156</th>\n",
       "      <td>waste money</td>\n",
       "      <td>0.028417</td>\n",
       "    </tr>\n",
       "    <tr>\n",
       "      <th>15788</th>\n",
       "      <td>horrible</td>\n",
       "      <td>0.027500</td>\n",
       "    </tr>\n",
       "    <tr>\n",
       "      <th>22810</th>\n",
       "      <td>not worth</td>\n",
       "      <td>0.024074</td>\n",
       "    </tr>\n",
       "    <tr>\n",
       "      <th>2634</th>\n",
       "      <td>best</td>\n",
       "      <td>0.020977</td>\n",
       "    </tr>\n",
       "    <tr>\n",
       "      <th>22132</th>\n",
       "      <td>not buy</td>\n",
       "      <td>0.020009</td>\n",
       "    </tr>\n",
       "    <tr>\n",
       "      <th>22239</th>\n",
       "      <td>not disappointed</td>\n",
       "      <td>0.019781</td>\n",
       "    </tr>\n",
       "    <tr>\n",
       "      <th>8528</th>\n",
       "      <td>disappointment</td>\n",
       "      <td>0.018583</td>\n",
       "    </tr>\n",
       "    <tr>\n",
       "      <th>27820</th>\n",
       "      <td>return</td>\n",
       "      <td>0.018269</td>\n",
       "    </tr>\n",
       "    <tr>\n",
       "      <th>22598</th>\n",
       "      <td>not recommend</td>\n",
       "      <td>0.016909</td>\n",
       "    </tr>\n",
       "    <tr>\n",
       "      <th>18918</th>\n",
       "      <td>love</td>\n",
       "      <td>0.014422</td>\n",
       "    </tr>\n",
       "    <tr>\n",
       "      <th>1892</th>\n",
       "      <td>awful</td>\n",
       "      <td>0.014061</td>\n",
       "    </tr>\n",
       "    <tr>\n",
       "      <th>33842</th>\n",
       "      <td>threw</td>\n",
       "      <td>0.012128</td>\n",
       "    </tr>\n",
       "    <tr>\n",
       "      <th>8526</th>\n",
       "      <td>disappointing</td>\n",
       "      <td>0.010990</td>\n",
       "    </tr>\n",
       "    <tr>\n",
       "      <th>1990</th>\n",
       "      <td>bad</td>\n",
       "      <td>0.010412</td>\n",
       "    </tr>\n",
       "    <tr>\n",
       "      <th>27499</th>\n",
       "      <td>refund</td>\n",
       "      <td>0.010186</td>\n",
       "    </tr>\n",
       "  </tbody>\n",
       "</table>\n",
       "</div>"
      ],
      "text/plain": [
       "                feature  Probability\n",
       "22052               not     0.099815\n",
       "37179             worst     0.042895\n",
       "14459             great     0.042645\n",
       "8506       disappointed     0.037383\n",
       "33393          terrible     0.028713\n",
       "36156       waste money     0.028417\n",
       "15788          horrible     0.027500\n",
       "22810         not worth     0.024074\n",
       "2634               best     0.020977\n",
       "22132           not buy     0.020009\n",
       "22239  not disappointed     0.019781\n",
       "8528     disappointment     0.018583\n",
       "27820            return     0.018269\n",
       "22598     not recommend     0.016909\n",
       "18918              love     0.014422\n",
       "1892              awful     0.014061\n",
       "33842             threw     0.012128\n",
       "8526      disappointing     0.010990\n",
       "1990                bad     0.010412\n",
       "27499            refund     0.010186"
      ]
     },
     "execution_count": 31,
     "metadata": {},
     "output_type": "execute_result"
    }
   ],
   "source": [
    "# Top 10 positive features\n",
    "sortedFeature[:20]"
   ]
  },
  {
   "cell_type": "markdown",
   "metadata": {
    "colab_type": "text",
    "id": "7JyitDTTiWOx"
   },
   "source": [
    "### [5.1.2] Graphviz visualization of Decision Tree on BOW,<font color='red'> SET 1</font>"
   ]
  },
  {
   "cell_type": "code",
   "execution_count": 13,
   "metadata": {},
   "outputs": [
    {
     "data": {
      "text/plain": [
       "DecisionTreeClassifier(class_weight=None, criterion='gini', max_depth=3,\n",
       "            max_features=None, max_leaf_nodes=None,\n",
       "            min_impurity_decrease=0.0, min_impurity_split=None,\n",
       "            min_samples_leaf=1, min_samples_split=2,\n",
       "            min_weight_fraction_leaf=0.0, presort=False, random_state=None,\n",
       "            splitter='best')"
      ]
     },
     "execution_count": 13,
     "metadata": {},
     "output_type": "execute_result"
    }
   ],
   "source": [
    "# Training\n",
    "clfGV = DecisionTreeClassifier( max_depth=3)\n",
    "clfGV.fit(X_train_bow,y_train)"
   ]
  },
  {
   "cell_type": "code",
   "execution_count": 21,
   "metadata": {},
   "outputs": [
    {
     "data": {
      "text/plain": [
       "True"
      ]
     },
     "execution_count": 21,
     "metadata": {},
     "output_type": "execute_result"
    }
   ],
   "source": [
    "import collections\n",
    "import pydotplus\n",
    "dot_data = export_graphviz(clfGV,\n",
    "                           feature_names=vectorizer.get_feature_names(),\n",
    "                           out_file=None,\n",
    "                           filled=True,\n",
    "                           rounded=True)\n",
    "graph = pydotplus.graph_from_dot_data(dot_data)\n",
    "graph.write_png('Dtree.png')"
   ]
  },
  {
   "cell_type": "markdown",
   "metadata": {},
   "source": [
    "#### Decision tree visualization \n",
    "<img src='Dtree.png' width=1000px>"
   ]
  },
  {
   "cell_type": "markdown",
   "metadata": {},
   "source": [
    "#### Feature Engineering"
   ]
  },
  {
   "cell_type": "code",
   "execution_count": 14,
   "metadata": {},
   "outputs": [
    {
     "name": "stdout",
     "output_type": "stream",
     "text": [
      "Old Dimension: (67000, 37655)\n",
      "New Dimension: (67000, 37656)\n"
     ]
    }
   ],
   "source": [
    "# Adding review length to the train dataset\n",
    "reviewLen = pd.to_numeric((X_train[:,-1:]).reshape(X_train.shape[0],))\n",
    "reviewLen = reviewLen.reshape(X_train.shape[0],1)\n",
    "X_train_bow_newF = sparse.hstack((X_train_bow,reviewLen))\n",
    "X_train_bow_newF = preprocessing.normalize(X_train_bow_newF)\n",
    "print(\"Old Dimension: \"+str(X_train_bow.shape))\n",
    "print(\"New Dimension: \"+ str(X_train_bow_newF.shape))"
   ]
  },
  {
   "cell_type": "code",
   "execution_count": 15,
   "metadata": {},
   "outputs": [
    {
     "name": "stdout",
     "output_type": "stream",
     "text": [
      "Old Dimension: (33000, 37655)\n",
      "New Dimension: (33000, 37656)\n"
     ]
    }
   ],
   "source": [
    "# Adding review length to the test dataset\n",
    "reviewLen = pd.to_numeric((X_test[:,-1:]).reshape(X_test.shape[0],))\n",
    "reviewLen = reviewLen.reshape(X_test.shape[0],1)\n",
    "X_test_bow_newF = sparse.hstack((X_test_bow,reviewLen))\n",
    "X_test_bow_newF = preprocessing.normalize(X_test_bow_newF)\n",
    "print(\"Old Dimension: \"+str(X_test_bow.shape))\n",
    "print(\"New Dimension: \"+ str(X_test_bow_newF.shape))"
   ]
  },
  {
   "cell_type": "code",
   "execution_count": 25,
   "metadata": {},
   "outputs": [
    {
     "data": {
      "image/png": "[encoded data removed]",
      "text/plain": [
       "<Figure size 432x288 with 1 Axes>"
      ]
     },
     "metadata": {
      "needs_background": "light"
     },
     "output_type": "display_data"
    }
   ],
   "source": [
    "# Testing accuracy on test dataset\n",
    "clf = DecisionTreeClassifier( max_depth=bestParameter.max_depth,min_samples_split=bestParameter.min_samples_split )\n",
    "clf.fit(X_train_bow_newF,y_train)\n",
    "\n",
    "predTest  = clf.predict_proba(X_test_bow_newF)\n",
    "predTrain = clf.predict_proba(X_train_bow_newF)\n",
    "\n",
    "train_fpr, train_tpr, thresholds = roc_curve(y_train, predTrain[:,1])\n",
    "test_fpr, test_tpr, thresholds = roc_curve(y_test, predTest[:,1])\n",
    "\n",
    "plt.plot(train_fpr, train_tpr, label=\"train AUC =\"+str(auc(train_fpr, train_tpr)))\n",
    "plt.plot(test_fpr, test_tpr, label=\"test AUC =\"+str(auc(test_fpr, test_tpr)))\n",
    "\n",
    "plt.legend()\n",
    "plt.xlabel(\"FPR\")\n",
    "plt.ylabel(\"TPR\")\n",
    "plt.title(\"ROC\")\n",
    "plt.show()"
   ]
  },
  {
   "cell_type": "markdown",
   "metadata": {},
   "source": [
    "<b>Observation:</b>\n",
    "    - Model accuracy slighly increases after adding review length as a extra feature. "
   ]
  },
  {
   "cell_type": "markdown",
   "metadata": {
    "colab_type": "text",
    "id": "5przjMTbiWOz"
   },
   "source": [
    "## [5.2] Applying Decision Trees on TFIDF,<font color='red'> SET 2</font>"
   ]
  },
  {
   "cell_type": "code",
   "execution_count": 33,
   "metadata": {},
   "outputs": [
    {
     "name": "stdout",
     "output_type": "stream",
     "text": [
      "Train Data Size:  (67000, 37655)\n",
      "Test Data Size:  (67000, 37655)\n"
     ]
    }
   ],
   "source": [
    "# Please write all the code with proper documentation\n",
    "# Vectorization of train and test review\n",
    "vectorizer = TfidfVectorizer(ngram_range=(1,2),min_df=10)\n",
    "vectorizer.fit(X_trainText)\n",
    "\n",
    "X_train_tfidf = vectorizer.transform(X_trainText)\n",
    "X_train_tfidf = preprocessing.normalize(X_train_tfidf)\n",
    "print(\"Train Data Size: \",X_train_tfidf.shape)\n",
    "\n",
    "X_test_tfidf = vectorizer.transform(X_testText)\n",
    "X_test_tfidf = preprocessing.normalize(X_test_tfidf)\n",
    "print(\"Test Data Size: \",X_train_tfidf.shape)"
   ]
  },
  {
   "cell_type": "code",
   "execution_count": 34,
   "metadata": {},
   "outputs": [
    {
     "name": "stdout",
     "output_type": "stream",
     "text": [
      "Fitting 10 folds for each of 28 candidates, totalling 280 fits\n",
      "[CV] max_depth=1, min_samples_split=5 ................................\n"
     ]
    },
    {
     "name": "stderr",
     "output_type": "stream",
     "text": [
      "[Parallel(n_jobs=1)]: Using backend SequentialBackend with 1 concurrent workers.\n"
     ]
    },
    {
     "name": "stdout",
     "output_type": "stream",
     "text": [
      "[CV]  max_depth=1, min_samples_split=5, score=0.5942371851012312, total=   0.5s\n",
      "[CV] max_depth=1, min_samples_split=5 ................................\n"
     ]
    },
    {
     "name": "stderr",
     "output_type": "stream",
     "text": [
      "[Parallel(n_jobs=1)]: Done   1 out of   1 | elapsed:    0.5s remaining:    0.0s\n"
     ]
    },
    {
     "name": "stdout",
     "output_type": "stream",
     "text": [
      "[CV]  max_depth=1, min_samples_split=5, score=0.6075899419729207, total=   0.5s\n",
      "[CV] max_depth=1, min_samples_split=5 ................................\n"
     ]
    },
    {
     "name": "stderr",
     "output_type": "stream",
     "text": [
      "[Parallel(n_jobs=1)]: Done   2 out of   2 | elapsed:    1.1s remaining:    0.0s\n"
     ]
    },
    {
     "name": "stdout",
     "output_type": "stream",
     "text": [
      "[CV]  max_depth=1, min_samples_split=5, score=0.5976273372018053, total=   0.5s\n",
      "[CV] max_depth=1, min_samples_split=5 ................................\n"
     ]
    },
    {
     "name": "stderr",
     "output_type": "stream",
     "text": [
      "[Parallel(n_jobs=1)]: Done   3 out of   3 | elapsed:    1.6s remaining:    0.0s\n"
     ]
    },
    {
     "name": "stdout",
     "output_type": "stream",
     "text": [
      "[CV]  max_depth=1, min_samples_split=5, score=0.6025377176015474, total=   0.5s\n",
      "[CV] max_depth=1, min_samples_split=5 ................................\n"
     ]
    },
    {
     "name": "stderr",
     "output_type": "stream",
     "text": [
      "[Parallel(n_jobs=1)]: Done   4 out of   4 | elapsed:    2.1s remaining:    0.0s\n"
     ]
    },
    {
     "name": "stdout",
     "output_type": "stream",
     "text": [
      "[CV]  max_depth=1, min_samples_split=5, score=0.6000825274016763, total=   0.5s\n",
      "[CV] max_depth=1, min_samples_split=5 ................................\n"
     ]
    },
    {
     "name": "stderr",
     "output_type": "stream",
     "text": [
      "[Parallel(n_jobs=1)]: Done   5 out of   5 | elapsed:    2.6s remaining:    0.0s\n"
     ]
    },
    {
     "name": "stdout",
     "output_type": "stream",
     "text": [
      "[CV]  max_depth=1, min_samples_split=5, score=0.5840257898130239, total=   0.5s\n",
      "[CV] max_depth=1, min_samples_split=5 ................................\n"
     ]
    },
    {
     "name": "stderr",
     "output_type": "stream",
     "text": [
      "[Parallel(n_jobs=1)]: Done   6 out of   6 | elapsed:    3.1s remaining:    0.0s\n"
     ]
    },
    {
     "name": "stdout",
     "output_type": "stream",
     "text": [
      "[CV]  max_depth=1, min_samples_split=5, score=0.5993165699548677, total=   0.5s\n",
      "[CV] max_depth=1, min_samples_split=5 ................................\n"
     ]
    },
    {
     "name": "stderr",
     "output_type": "stream",
     "text": [
      "[Parallel(n_jobs=1)]: Done   7 out of   7 | elapsed:    3.6s remaining:    0.0s\n"
     ]
    },
    {
     "name": "stdout",
     "output_type": "stream",
     "text": [
      "[CV]  max_depth=1, min_samples_split=5, score=0.6106950354609929, total=   0.5s\n",
      "[CV] max_depth=1, min_samples_split=5 ................................\n"
     ]
    },
    {
     "name": "stderr",
     "output_type": "stream",
     "text": [
      "[Parallel(n_jobs=1)]: Done   8 out of   8 | elapsed:    4.2s remaining:    0.0s\n"
     ]
    },
    {
     "name": "stdout",
     "output_type": "stream",
     "text": [
      "[CV]  max_depth=1, min_samples_split=5, score=0.6044203739522889, total=   0.5s\n",
      "[CV] max_depth=1, min_samples_split=5 ................................\n"
     ]
    },
    {
     "name": "stderr",
     "output_type": "stream",
     "text": [
      "[Parallel(n_jobs=1)]: Done   9 out of   9 | elapsed:    4.7s remaining:    0.0s\n"
     ]
    },
    {
     "name": "stdout",
     "output_type": "stream",
     "text": [
      "[CV]  max_depth=1, min_samples_split=5, score=0.5915934627170583, total=   0.5s\n",
      "[CV] max_depth=1, min_samples_split=10 ...............................\n",
      "[CV]  max_depth=1, min_samples_split=10, score=0.5942371851012312, total=   0.5s\n",
      "[CV] max_depth=1, min_samples_split=10 ...............................\n",
      "[CV]  max_depth=1, min_samples_split=10, score=0.6075899419729207, total=   0.5s\n",
      "[CV] max_depth=1, min_samples_split=10 ...............................\n",
      "[CV]  max_depth=1, min_samples_split=10, score=0.5976273372018053, total=   0.5s\n",
      "[CV] max_depth=1, min_samples_split=10 ...............................\n",
      "[CV]  max_depth=1, min_samples_split=10, score=0.6025377176015474, total=   0.5s\n",
      "[CV] max_depth=1, min_samples_split=10 ...............................\n",
      "[CV]  max_depth=1, min_samples_split=10, score=0.6000825274016763, total=   0.5s\n",
      "[CV] max_depth=1, min_samples_split=10 ...............................\n",
      "[CV]  max_depth=1, min_samples_split=10, score=0.5840257898130239, total=   0.5s\n",
      "[CV] max_depth=1, min_samples_split=10 ...............................\n",
      "[CV]  max_depth=1, min_samples_split=10, score=0.5993165699548677, total=   0.5s\n",
      "[CV] max_depth=1, min_samples_split=10 ...............................\n",
      "[CV]  max_depth=1, min_samples_split=10, score=0.6106950354609929, total=   0.5s\n",
      "[CV] max_depth=1, min_samples_split=10 ...............................\n",
      "[CV]  max_depth=1, min_samples_split=10, score=0.6044203739522889, total=   0.5s\n",
      "[CV] max_depth=1, min_samples_split=10 ...............................\n",
      "[CV]  max_depth=1, min_samples_split=10, score=0.5915934627170583, total=   0.5s\n",
      "[CV] max_depth=1, min_samples_split=100 ..............................\n",
      "[CV]  max_depth=1, min_samples_split=100, score=0.5942371851012312, total=   0.5s\n",
      "[CV] max_depth=1, min_samples_split=100 ..............................\n",
      "[CV]  max_depth=1, min_samples_split=100, score=0.6075899419729207, total=   0.5s\n",
      "[CV] max_depth=1, min_samples_split=100 ..............................\n",
      "[CV]  max_depth=1, min_samples_split=100, score=0.5976273372018053, total=   0.5s\n",
      "[CV] max_depth=1, min_samples_split=100 ..............................\n",
      "[CV]  max_depth=1, min_samples_split=100, score=0.6025377176015474, total=   0.5s\n",
      "[CV] max_depth=1, min_samples_split=100 ..............................\n",
      "[CV]  max_depth=1, min_samples_split=100, score=0.6000825274016763, total=   0.5s\n",
      "[CV] max_depth=1, min_samples_split=100 ..............................\n",
      "[CV]  max_depth=1, min_samples_split=100, score=0.5840257898130239, total=   0.5s\n",
      "[CV] max_depth=1, min_samples_split=100 ..............................\n",
      "[CV]  max_depth=1, min_samples_split=100, score=0.5993165699548677, total=   0.5s\n",
      "[CV] max_depth=1, min_samples_split=100 ..............................\n",
      "[CV]  max_depth=1, min_samples_split=100, score=0.6106950354609929, total=   0.5s\n",
      "[CV] max_depth=1, min_samples_split=100 ..............................\n",
      "[CV]  max_depth=1, min_samples_split=100, score=0.6044203739522889, total=   0.5s\n",
      "[CV] max_depth=1, min_samples_split=100 ..............................\n",
      "[CV]  max_depth=1, min_samples_split=100, score=0.5915934627170583, total=   0.5s\n",
      "[CV] max_depth=1, min_samples_split=500 ..............................\n",
      "[CV]  max_depth=1, min_samples_split=500, score=0.5942371851012312, total=   0.5s\n",
      "[CV] max_depth=1, min_samples_split=500 ..............................\n",
      "[CV]  max_depth=1, min_samples_split=500, score=0.6075899419729207, total=   0.5s\n",
      "[CV] max_depth=1, min_samples_split=500 ..............................\n",
      "[CV]  max_depth=1, min_samples_split=500, score=0.5976273372018053, total=   0.5s\n",
      "[CV] max_depth=1, min_samples_split=500 ..............................\n",
      "[CV]  max_depth=1, min_samples_split=500, score=0.6025377176015474, total=   0.5s\n",
      "[CV] max_depth=1, min_samples_split=500 ..............................\n",
      "[CV]  max_depth=1, min_samples_split=500, score=0.6000825274016763, total=   0.5s\n",
      "[CV] max_depth=1, min_samples_split=500 ..............................\n",
      "[CV]  max_depth=1, min_samples_split=500, score=0.5840257898130239, total=   0.5s\n",
      "[CV] max_depth=1, min_samples_split=500 ..............................\n",
      "[CV]  max_depth=1, min_samples_split=500, score=0.5993165699548677, total=   0.5s\n",
      "[CV] max_depth=1, min_samples_split=500 ..............................\n",
      "[CV]  max_depth=1, min_samples_split=500, score=0.6106950354609929, total=   0.5s\n",
      "[CV] max_depth=1, min_samples_split=500 ..............................\n",
      "[CV]  max_depth=1, min_samples_split=500, score=0.6044203739522889, total=   0.5s\n",
      "[CV] max_depth=1, min_samples_split=500 ..............................\n",
      "[CV]  max_depth=1, min_samples_split=500, score=0.5915934627170583, total=   0.5s\n",
      "[CV] max_depth=5, min_samples_split=5 ................................\n",
      "[CV]  max_depth=5, min_samples_split=5, score=0.6547835763227038, total=   2.2s\n",
      "[CV] max_depth=5, min_samples_split=5 ................................\n",
      "[CV]  max_depth=5, min_samples_split=5, score=0.6949206447453256, total=   2.1s\n",
      "[CV] max_depth=5, min_samples_split=5 ................................\n",
      "[CV]  max_depth=5, min_samples_split=5, score=0.6692479174725984, total=   2.2s\n",
      "[CV] max_depth=5, min_samples_split=5 ................................\n",
      "[CV]  max_depth=5, min_samples_split=5, score=0.6622071953578337, total=   2.2s\n",
      "[CV] max_depth=5, min_samples_split=5 ................................\n",
      "[CV]  max_depth=5, min_samples_split=5, score=0.666963249516441, total=   2.1s\n",
      "[CV] max_depth=5, min_samples_split=5 ................................\n",
      "[CV]  max_depth=5, min_samples_split=5, score=0.6288745841392648, total=   2.1s\n",
      "[CV] max_depth=5, min_samples_split=5 ................................\n",
      "[CV]  max_depth=5, min_samples_split=5, score=0.6612072727272728, total=   2.1s\n",
      "[CV] max_depth=5, min_samples_split=5 ................................\n",
      "[CV]  max_depth=5, min_samples_split=5, score=0.6695833913604127, total=   2.2s\n",
      "[CV] max_depth=5, min_samples_split=5 ................................\n",
      "[CV]  max_depth=5, min_samples_split=5, score=0.6641234816247581, total=   2.2s\n",
      "[CV] max_depth=5, min_samples_split=5 ................................\n",
      "[CV]  max_depth=5, min_samples_split=5, score=0.6602074885731679, total=   2.1s\n",
      "[CV] max_depth=5, min_samples_split=10 ...............................\n",
      "[CV]  max_depth=5, min_samples_split=10, score=0.6547835763227038, total=   2.2s\n",
      "[CV] max_depth=5, min_samples_split=10 ...............................\n",
      "[CV]  max_depth=5, min_samples_split=10, score=0.6949206447453256, total=   2.2s\n",
      "[CV] max_depth=5, min_samples_split=10 ...............................\n",
      "[CV]  max_depth=5, min_samples_split=10, score=0.6691027724049001, total=   2.2s\n",
      "[CV] max_depth=5, min_samples_split=10 ...............................\n",
      "[CV]  max_depth=5, min_samples_split=10, score=0.6622071953578337, total=   2.2s\n",
      "[CV] max_depth=5, min_samples_split=10 ...............................\n",
      "[CV]  max_depth=5, min_samples_split=10, score=0.66727334622824, total=   2.2s\n",
      "[CV] max_depth=5, min_samples_split=10 ...............................\n",
      "[CV]  max_depth=5, min_samples_split=10, score=0.6288745841392648, total=   2.1s\n",
      "[CV] max_depth=5, min_samples_split=10 ...............................\n",
      "[CV]  max_depth=5, min_samples_split=10, score=0.6612072727272728, total=   2.2s\n",
      "[CV] max_depth=5, min_samples_split=10 ...............................\n",
      "[CV]  max_depth=5, min_samples_split=10, score=0.6683746744036106, total=   2.2s\n",
      "[CV] max_depth=5, min_samples_split=10 ...............................\n",
      "[CV]  max_depth=5, min_samples_split=10, score=0.6641234816247581, total=   2.2s\n",
      "[CV] max_depth=5, min_samples_split=10 ...............................\n",
      "[CV]  max_depth=5, min_samples_split=10, score=0.6588354432991818, total=   2.2s\n",
      "[CV] max_depth=5, min_samples_split=100 ..............................\n",
      "[CV]  max_depth=5, min_samples_split=100, score=0.65488011951986, total=   2.2s\n",
      "[CV] max_depth=5, min_samples_split=100 ..............................\n",
      "[CV]  max_depth=5, min_samples_split=100, score=0.6948587491940683, total=   2.2s\n",
      "[CV] max_depth=5, min_samples_split=100 ..............................\n",
      "[CV]  max_depth=5, min_samples_split=100, score=0.668984861379755, total=   2.1s\n",
      "[CV] max_depth=5, min_samples_split=100 ..............................\n"
     ]
    },
    {
     "name": "stdout",
     "output_type": "stream",
     "text": [
      "[CV]  max_depth=5, min_samples_split=100, score=0.6644838168923275, total=   2.2s\n",
      "[CV] max_depth=5, min_samples_split=100 ..............................\n",
      "[CV]  max_depth=5, min_samples_split=100, score=0.6672473500967118, total=   2.2s\n",
      "[CV] max_depth=5, min_samples_split=100 ..............................\n",
      "[CV]  max_depth=5, min_samples_split=100, score=0.628902952933591, total=   2.2s\n",
      "[CV] max_depth=5, min_samples_split=100 ..............................\n",
      "[CV]  max_depth=5, min_samples_split=100, score=0.6609051192778853, total=   2.1s\n",
      "[CV] max_depth=5, min_samples_split=100 ..............................\n",
      "[CV]  max_depth=5, min_samples_split=100, score=0.6696202192134106, total=   2.2s\n",
      "[CV] max_depth=5, min_samples_split=100 ..............................\n",
      "[CV]  max_depth=5, min_samples_split=100, score=0.6653267311411992, total=   2.2s\n",
      "[CV] max_depth=5, min_samples_split=100 ..............................\n",
      "[CV]  max_depth=5, min_samples_split=100, score=0.6602151236574118, total=   2.2s\n",
      "[CV] max_depth=5, min_samples_split=500 ..............................\n",
      "[CV]  max_depth=5, min_samples_split=500, score=0.654675184173922, total=   2.1s\n",
      "[CV] max_depth=5, min_samples_split=500 ..............................\n",
      "[CV]  max_depth=5, min_samples_split=500, score=0.6961267827208255, total=   2.1s\n",
      "[CV] max_depth=5, min_samples_split=500 ..............................\n",
      "[CV]  max_depth=5, min_samples_split=500, score=0.6689042940038687, total=   2.0s\n",
      "[CV] max_depth=5, min_samples_split=500 ..............................\n",
      "[CV]  max_depth=5, min_samples_split=500, score=0.6639847324306897, total=   2.0s\n",
      "[CV] max_depth=5, min_samples_split=500 ..............................\n",
      "[CV]  max_depth=5, min_samples_split=500, score=0.6668613281753708, total=   2.0s\n",
      "[CV] max_depth=5, min_samples_split=500 ..............................\n",
      "[CV]  max_depth=5, min_samples_split=500, score=0.6299547646679562, total=   2.0s\n",
      "[CV] max_depth=5, min_samples_split=500 ..............................\n",
      "[CV]  max_depth=5, min_samples_split=500, score=0.6605034171502256, total=   2.0s\n",
      "[CV] max_depth=5, min_samples_split=500 ..............................\n",
      "[CV]  max_depth=5, min_samples_split=500, score=0.6701131141199226, total=   2.0s\n",
      "[CV] max_depth=5, min_samples_split=500 ..............................\n",
      "[CV]  max_depth=5, min_samples_split=500, score=0.6672205286911671, total=   2.0s\n",
      "[CV] max_depth=5, min_samples_split=500 ..............................\n",
      "[CV]  max_depth=5, min_samples_split=500, score=0.6598556556370653, total=   2.0s\n",
      "[CV] max_depth=10, min_samples_split=5 ...............................\n",
      "[CV]  max_depth=10, min_samples_split=5, score=0.7346497346865181, total=   5.1s\n",
      "[CV] max_depth=10, min_samples_split=5 ...............................\n",
      "[CV]  max_depth=10, min_samples_split=5, score=0.7549859445519019, total=   5.0s\n",
      "[CV] max_depth=10, min_samples_split=5 ...............................\n",
      "[CV]  max_depth=10, min_samples_split=5, score=0.7732909348807222, total=   5.1s\n",
      "[CV] max_depth=10, min_samples_split=5 ...............................\n",
      "[CV]  max_depth=10, min_samples_split=5, score=0.7581899677627337, total=   5.0s\n",
      "[CV] max_depth=10, min_samples_split=5 ...............................\n",
      "[CV]  max_depth=10, min_samples_split=5, score=0.7521536041263701, total=   5.1s\n",
      "[CV] max_depth=10, min_samples_split=5 ...............................\n",
      "[CV]  max_depth=10, min_samples_split=5, score=0.7359383107672469, total=   5.5s\n",
      "[CV] max_depth=10, min_samples_split=5 ...............................\n",
      "[CV]  max_depth=10, min_samples_split=5, score=0.741568639587363, total=   5.5s\n",
      "[CV] max_depth=10, min_samples_split=5 ...............................\n",
      "[CV]  max_depth=10, min_samples_split=5, score=0.7621239458413925, total=   5.3s\n",
      "[CV] max_depth=10, min_samples_split=5 ...............................\n",
      "[CV]  max_depth=10, min_samples_split=5, score=0.753092869116699, total=   5.1s\n",
      "[CV] max_depth=10, min_samples_split=5 ...............................\n",
      "[CV]  max_depth=10, min_samples_split=5, score=0.7649814797618678, total=   5.1s\n",
      "[CV] max_depth=10, min_samples_split=10 ..............................\n",
      "[CV]  max_depth=10, min_samples_split=10, score=0.7351056617381896, total=   5.2s\n",
      "[CV] max_depth=10, min_samples_split=10 ..............................\n",
      "[CV]  max_depth=10, min_samples_split=10, score=0.7536521985815603, total=   5.1s\n",
      "[CV] max_depth=10, min_samples_split=10 ..............................\n",
      "[CV]  max_depth=10, min_samples_split=10, score=0.7694989039329463, total=   5.0s\n",
      "[CV] max_depth=10, min_samples_split=10 ..............................\n",
      "[CV]  max_depth=10, min_samples_split=10, score=0.7602732688588009, total=   5.0s\n",
      "[CV] max_depth=10, min_samples_split=10 ..............................\n",
      "[CV]  max_depth=10, min_samples_split=10, score=0.7539271179883945, total=   5.0s\n",
      "[CV] max_depth=10, min_samples_split=10 ..............................\n",
      "[CV]  max_depth=10, min_samples_split=10, score=0.7343770986460347, total=   5.1s\n",
      "[CV] max_depth=10, min_samples_split=10 ..............................\n",
      "[CV]  max_depth=10, min_samples_split=10, score=0.7470546486137974, total=   5.2s\n",
      "[CV] max_depth=10, min_samples_split=10 ..............................\n",
      "[CV]  max_depth=10, min_samples_split=10, score=0.7644468858800775, total=   5.2s\n",
      "[CV] max_depth=10, min_samples_split=10 ..............................\n",
      "[CV]  max_depth=10, min_samples_split=10, score=0.7555034945196649, total=   5.7s\n",
      "[CV] max_depth=10, min_samples_split=10 ..............................\n",
      "[CV]  max_depth=10, min_samples_split=10, score=0.7636701024545764, total=   5.4s\n",
      "[CV] max_depth=10, min_samples_split=100 .............................\n",
      "[CV]  max_depth=10, min_samples_split=100, score=0.7488792952449642, total=   4.6s\n",
      "[CV] max_depth=10, min_samples_split=100 .............................\n",
      "[CV]  max_depth=10, min_samples_split=100, score=0.76409944551902, total=   4.6s\n",
      "[CV] max_depth=10, min_samples_split=100 .............................\n",
      "[CV]  max_depth=10, min_samples_split=100, score=0.7756598839458413, total=   4.6s\n",
      "[CV] max_depth=10, min_samples_split=100 .............................\n",
      "[CV]  max_depth=10, min_samples_split=100, score=0.7636625660863959, total=   4.6s\n",
      "[CV] max_depth=10, min_samples_split=100 .............................\n",
      "[CV]  max_depth=10, min_samples_split=100, score=0.7607911283043197, total=   4.5s\n",
      "[CV] max_depth=10, min_samples_split=100 .............................\n",
      "[CV]  max_depth=10, min_samples_split=100, score=0.7455725596389425, total=   4.6s\n",
      "[CV] max_depth=10, min_samples_split=100 .............................\n",
      "[CV]  max_depth=10, min_samples_split=100, score=0.7475663185041909, total=   4.7s\n",
      "[CV] max_depth=10, min_samples_split=100 .............................\n",
      "[CV]  max_depth=10, min_samples_split=100, score=0.769455164410058, total=   4.6s\n",
      "[CV] max_depth=10, min_samples_split=100 .............................\n",
      "[CV]  max_depth=10, min_samples_split=100, score=0.7588262540296583, total=   4.5s\n",
      "[CV] max_depth=10, min_samples_split=100 .............................\n",
      "[CV]  max_depth=10, min_samples_split=100, score=0.7688712456536766, total=   4.4s\n",
      "[CV] max_depth=10, min_samples_split=500 .............................\n",
      "[CV]  max_depth=10, min_samples_split=500, score=0.7491020555355211, total=   4.0s\n",
      "[CV] max_depth=10, min_samples_split=500 .............................\n",
      "[CV]  max_depth=10, min_samples_split=500, score=0.7656626176660218, total=   4.0s\n",
      "[CV] max_depth=10, min_samples_split=500 .............................\n",
      "[CV]  max_depth=10, min_samples_split=500, score=0.7760871695680206, total=   4.0s\n",
      "[CV] max_depth=10, min_samples_split=500 .............................\n",
      "[CV]  max_depth=10, min_samples_split=500, score=0.7676656608639588, total=   4.0s\n",
      "[CV] max_depth=10, min_samples_split=500 .............................\n",
      "[CV]  max_depth=10, min_samples_split=500, score=0.7633978594455191, total=   4.0s\n",
      "[CV] max_depth=10, min_samples_split=500 .............................\n",
      "[CV]  max_depth=10, min_samples_split=500, score=0.7464221792392005, total=   4.2s\n",
      "[CV] max_depth=10, min_samples_split=500 .............................\n",
      "[CV]  max_depth=10, min_samples_split=500, score=0.7578536686009026, total=   4.1s\n",
      "[CV] max_depth=10, min_samples_split=500 .............................\n"
     ]
    },
    {
     "name": "stdout",
     "output_type": "stream",
     "text": [
      "[CV]  max_depth=10, min_samples_split=500, score=0.7693896582849773, total=   4.0s\n",
      "[CV] max_depth=10, min_samples_split=500 .............................\n",
      "[CV]  max_depth=10, min_samples_split=500, score=0.760311334622824, total=   4.0s\n",
      "[CV] max_depth=10, min_samples_split=500 .............................\n",
      "[CV]  max_depth=10, min_samples_split=500, score=0.7718689448107221, total=   3.8s\n",
      "[CV] max_depth=50, min_samples_split=5 ...............................\n",
      "[CV]  max_depth=50, min_samples_split=5, score=0.6852602132811293, total=  33.4s\n",
      "[CV] max_depth=50, min_samples_split=5 ...............................\n",
      "[CV]  max_depth=50, min_samples_split=5, score=0.7124878401031592, total=  33.6s\n",
      "[CV] max_depth=50, min_samples_split=5 ...............................\n",
      "[CV]  max_depth=50, min_samples_split=5, score=0.7203150483558994, total=  33.2s\n",
      "[CV] max_depth=50, min_samples_split=5 ...............................\n",
      "[CV]  max_depth=50, min_samples_split=5, score=0.7128243455834945, total=  33.8s\n",
      "[CV] max_depth=50, min_samples_split=5 ...............................\n",
      "[CV]  max_depth=50, min_samples_split=5, score=0.7318776531270148, total=  34.5s\n",
      "[CV] max_depth=50, min_samples_split=5 ...............................\n",
      "[CV]  max_depth=50, min_samples_split=5, score=0.7018168407479046, total=  33.0s\n",
      "[CV] max_depth=50, min_samples_split=5 ...............................\n",
      "[CV]  max_depth=50, min_samples_split=5, score=0.7239031334622825, total=  33.5s\n",
      "[CV] max_depth=50, min_samples_split=5 ...............................\n",
      "[CV]  max_depth=50, min_samples_split=5, score=0.6869576789168278, total=  33.7s\n",
      "[CV] max_depth=50, min_samples_split=5 ...............................\n",
      "[CV]  max_depth=50, min_samples_split=5, score=0.7246986976144423, total=  33.2s\n",
      "[CV] max_depth=50, min_samples_split=5 ...............................\n",
      "[CV]  max_depth=50, min_samples_split=5, score=0.7187177185542866, total=  33.1s\n",
      "[CV] max_depth=50, min_samples_split=10 ..............................\n",
      "[CV]  max_depth=50, min_samples_split=10, score=0.6951982896295914, total=  33.0s\n",
      "[CV] max_depth=50, min_samples_split=10 ..............................\n",
      "[CV]  max_depth=50, min_samples_split=10, score=0.7173444745325597, total=  32.5s\n",
      "[CV] max_depth=50, min_samples_split=10 ..............................\n",
      "[CV]  max_depth=50, min_samples_split=10, score=0.7555764281108963, total=  32.5s\n",
      "[CV] max_depth=50, min_samples_split=10 ..............................\n",
      "[CV]  max_depth=50, min_samples_split=10, score=0.7281628884590587, total=  33.4s\n",
      "[CV] max_depth=50, min_samples_split=10 ..............................\n",
      "[CV]  max_depth=50, min_samples_split=10, score=0.7414868343004513, total=  32.5s\n",
      "[CV] max_depth=50, min_samples_split=10 ..............................\n",
      "[CV]  max_depth=50, min_samples_split=10, score=0.7087857640232108, total=  32.5s\n",
      "[CV] max_depth=50, min_samples_split=10 ..............................\n",
      "[CV]  max_depth=50, min_samples_split=10, score=0.7328999613152805, total=  32.0s\n",
      "[CV] max_depth=50, min_samples_split=10 ..............................\n",
      "[CV]  max_depth=50, min_samples_split=10, score=0.7072246550612509, total=  32.7s\n",
      "[CV] max_depth=50, min_samples_split=10 ..............................\n",
      "[CV]  max_depth=50, min_samples_split=10, score=0.7438731141199226, total=  32.3s\n",
      "[CV] max_depth=50, min_samples_split=10 ..............................\n",
      "[CV]  max_depth=50, min_samples_split=10, score=0.7188046966085779, total=  31.7s\n",
      "[CV] max_depth=50, min_samples_split=100 .............................\n",
      "[CV]  max_depth=50, min_samples_split=100, score=0.7906526196486529, total=  27.8s\n",
      "[CV] max_depth=50, min_samples_split=100 .............................\n",
      "[CV]  max_depth=50, min_samples_split=100, score=0.7848096969696969, total=  27.6s\n",
      "[CV] max_depth=50, min_samples_split=100 .............................\n",
      "[CV]  max_depth=50, min_samples_split=100, score=0.7941885235332045, total=  28.0s\n",
      "[CV] max_depth=50, min_samples_split=100 .............................\n",
      "[CV]  max_depth=50, min_samples_split=100, score=0.7993500967117988, total=  29.2s\n",
      "[CV] max_depth=50, min_samples_split=100 .............................\n",
      "[CV]  max_depth=50, min_samples_split=100, score=0.7899187620889748, total=  28.4s\n",
      "[CV] max_depth=50, min_samples_split=100 .............................\n",
      "[CV]  max_depth=50, min_samples_split=100, score=0.7708948549323018, total=  27.9s\n",
      "[CV] max_depth=50, min_samples_split=100 .............................\n",
      "[CV]  max_depth=50, min_samples_split=100, score=0.7736830431979367, total=  27.9s\n",
      "[CV] max_depth=50, min_samples_split=100 .............................\n",
      "[CV]  max_depth=50, min_samples_split=100, score=0.793965390070922, total=  28.1s\n",
      "[CV] max_depth=50, min_samples_split=100 .............................\n",
      "[CV]  max_depth=50, min_samples_split=100, score=0.7943150999355255, total=  27.8s\n",
      "[CV] max_depth=50, min_samples_split=100 .............................\n",
      "[CV]  max_depth=50, min_samples_split=100, score=0.7800159924061865, total=  28.2s\n",
      "[CV] max_depth=50, min_samples_split=500 .............................\n",
      "[CV]  max_depth=50, min_samples_split=500, score=0.8096025964659214, total=  24.7s\n",
      "[CV] max_depth=50, min_samples_split=500 .............................\n",
      "[CV]  max_depth=50, min_samples_split=500, score=0.8191539909735653, total=  23.4s\n",
      "[CV] max_depth=50, min_samples_split=500 .............................\n",
      "[CV]  max_depth=50, min_samples_split=500, score=0.8213365312701482, total=  24.5s\n",
      "[CV] max_depth=50, min_samples_split=500 .............................\n",
      "[CV]  max_depth=50, min_samples_split=500, score=0.8174881753707286, total=  24.2s\n",
      "[CV] max_depth=50, min_samples_split=500 .............................\n",
      "[CV]  max_depth=50, min_samples_split=500, score=0.8117850161186331, total=  24.2s\n",
      "[CV] max_depth=50, min_samples_split=500 .............................\n",
      "[CV]  max_depth=50, min_samples_split=500, score=0.7901281753707287, total=  24.6s\n",
      "[CV] max_depth=50, min_samples_split=500 .............................\n",
      "[CV]  max_depth=50, min_samples_split=500, score=0.8075496067053514, total=  23.9s\n",
      "[CV] max_depth=50, min_samples_split=500 .............................\n",
      "[CV]  max_depth=50, min_samples_split=500, score=0.8127342875564152, total=  24.5s\n",
      "[CV] max_depth=50, min_samples_split=500 .............................\n",
      "[CV]  max_depth=50, min_samples_split=500, score=0.8224989297227595, total=  24.2s\n",
      "[CV] max_depth=50, min_samples_split=500 .............................\n",
      "[CV]  max_depth=50, min_samples_split=500, score=0.8091091713870058, total=  24.4s\n",
      "[CV] max_depth=100, min_samples_split=5 ..............................\n",
      "[CV]  max_depth=100, min_samples_split=5, score=0.6852837051156561, total=  52.4s\n",
      "[CV] max_depth=100, min_samples_split=5 ..............................\n",
      "[CV]  max_depth=100, min_samples_split=5, score=0.6842859574468085, total=  52.7s\n",
      "[CV] max_depth=100, min_samples_split=5 ..............................\n",
      "[CV]  max_depth=100, min_samples_split=5, score=0.7048181560283688, total=  53.7s\n",
      "[CV] max_depth=100, min_samples_split=5 ..............................\n",
      "[CV]  max_depth=100, min_samples_split=5, score=0.6892937201805287, total=  54.7s\n",
      "[CV] max_depth=100, min_samples_split=5 ..............................\n",
      "[CV]  max_depth=100, min_samples_split=5, score=0.69883027724049, total=  52.8s\n",
      "[CV] max_depth=100, min_samples_split=5 ..............................\n",
      "[CV]  max_depth=100, min_samples_split=5, score=0.6869199226305609, total=  53.5s\n",
      "[CV] max_depth=100, min_samples_split=5 ..............................\n",
      "[CV]  max_depth=100, min_samples_split=5, score=0.69718695035461, total=  53.5s\n",
      "[CV] max_depth=100, min_samples_split=5 ..............................\n",
      "[CV]  max_depth=100, min_samples_split=5, score=0.6947661121856867, total=  53.8s\n",
      "[CV] max_depth=100, min_samples_split=5 ..............................\n",
      "[CV]  max_depth=100, min_samples_split=5, score=0.701896170212766, total=  54.4s\n",
      "[CV] max_depth=100, min_samples_split=5 ..............................\n",
      "[CV]  max_depth=100, min_samples_split=5, score=0.6851376894584249, total=  56.1s\n",
      "[CV] max_depth=100, min_samples_split=10 .............................\n",
      "[CV]  max_depth=100, min_samples_split=10, score=0.6859917572510432, total=  50.9s\n",
      "[CV] max_depth=100, min_samples_split=10 .............................\n"
     ]
    },
    {
     "name": "stdout",
     "output_type": "stream",
     "text": [
      "[CV]  max_depth=100, min_samples_split=10, score=0.694326447453256, total=  52.8s\n",
      "[CV] max_depth=100, min_samples_split=10 .............................\n",
      "[CV]  max_depth=100, min_samples_split=10, score=0.7160905738233398, total=  53.1s\n",
      "[CV] max_depth=100, min_samples_split=10 .............................\n",
      "[CV]  max_depth=100, min_samples_split=10, score=0.7047466666666666, total=  51.4s\n",
      "[CV] max_depth=100, min_samples_split=10 .............................\n",
      "[CV]  max_depth=100, min_samples_split=10, score=0.7105914635718891, total=  52.0s\n",
      "[CV] max_depth=100, min_samples_split=10 .............................\n",
      "[CV]  max_depth=100, min_samples_split=10, score=0.7044504964539007, total=  52.0s\n",
      "[CV] max_depth=100, min_samples_split=10 .............................\n",
      "[CV]  max_depth=100, min_samples_split=10, score=0.71172332688588, total=  51.9s\n",
      "[CV] max_depth=100, min_samples_split=10 .............................\n",
      "[CV]  max_depth=100, min_samples_split=10, score=0.7001922888459059, total=  52.5s\n",
      "[CV] max_depth=100, min_samples_split=10 .............................\n",
      "[CV]  max_depth=100, min_samples_split=10, score=0.728156698903933, total=  51.8s\n",
      "[CV] max_depth=100, min_samples_split=10 .............................\n",
      "[CV]  max_depth=100, min_samples_split=10, score=0.6996865488387449, total=  52.6s\n",
      "[CV] max_depth=100, min_samples_split=100 ............................\n",
      "[CV]  max_depth=100, min_samples_split=100, score=0.7856150636237185, total=  44.8s\n",
      "[CV] max_depth=100, min_samples_split=100 ............................\n",
      "[CV]  max_depth=100, min_samples_split=100, score=0.7718327788523534, total=  46.3s\n",
      "[CV] max_depth=100, min_samples_split=100 ............................\n",
      "[CV]  max_depth=100, min_samples_split=100, score=0.7588958865248228, total=  47.7s\n",
      "[CV] max_depth=100, min_samples_split=100 ............................\n",
      "[CV]  max_depth=100, min_samples_split=100, score=0.7638622823984527, total=  47.9s\n",
      "[CV] max_depth=100, min_samples_split=100 ............................\n",
      "[CV]  max_depth=100, min_samples_split=100, score=0.7638569181173436, total=  46.1s\n",
      "[CV] max_depth=100, min_samples_split=100 ............................\n",
      "[CV]  max_depth=100, min_samples_split=100, score=0.7576308446163764, total=  45.7s\n",
      "[CV] max_depth=100, min_samples_split=100 ............................\n",
      "[CV]  max_depth=100, min_samples_split=100, score=0.7587057640232109, total=  45.4s\n",
      "[CV] max_depth=100, min_samples_split=100 ............................\n",
      "[CV]  max_depth=100, min_samples_split=100, score=0.7793051192778853, total=  47.9s\n",
      "[CV] max_depth=100, min_samples_split=100 ............................\n",
      "[CV]  max_depth=100, min_samples_split=100, score=0.7713699032882012, total=  47.0s\n",
      "[CV] max_depth=100, min_samples_split=100 ............................\n",
      "[CV]  max_depth=100, min_samples_split=100, score=0.7423204465492514, total=  48.0s\n",
      "[CV] max_depth=100, min_samples_split=500 ............................\n",
      "[CV]  max_depth=100, min_samples_split=500, score=0.809184070887641, total=  41.1s\n",
      "[CV] max_depth=100, min_samples_split=500 ............................\n",
      "[CV]  max_depth=100, min_samples_split=500, score=0.8115455834945196, total=  40.1s\n",
      "[CV] max_depth=100, min_samples_split=500 ............................\n",
      "[CV]  max_depth=100, min_samples_split=500, score=0.8027916956802061, total=  42.0s\n",
      "[CV] max_depth=100, min_samples_split=500 ............................\n",
      "[CV]  max_depth=100, min_samples_split=500, score=0.7872980012894906, total=  42.7s\n",
      "[CV] max_depth=100, min_samples_split=500 ............................\n",
      "[CV]  max_depth=100, min_samples_split=500, score=0.79708750483559, total=  41.2s\n",
      "[CV] max_depth=100, min_samples_split=500 ............................\n",
      "[CV]  max_depth=100, min_samples_split=500, score=0.7853694390715665, total=  42.1s\n",
      "[CV] max_depth=100, min_samples_split=500 ............................\n",
      "[CV]  max_depth=100, min_samples_split=500, score=0.7919315022566087, total=  41.7s\n",
      "[CV] max_depth=100, min_samples_split=500 ............................\n",
      "[CV]  max_depth=100, min_samples_split=500, score=0.7936839716312056, total=  43.1s\n",
      "[CV] max_depth=100, min_samples_split=500 ............................\n",
      "[CV]  max_depth=100, min_samples_split=500, score=0.805517885235332, total=  41.9s\n",
      "[CV] max_depth=100, min_samples_split=500 ............................\n",
      "[CV]  max_depth=100, min_samples_split=500, score=0.7825420703459519, total=  42.6s\n",
      "[CV] max_depth=500, min_samples_split=5 ..............................\n",
      "[CV]  max_depth=500, min_samples_split=5, score=0.6892131265777137, total= 1.4min\n",
      "[CV] max_depth=500, min_samples_split=5 ..............................\n",
      "[CV]  max_depth=500, min_samples_split=5, score=0.6882632624113475, total= 1.4min\n",
      "[CV] max_depth=500, min_samples_split=5 ..............................\n",
      "[CV]  max_depth=500, min_samples_split=5, score=0.7073415344938749, total= 1.4min\n",
      "[CV] max_depth=500, min_samples_split=5 ..............................\n",
      "[CV]  max_depth=500, min_samples_split=5, score=0.6911814313346227, total= 1.5min\n",
      "[CV] max_depth=500, min_samples_split=5 ..............................\n",
      "[CV]  max_depth=500, min_samples_split=5, score=0.698583726627982, total= 1.4min\n",
      "[CV] max_depth=500, min_samples_split=5 ..............................\n",
      "[CV]  max_depth=500, min_samples_split=5, score=0.6988990844616376, total= 1.4min\n",
      "[CV] max_depth=500, min_samples_split=5 ..............................\n",
      "[CV]  max_depth=500, min_samples_split=5, score=0.6986688330109606, total= 1.4min\n",
      "[CV] max_depth=500, min_samples_split=5 ..............................\n",
      "[CV]  max_depth=500, min_samples_split=5, score=0.708400051579626, total= 1.5min\n",
      "[CV] max_depth=500, min_samples_split=5 ..............................\n",
      "[CV]  max_depth=500, min_samples_split=5, score=0.711443352675693, total= 1.4min\n",
      "[CV] max_depth=500, min_samples_split=5 ..............................\n",
      "[CV]  max_depth=500, min_samples_split=5, score=0.6847486096924299, total= 1.5min\n",
      "[CV] max_depth=500, min_samples_split=10 .............................\n",
      "[CV]  max_depth=500, min_samples_split=10, score=0.7058480243161094, total= 1.4min\n",
      "[CV] max_depth=500, min_samples_split=10 .............................\n",
      "[CV]  max_depth=500, min_samples_split=10, score=0.7002301482914248, total= 1.4min\n",
      "[CV] max_depth=500, min_samples_split=10 .............................\n",
      "[CV]  max_depth=500, min_samples_split=10, score=0.7102272082527401, total= 1.4min\n",
      "[CV] max_depth=500, min_samples_split=10 .............................\n",
      "[CV]  max_depth=500, min_samples_split=10, score=0.6996483301096068, total= 1.5min\n",
      "[CV] max_depth=500, min_samples_split=10 .............................\n",
      "[CV]  max_depth=500, min_samples_split=10, score=0.705741637653127, total= 1.4min\n",
      "[CV] max_depth=500, min_samples_split=10 .............................\n",
      "[CV]  max_depth=500, min_samples_split=10, score=0.7036792778852354, total= 1.4min\n",
      "[CV] max_depth=500, min_samples_split=10 .............................\n",
      "[CV]  max_depth=500, min_samples_split=10, score=0.7030935396518376, total= 1.4min\n",
      "[CV] max_depth=500, min_samples_split=10 .............................\n",
      "[CV]  max_depth=500, min_samples_split=10, score=0.7226905996131527, total= 1.3min\n",
      "[CV] max_depth=500, min_samples_split=10 .............................\n",
      "[CV]  max_depth=500, min_samples_split=10, score=0.6974259448416752, total= 1.4min\n",
      "[CV] max_depth=500, min_samples_split=100 ............................\n",
      "[CV]  max_depth=500, min_samples_split=100, score=0.7566083148730102, total= 1.3min\n",
      "[CV] max_depth=500, min_samples_split=100 ............................\n",
      "[CV]  max_depth=500, min_samples_split=100, score=0.751129748549323, total= 1.3min\n",
      "[CV] max_depth=500, min_samples_split=100 ............................\n",
      "[CV]  max_depth=500, min_samples_split=100, score=0.7521908446163765, total= 1.3min\n",
      "[CV] max_depth=500, min_samples_split=100 ............................\n",
      "[CV]  max_depth=500, min_samples_split=100, score=0.7416811863313991, total= 1.4min\n",
      "[CV] max_depth=500, min_samples_split=100 ............................\n",
      "[CV]  max_depth=500, min_samples_split=100, score=0.7384187749838814, total= 1.3min\n",
      "[CV] max_depth=500, min_samples_split=100 ............................\n",
      "[CV]  max_depth=500, min_samples_split=100, score=0.7361919793681496, total= 1.3min\n",
      "[CV] max_depth=500, min_samples_split=100 ............................\n"
     ]
    },
    {
     "name": "stdout",
     "output_type": "stream",
     "text": [
      "[CV]  max_depth=500, min_samples_split=100, score=0.7440132043842682, total= 1.3min\n",
      "[CV] max_depth=500, min_samples_split=100 ............................\n",
      "[CV]  max_depth=500, min_samples_split=100, score=0.7650074532559639, total= 1.3min\n",
      "[CV] max_depth=500, min_samples_split=100 ............................\n",
      "[CV]  max_depth=500, min_samples_split=100, score=0.7547509477756287, total= 1.3min\n",
      "[CV] max_depth=500, min_samples_split=100 ............................\n",
      "[CV]  max_depth=500, min_samples_split=100, score=0.7272671557247655, total= 1.3min\n",
      "[CV] max_depth=500, min_samples_split=500 ............................\n",
      "[CV]  max_depth=500, min_samples_split=500, score=0.7716736901756737, total= 1.2min\n",
      "[CV] max_depth=500, min_samples_split=500 ............................\n",
      "[CV]  max_depth=500, min_samples_split=500, score=0.7655563636363637, total= 1.2min\n",
      "[CV] max_depth=500, min_samples_split=500 ............................\n",
      "[CV]  max_depth=500, min_samples_split=500, score=0.7696234171502256, total= 1.2min\n",
      "[CV] max_depth=500, min_samples_split=500 ............................\n",
      "[CV]  max_depth=500, min_samples_split=500, score=0.7612384268214055, total= 1.3min\n",
      "[CV] max_depth=500, min_samples_split=500 ............................\n",
      "[CV]  max_depth=500, min_samples_split=500, score=0.7614298903932947, total= 1.2min\n",
      "[CV] max_depth=500, min_samples_split=500 ............................\n",
      "[CV]  max_depth=500, min_samples_split=500, score=0.7502293745970341, total= 1.2min\n",
      "[CV] max_depth=500, min_samples_split=500 ............................\n",
      "[CV]  max_depth=500, min_samples_split=500, score=0.7549478787878787, total= 1.2min\n",
      "[CV] max_depth=500, min_samples_split=500 ............................\n",
      "[CV]  max_depth=500, min_samples_split=500, score=0.7738290135396519, total= 1.3min\n",
      "[CV] max_depth=500, min_samples_split=500 ............................\n",
      "[CV]  max_depth=500, min_samples_split=500, score=0.7831268600902644, total= 1.2min\n",
      "[CV] max_depth=500, min_samples_split=500 ............................\n",
      "[CV]  max_depth=500, min_samples_split=500, score=0.7534165970223172, total= 1.2min\n",
      "[CV] max_depth=1000, min_samples_split=5 .............................\n",
      "[CV]  max_depth=1000, min_samples_split=5, score=0.6889819174694759, total= 1.4min\n",
      "[CV] max_depth=1000, min_samples_split=5 .............................\n",
      "[CV]  max_depth=1000, min_samples_split=5, score=0.6962863700838169, total= 1.5min\n",
      "[CV] max_depth=1000, min_samples_split=5 .............................\n",
      "[CV]  max_depth=1000, min_samples_split=5, score=0.7135179883945841, total= 1.4min\n",
      "[CV] max_depth=1000, min_samples_split=5 .............................\n",
      "[CV]  max_depth=1000, min_samples_split=5, score=0.693866047711154, total= 1.5min\n",
      "[CV] max_depth=1000, min_samples_split=5 .............................\n",
      "[CV]  max_depth=1000, min_samples_split=5, score=0.6957756286266925, total= 1.4min\n",
      "[CV] max_depth=1000, min_samples_split=5 .............................\n",
      "[CV]  max_depth=1000, min_samples_split=5, score=0.6878233913604127, total= 1.4min\n",
      "[CV] max_depth=1000, min_samples_split=5 .............................\n",
      "[CV]  max_depth=1000, min_samples_split=5, score=0.7092490522243713, total= 1.4min\n",
      "[CV] max_depth=1000, min_samples_split=5 .............................\n",
      "[CV]  max_depth=1000, min_samples_split=5, score=0.7141488072211477, total= 1.5min\n",
      "[CV] max_depth=1000, min_samples_split=5 .............................\n",
      "[CV]  max_depth=1000, min_samples_split=5, score=0.7064358994197291, total= 1.4min\n",
      "[CV] max_depth=1000, min_samples_split=5 .............................\n",
      "[CV]  max_depth=1000, min_samples_split=5, score=0.6967426048018489, total= 1.4min\n",
      "[CV] max_depth=1000, min_samples_split=10 ............................\n",
      "[CV]  max_depth=1000, min_samples_split=10, score=0.6947409200968523, total= 1.4min\n",
      "[CV] max_depth=1000, min_samples_split=10 ............................\n",
      "[CV]  max_depth=1000, min_samples_split=10, score=0.7026403610573824, total= 1.4min\n",
      "[CV] max_depth=1000, min_samples_split=10 ............................\n",
      "[CV]  max_depth=1000, min_samples_split=10, score=0.7202635718891037, total= 1.4min\n",
      "[CV] max_depth=1000, min_samples_split=10 ............................\n",
      "[CV]  max_depth=1000, min_samples_split=10, score=0.7052587491940683, total= 1.5min\n",
      "[CV] max_depth=1000, min_samples_split=10 ............................\n",
      "[CV]  max_depth=1000, min_samples_split=10, score=0.7007385170857512, total= 1.4min\n",
      "[CV] max_depth=1000, min_samples_split=10 ............................\n",
      "[CV]  max_depth=1000, min_samples_split=10, score=0.6948919664732431, total= 1.4min\n",
      "[CV] max_depth=1000, min_samples_split=10 ............................\n",
      "[CV]  max_depth=1000, min_samples_split=10, score=0.7111928820116054, total= 1.4min\n",
      "[CV] max_depth=1000, min_samples_split=10 ............................\n",
      "[CV]  max_depth=1000, min_samples_split=10, score=0.7206761057382334, total= 1.5min\n",
      "[CV] max_depth=1000, min_samples_split=10 ............................\n",
      "[CV]  max_depth=1000, min_samples_split=10, score=0.7233956931012251, total= 1.4min\n",
      "[CV] max_depth=1000, min_samples_split=10 ............................\n",
      "[CV]  max_depth=1000, min_samples_split=10, score=0.6957756317000443, total= 1.4min\n",
      "[CV] max_depth=1000, min_samples_split=100 ...........................\n",
      "[CV]  max_depth=1000, min_samples_split=100, score=0.7602263664932254, total= 1.3min\n",
      "[CV] max_depth=1000, min_samples_split=100 ...........................\n",
      "[CV]  max_depth=1000, min_samples_split=100, score=0.7502510380399743, total= 1.3min\n",
      "[CV] max_depth=1000, min_samples_split=100 ...........................\n",
      "[CV]  max_depth=1000, min_samples_split=100, score=0.7478312314635719, total= 1.3min\n",
      "[CV] max_depth=1000, min_samples_split=100 ...........................\n",
      "[CV]  max_depth=1000, min_samples_split=100, score=0.7449696969696968, total= 1.4min\n",
      "[CV] max_depth=1000, min_samples_split=100 ...........................\n",
      "[CV]  max_depth=1000, min_samples_split=100, score=0.7357079561573179, total= 1.3min\n",
      "[CV] max_depth=1000, min_samples_split=100 ...........................\n",
      "[CV]  max_depth=1000, min_samples_split=100, score=0.7422771373307544, total= 1.3min\n",
      "[CV] max_depth=1000, min_samples_split=100 ...........................\n",
      "[CV]  max_depth=1000, min_samples_split=100, score=0.7357052740167633, total= 1.3min\n",
      "[CV] max_depth=1000, min_samples_split=100 ...........................\n",
      "[CV]  max_depth=1000, min_samples_split=100, score=0.7683081366860091, total= 1.4min\n",
      "[CV] max_depth=1000, min_samples_split=100 ...........................\n",
      "[CV]  max_depth=1000, min_samples_split=100, score=0.7584069116698904, total= 1.2min\n",
      "[CV] max_depth=1000, min_samples_split=100 ...........................\n",
      "[CV]  max_depth=1000, min_samples_split=100, score=0.7247562447766739, total= 1.3min\n",
      "[CV] max_depth=1000, min_samples_split=500 ...........................\n",
      "[CV]  max_depth=1000, min_samples_split=500, score=0.7725882231724281, total= 1.2min\n",
      "[CV] max_depth=1000, min_samples_split=500 ...........................\n",
      "[CV]  max_depth=1000, min_samples_split=500, score=0.7675044229529335, total= 1.2min\n",
      "[CV] max_depth=1000, min_samples_split=500 ...........................\n",
      "[CV]  max_depth=1000, min_samples_split=500, score=0.7697734107027723, total= 1.2min\n",
      "[CV] max_depth=1000, min_samples_split=500 ...........................\n",
      "[CV]  max_depth=1000, min_samples_split=500, score=0.7565323017408123, total= 1.3min\n",
      "[CV] max_depth=1000, min_samples_split=500 ...........................\n",
      "[CV]  max_depth=1000, min_samples_split=500, score=0.76118055448098, total= 1.2min\n",
      "[CV] max_depth=1000, min_samples_split=500 ...........................\n",
      "[CV]  max_depth=1000, min_samples_split=500, score=0.7515183494519664, total= 1.2min\n",
      "[CV] max_depth=1000, min_samples_split=500 ...........................\n",
      "[CV]  max_depth=1000, min_samples_split=500, score=0.7614495938104449, total= 1.2min\n",
      "[CV] max_depth=1000, min_samples_split=500 ...........................\n",
      "[CV]  max_depth=1000, min_samples_split=500, score=0.7835594068343005, total= 1.2min\n",
      "[CV] max_depth=1000, min_samples_split=500 ...........................\n",
      "[CV]  max_depth=1000, min_samples_split=500, score=0.7756468858800774, total= 1.2min\n",
      "[CV] max_depth=1000, min_samples_split=500 ...........................\n"
     ]
    },
    {
     "name": "stdout",
     "output_type": "stream",
     "text": [
      "[CV]  max_depth=1000, min_samples_split=500, score=0.7506288626819781, total= 1.2min\n"
     ]
    },
    {
     "name": "stderr",
     "output_type": "stream",
     "text": [
      "[Parallel(n_jobs=1)]: Done 280 out of 280 | elapsed: 164.1min finished\n"
     ]
    },
    {
     "name": "stdout",
     "output_type": "stream",
     "text": [
      "Best Hyperparameter: DecisionTreeClassifier(class_weight=None, criterion='gini', max_depth=50,\n",
      "            max_features=None, max_leaf_nodes=None,\n",
      "            min_impurity_decrease=0.0, min_impurity_split=None,\n",
      "            min_samples_leaf=1, min_samples_split=500,\n",
      "            min_weight_fraction_leaf=0.0, presort=False, random_state=None,\n",
      "            splitter='best')\n"
     ]
    }
   ],
   "source": [
    "# Model Training\n",
    "clf = DecisionTreeClassifier()\n",
    "parameters = {\"max_depth\":[1, 5, 10, 50, 100, 500, 1000],\n",
    "              \"min_samples_split\": [5, 10, 100, 500]} \n",
    "\n",
    "model = GridSearchCV(clf, parameters, cv=10,verbose=10, scoring='roc_auc')\n",
    "model.fit(X_train_tfidf, y_train)\n",
    "bestParameter = model.best_estimator_\n",
    "print(\"Best Hyperparameter: \"+ str(bestParameter))"
   ]
  },
  {
   "cell_type": "markdown",
   "metadata": {},
   "source": [
    "<br>\n",
    "Heatmap  of <B>max_depth</B> and <B>min_sample_split</B> parameters to find the areas where the maximum AUC is achieved in the test set."
   ]
  },
  {
   "cell_type": "code",
   "execution_count": 43,
   "metadata": {},
   "outputs": [
    {
     "data": {
      "image/png": "[encoded data removed]",
      "text/plain": [
       "<Figure size 1224x360 with 4 Axes>"
      ]
     },
     "metadata": {
      "needs_background": "light"
     },
     "output_type": "display_data"
    }
   ],
   "source": [
    "# https://stackoverflow.com/questions/48272437/combining-two-heat-maps-in-seaborn?rq=1\n",
    "# Train vs CV auc score\n",
    "df_gridsearch = pd.DataFrame(model.cv_results_)\n",
    "max_scores = df_gridsearch.groupby(['param_max_depth', 'param_min_samples_split']).max()\n",
    "max_scores = max_scores.unstack()[['mean_test_score', 'mean_train_score']]\n",
    "\n",
    "fig, (ax,ax2) = plt.subplots(ncols=2, figsize=(17,5))\n",
    "fig.subplots_adjust(wspace=0.2)\n",
    "sns.heatmap(max_scores.mean_train_score,annot=True, fmt='.4g', cmap=\"rocket\", ax=ax, cbar=False)\n",
    "fig.colorbar(ax.collections[0], ax=ax,location=\"left\", use_gridspec=False, pad=0.2)\n",
    "sns.heatmap(max_scores.mean_test_score,annot=True, fmt='.4g', cmap=\"icefire\", ax=ax2, cbar=False)\n",
    "fig.colorbar(ax2.collections[0], ax=ax2,location=\"right\", use_gridspec=False, pad=0.2)\n",
    "ax2.yaxis.tick_right()\n",
    "ax2.tick_params(rotation=0)\n",
    "ax.title.set_text('Train AUC Score')\n",
    "ax2.title.set_text('CV AUC Score')\n",
    "plt.show()"
   ]
  },
  {
   "cell_type": "code",
   "execution_count": 43,
   "metadata": {},
   "outputs": [
    {
     "data": {
      "image/png": "[encoded data removed]",
      "text/plain": [
       "<Figure size 432x288 with 1 Axes>"
      ]
     },
     "metadata": {
      "needs_background": "light"
     },
     "output_type": "display_data"
    }
   ],
   "source": [
    "# Testing accuracy on test dataset\n",
    "clf2 = DecisionTreeClassifier( max_depth=bestParameter.max_depth, min_samples_split=bestParameter.min_samples_split)\n",
    "clf2.fit(X_train_tfidf,y_train)\n",
    "\n",
    "predTest  = clf2.predict_proba(X_test_tfidf)\n",
    "predTrain = clf2.predict_proba(X_train_tfidf)\n",
    "\n",
    "train_fpr, train_tpr, thresholds = roc_curve(y_train, predTrain[:,1])\n",
    "test_fpr, test_tpr, thresholds = roc_curve(y_test, predTest[:,1])\n",
    "\n",
    "plt.plot(train_fpr, train_tpr, label=\"train AUC =\"+str(auc(train_fpr, train_tpr)))\n",
    "plt.plot(test_fpr, test_tpr, label=\"test AUC =\"+str(auc(test_fpr, test_tpr)))\n",
    "\n",
    "plt.legend()\n",
    "plt.xlabel(\"FPR\")\n",
    "plt.ylabel(\"TPR\")\n",
    "plt.title(\"ROC\")\n",
    "plt.show()"
   ]
  },
  {
   "cell_type": "code",
   "execution_count": 47,
   "metadata": {},
   "outputs": [
    {
     "data": {
      "image/png": "[encoded data removed]",
      "text/plain": [
       "<Figure size 432x288 with 2 Axes>"
      ]
     },
     "metadata": {
      "needs_background": "light"
     },
     "output_type": "display_data"
    }
   ],
   "source": [
    "# Confusion Matrix\n",
    "confusionMatrixPlot(y_test,clf2.predict(X_test_tfidf))"
   ]
  },
  {
   "cell_type": "markdown",
   "metadata": {
    "colab_type": "text",
    "id": "PIKUCldjiWO0"
   },
   "source": [
    "### [5.2.1] Top 20 important features from<font color='red'> SET 2</font>"
   ]
  },
  {
   "cell_type": "code",
   "execution_count": 48,
   "metadata": {
    "colab": {},
    "colab_type": "code",
    "id": "p2P0iHQciWO1"
   },
   "outputs": [],
   "source": [
    "# Please write all the code with proper documentation\n",
    "featureProb = pd.DataFrame(\n",
    "    {'feature': vectorizer.get_feature_names(),\n",
    "     'Probability': clf2.feature_importances_\n",
    "    })\n",
    "\n",
    "sortedFeature = featureProb.sort_values('Probability', axis=0, ascending=False, inplace=False, kind='quicksort', na_position='last')"
   ]
  },
  {
   "cell_type": "code",
   "execution_count": 49,
   "metadata": {},
   "outputs": [
    {
     "data": {
      "text/html": [
       "<div>\n",
       "<style scoped>\n",
       "    .dataframe tbody tr th:only-of-type {\n",
       "        vertical-align: middle;\n",
       "    }\n",
       "\n",
       "    .dataframe tbody tr th {\n",
       "        vertical-align: top;\n",
       "    }\n",
       "\n",
       "    .dataframe thead th {\n",
       "        text-align: right;\n",
       "    }\n",
       "</style>\n",
       "<table border=\"1\" class=\"dataframe\">\n",
       "  <thead>\n",
       "    <tr style=\"text-align: right;\">\n",
       "      <th></th>\n",
       "      <th>feature</th>\n",
       "      <th>Probability</th>\n",
       "    </tr>\n",
       "  </thead>\n",
       "  <tbody>\n",
       "    <tr>\n",
       "      <th>21974</th>\n",
       "      <td>not</td>\n",
       "      <td>0.097223</td>\n",
       "    </tr>\n",
       "    <tr>\n",
       "      <th>14403</th>\n",
       "      <td>great</td>\n",
       "      <td>0.048852</td>\n",
       "    </tr>\n",
       "    <tr>\n",
       "      <th>37127</th>\n",
       "      <td>worst</td>\n",
       "      <td>0.036925</td>\n",
       "    </tr>\n",
       "    <tr>\n",
       "      <th>8451</th>\n",
       "      <td>disappointed</td>\n",
       "      <td>0.034050</td>\n",
       "    </tr>\n",
       "    <tr>\n",
       "      <th>1889</th>\n",
       "      <td>awful</td>\n",
       "      <td>0.026560</td>\n",
       "    </tr>\n",
       "    <tr>\n",
       "      <th>15718</th>\n",
       "      <td>horrible</td>\n",
       "      <td>0.026517</td>\n",
       "    </tr>\n",
       "    <tr>\n",
       "      <th>33289</th>\n",
       "      <td>terrible</td>\n",
       "      <td>0.024398</td>\n",
       "    </tr>\n",
       "    <tr>\n",
       "      <th>20760</th>\n",
       "      <td>money</td>\n",
       "      <td>0.024182</td>\n",
       "    </tr>\n",
       "    <tr>\n",
       "      <th>22058</th>\n",
       "      <td>not buy</td>\n",
       "      <td>0.022317</td>\n",
       "    </tr>\n",
       "    <tr>\n",
       "      <th>2608</th>\n",
       "      <td>best</td>\n",
       "      <td>0.021443</td>\n",
       "    </tr>\n",
       "    <tr>\n",
       "      <th>22526</th>\n",
       "      <td>not recommend</td>\n",
       "      <td>0.019034</td>\n",
       "    </tr>\n",
       "    <tr>\n",
       "      <th>22161</th>\n",
       "      <td>not disappointed</td>\n",
       "      <td>0.018513</td>\n",
       "    </tr>\n",
       "    <tr>\n",
       "      <th>22744</th>\n",
       "      <td>not worth</td>\n",
       "      <td>0.016513</td>\n",
       "    </tr>\n",
       "    <tr>\n",
       "      <th>7944</th>\n",
       "      <td>delicious</td>\n",
       "      <td>0.015043</td>\n",
       "    </tr>\n",
       "    <tr>\n",
       "      <th>1980</th>\n",
       "      <td>bad</td>\n",
       "      <td>0.013931</td>\n",
       "    </tr>\n",
       "    <tr>\n",
       "      <th>27769</th>\n",
       "      <td>return</td>\n",
       "      <td>0.013578</td>\n",
       "    </tr>\n",
       "    <tr>\n",
       "      <th>8469</th>\n",
       "      <td>disappointment</td>\n",
       "      <td>0.013141</td>\n",
       "    </tr>\n",
       "    <tr>\n",
       "      <th>33742</th>\n",
       "      <td>threw</td>\n",
       "      <td>0.012489</td>\n",
       "    </tr>\n",
       "    <tr>\n",
       "      <th>18820</th>\n",
       "      <td>love</td>\n",
       "      <td>0.011549</td>\n",
       "    </tr>\n",
       "    <tr>\n",
       "      <th>8468</th>\n",
       "      <td>disappointing</td>\n",
       "      <td>0.011126</td>\n",
       "    </tr>\n",
       "  </tbody>\n",
       "</table>\n",
       "</div>"
      ],
      "text/plain": [
       "                feature  Probability\n",
       "21974               not     0.097223\n",
       "14403             great     0.048852\n",
       "37127             worst     0.036925\n",
       "8451       disappointed     0.034050\n",
       "1889              awful     0.026560\n",
       "15718          horrible     0.026517\n",
       "33289          terrible     0.024398\n",
       "20760             money     0.024182\n",
       "22058           not buy     0.022317\n",
       "2608               best     0.021443\n",
       "22526     not recommend     0.019034\n",
       "22161  not disappointed     0.018513\n",
       "22744         not worth     0.016513\n",
       "7944          delicious     0.015043\n",
       "1980                bad     0.013931\n",
       "27769            return     0.013578\n",
       "8469     disappointment     0.013141\n",
       "33742             threw     0.012489\n",
       "18820              love     0.011549\n",
       "8468      disappointing     0.011126"
      ]
     },
     "execution_count": 49,
     "metadata": {},
     "output_type": "execute_result"
    }
   ],
   "source": [
    "# Top 10 positive features\n",
    "sortedFeature[:20]"
   ]
  },
  {
   "cell_type": "markdown",
   "metadata": {
    "colab_type": "text",
    "id": "RTZB9ipUiWO3"
   },
   "source": [
    "### [5.2.2] Graphviz visualization of Decision Tree on TFIDF,<font color='red'> SET 2</font>"
   ]
  },
  {
   "cell_type": "code",
   "execution_count": 50,
   "metadata": {
    "colab": {},
    "colab_type": "code",
    "id": "DMbZoPoTiWO4"
   },
   "outputs": [
    {
     "data": {
      "text/plain": [
       "DecisionTreeClassifier(class_weight=None, criterion='gini', max_depth=3,\n",
       "            max_features=None, max_leaf_nodes=None,\n",
       "            min_impurity_decrease=0.0, min_impurity_split=None,\n",
       "            min_samples_leaf=1, min_samples_split=2,\n",
       "            min_weight_fraction_leaf=0.0, presort=False, random_state=None,\n",
       "            splitter='best')"
      ]
     },
     "execution_count": 50,
     "metadata": {},
     "output_type": "execute_result"
    }
   ],
   "source": [
    "# Please write all the code with proper documentation\n",
    "# Training\n",
    "clfGV = DecisionTreeClassifier( max_depth=3)\n",
    "clfGV.fit(X_train_tfidf,y_train)"
   ]
  },
  {
   "cell_type": "code",
   "execution_count": 54,
   "metadata": {},
   "outputs": [
    {
     "data": {
      "text/plain": [
       "True"
      ]
     },
     "execution_count": 54,
     "metadata": {},
     "output_type": "execute_result"
    }
   ],
   "source": [
    "import collections\n",
    "import pydotplus\n",
    "from sklearn import tree\n",
    "dot_data = tree.export_graphviz(clfGV,\n",
    "                           feature_names=vectorizer.get_feature_names(),\n",
    "                           out_file=None,\n",
    "                           filled=True,\n",
    "                           rounded=True)\n",
    "graph = pydotplus.graph_from_dot_data(dot_data)\n",
    "graph.write_png('DtreeTFIDF.png')"
   ]
  },
  {
   "cell_type": "markdown",
   "metadata": {},
   "source": [
    "#### Decision tree visualization\n",
    "<img src='DtreeTFIDF.png' width=1000px>"
   ]
  },
  {
   "cell_type": "markdown",
   "metadata": {},
   "source": [
    "#### Feature Engineering"
   ]
  },
  {
   "cell_type": "code",
   "execution_count": 55,
   "metadata": {},
   "outputs": [
    {
     "name": "stdout",
     "output_type": "stream",
     "text": [
      "Old Dimension: (67000, 37655)\n",
      "New Dimension: (67000, 37656)\n"
     ]
    }
   ],
   "source": [
    "# Adding review length to the train dataset\n",
    "reviewLen = pd.to_numeric((X_train[:,-1:]).reshape(X_train.shape[0],))\n",
    "reviewLen = reviewLen.reshape(X_train.shape[0],1)\n",
    "X_train_tfidf_newF = sparse.hstack((X_train_tfidf,reviewLen))\n",
    "X_train_tfidf_newF = preprocessing.normalize(X_train_tfidf_newF)\n",
    "print(\"Old Dimension: \"+str(X_train_tfidf.shape))\n",
    "print(\"New Dimension: \"+ str(X_train_tfidf_newF.shape))"
   ]
  },
  {
   "cell_type": "code",
   "execution_count": 56,
   "metadata": {},
   "outputs": [
    {
     "name": "stdout",
     "output_type": "stream",
     "text": [
      "Old Dimension: (33000, 37655)\n",
      "New Dimension: (33000, 37656)\n"
     ]
    }
   ],
   "source": [
    "# Adding review length to the test dataset\n",
    "reviewLen = pd.to_numeric((X_test[:,-1:]).reshape(X_test.shape[0],))\n",
    "reviewLen = reviewLen.reshape(X_test.shape[0],1)\n",
    "X_test_tfidf_newF = sparse.hstack((X_test_tfidf,reviewLen))\n",
    "X_test_tfidf_newF = preprocessing.normalize(X_test_tfidf_newF)\n",
    "print(\"Old Dimension: \"+str(X_test_bow.shape))\n",
    "print(\"New Dimension: \"+ str(X_test_tfidf_newF.shape))"
   ]
  },
  {
   "cell_type": "code",
   "execution_count": 57,
   "metadata": {},
   "outputs": [
    {
     "data": {
      "image/png": "[encoded data removed]",
      "text/plain": [
       "<Figure size 432x288 with 1 Axes>"
      ]
     },
     "metadata": {
      "needs_background": "light"
     },
     "output_type": "display_data"
    }
   ],
   "source": [
    "# Testing accuracy on test dataset\n",
    "clf = DecisionTreeClassifier( max_depth=bestParameter.max_depth,min_samples_split=bestParameter.min_samples_split )\n",
    "clf.fit(X_train_tfidf_newF,y_train)\n",
    "\n",
    "predTest  = clf.predict_proba(X_test_tfidf_newF)\n",
    "predTrain = clf.predict_proba(X_train_tfidf_newF)\n",
    "\n",
    "train_fpr, train_tpr, thresholds = roc_curve(y_train, predTrain[:,1])\n",
    "test_fpr, test_tpr, thresholds = roc_curve(y_test, predTest[:,1])\n",
    "\n",
    "plt.plot(train_fpr, train_tpr, label=\"train AUC =\"+str(auc(train_fpr, train_tpr)))\n",
    "plt.plot(test_fpr, test_tpr, label=\"test AUC =\"+str(auc(test_fpr, test_tpr)))\n",
    "\n",
    "plt.legend()\n",
    "plt.xlabel(\"FPR\")\n",
    "plt.ylabel(\"TPR\")\n",
    "plt.title(\"ROC\")\n",
    "plt.show()"
   ]
  },
  {
   "cell_type": "markdown",
   "metadata": {},
   "source": [
    "<b>Observation:</b>\n",
    "    - Model accuracy slighly increases after adding review length as a extra feature. "
   ]
  },
  {
   "cell_type": "markdown",
   "metadata": {
    "colab_type": "text",
    "id": "NVhl_V6MiWO5"
   },
   "source": [
    "## [5.3] Applying Decision Trees on AVG W2V,<font color='red'> SET 3</font>"
   ]
  },
  {
   "cell_type": "code",
   "execution_count": 62,
   "metadata": {},
   "outputs": [],
   "source": [
    "# Train your own Word2Vec model using your own text corpus\n",
    "def sentenceSplit(data):\n",
    "    list_of_sentance=[]\n",
    "    for sentance in data:\n",
    "        list_of_sentance.append(sentance.split())\n",
    "    return list_of_sentance"
   ]
  },
  {
   "cell_type": "code",
   "execution_count": 63,
   "metadata": {},
   "outputs": [],
   "source": [
    "# this line of code trains your w2v model on the give list of sentances\n",
    "list_of_sentance_train = sentenceSplit(X_trainText)\n",
    "w2v_model=Word2Vec(list_of_sentance_train,min_count=5,size=150, workers=4)\n",
    "w2v_words = list(w2v_model.wv.vocab)"
   ]
  },
  {
   "cell_type": "code",
   "execution_count": 74,
   "metadata": {},
   "outputs": [],
   "source": [
    "def avgW2V(list_of_sentance,W2VModel):\n",
    "    # average Word2Vec\n",
    "    # compute average word2vec for each review.\n",
    "    sent_vectors = []; # the avg-w2v for each sentence/review is stored in this list\n",
    "    for sent in tqdm(list_of_sentance): # for each review/sentence\n",
    "        sent_vec = np.zeros(150) # as word vectors are of zero length 50, you might need to change this to 300 if you use google's w2v\n",
    "        cnt_words =0; # num of words with a valid vector in the sentence/review\n",
    "        for word in sent: # for each word in a review/sentence\n",
    "            if word in W2VModel:\n",
    "                vec = W2VModel.wv[word]\n",
    "                sent_vec += vec\n",
    "                cnt_words += 1\n",
    "        if cnt_words != 0:\n",
    "            sent_vec /= cnt_words\n",
    "        sent_vectors.append(sent_vec)\n",
    "    return sent_vectors"
   ]
  },
  {
   "cell_type": "code",
   "execution_count": 26,
   "metadata": {},
   "outputs": [],
   "source": [
    "# Vectorizing Train and Test data\n",
    "# Training Data\n",
    "X_train_w2v = avgW2V(list_of_sentance_train, w2v_model)\n",
    "X_train_w2v = preprocessing.normalize(X_test_tfidf_AW2V)\n",
    "\n",
    "# Test Data\n",
    "list_of_sentance_test = sentenceSplit(X_testText)\n",
    "X_test_w2v = avgW2V(list_of_sentance_test, w2v_model)\n",
    "X_test_w2v = preprocessing.normalize(X_test_tfidf_AW2V)"
   ]
  },
  {
   "cell_type": "code",
   "execution_count": 76,
   "metadata": {},
   "outputs": [
    {
     "name": "stdout",
     "output_type": "stream",
     "text": [
      "Fitting 10 folds for each of 28 candidates, totalling 280 fits\n",
      "[CV] max_depth=1, min_samples_split=5 ................................\n"
     ]
    },
    {
     "name": "stderr",
     "output_type": "stream",
     "text": [
      "[Parallel(n_jobs=1)]: Using backend SequentialBackend with 1 concurrent workers.\n"
     ]
    },
    {
     "name": "stdout",
     "output_type": "stream",
     "text": [
      "[CV]  max_depth=1, min_samples_split=5, score=0.6598869713049301, total=   1.8s\n",
      "[CV] max_depth=1, min_samples_split=5 ................................\n"
     ]
    },
    {
     "name": "stderr",
     "output_type": "stream",
     "text": [
      "[Parallel(n_jobs=1)]: Done   1 out of   1 | elapsed:    1.9s remaining:    0.0s\n"
     ]
    },
    {
     "name": "stdout",
     "output_type": "stream",
     "text": [
      "[CV]  max_depth=1, min_samples_split=5, score=0.6720180528691166, total=   1.8s\n",
      "[CV] max_depth=1, min_samples_split=5 ................................\n"
     ]
    },
    {
     "name": "stderr",
     "output_type": "stream",
     "text": [
      "[Parallel(n_jobs=1)]: Done   2 out of   2 | elapsed:    3.8s remaining:    0.0s\n"
     ]
    },
    {
     "name": "stdout",
     "output_type": "stream",
     "text": [
      "[CV]  max_depth=1, min_samples_split=5, score=0.678749194068343, total=   1.8s\n",
      "[CV] max_depth=1, min_samples_split=5 ................................\n"
     ]
    },
    {
     "name": "stderr",
     "output_type": "stream",
     "text": [
      "[Parallel(n_jobs=1)]: Done   3 out of   3 | elapsed:    5.7s remaining:    0.0s\n"
     ]
    },
    {
     "name": "stdout",
     "output_type": "stream",
     "text": [
      "[CV]  max_depth=1, min_samples_split=5, score=0.6695138620245003, total=   1.8s\n",
      "[CV] max_depth=1, min_samples_split=5 ................................\n"
     ]
    },
    {
     "name": "stderr",
     "output_type": "stream",
     "text": [
      "[Parallel(n_jobs=1)]: Done   4 out of   4 | elapsed:    7.6s remaining:    0.0s\n"
     ]
    },
    {
     "name": "stdout",
     "output_type": "stream",
     "text": [
      "[CV]  max_depth=1, min_samples_split=5, score=0.6663288201160541, total=   1.8s\n",
      "[CV] max_depth=1, min_samples_split=5 ................................\n"
     ]
    },
    {
     "name": "stderr",
     "output_type": "stream",
     "text": [
      "[Parallel(n_jobs=1)]: Done   5 out of   5 | elapsed:    9.5s remaining:    0.0s\n"
     ]
    },
    {
     "name": "stdout",
     "output_type": "stream",
     "text": [
      "[CV]  max_depth=1, min_samples_split=5, score=0.6722321083172147, total=   1.8s\n",
      "[CV] max_depth=1, min_samples_split=5 ................................\n"
     ]
    },
    {
     "name": "stderr",
     "output_type": "stream",
     "text": [
      "[Parallel(n_jobs=1)]: Done   6 out of   6 | elapsed:   11.4s remaining:    0.0s\n"
     ]
    },
    {
     "name": "stdout",
     "output_type": "stream",
     "text": [
      "[CV]  max_depth=1, min_samples_split=5, score=0.6764306898774983, total=   1.8s\n",
      "[CV] max_depth=1, min_samples_split=5 ................................\n"
     ]
    },
    {
     "name": "stderr",
     "output_type": "stream",
     "text": [
      "[Parallel(n_jobs=1)]: Done   7 out of   7 | elapsed:   13.4s remaining:    0.0s\n"
     ]
    },
    {
     "name": "stdout",
     "output_type": "stream",
     "text": [
      "[CV]  max_depth=1, min_samples_split=5, score=0.681619600257898, total=   1.8s\n",
      "[CV] max_depth=1, min_samples_split=5 ................................\n"
     ]
    },
    {
     "name": "stderr",
     "output_type": "stream",
     "text": [
      "[Parallel(n_jobs=1)]: Done   8 out of   8 | elapsed:   15.3s remaining:    0.0s\n"
     ]
    },
    {
     "name": "stdout",
     "output_type": "stream",
     "text": [
      "[CV]  max_depth=1, min_samples_split=5, score=0.6711618310767247, total=   1.8s\n",
      "[CV] max_depth=1, min_samples_split=5 ................................\n"
     ]
    },
    {
     "name": "stderr",
     "output_type": "stream",
     "text": [
      "[Parallel(n_jobs=1)]: Done   9 out of   9 | elapsed:   17.2s remaining:    0.0s\n"
     ]
    },
    {
     "name": "stdout",
     "output_type": "stream",
     "text": [
      "[CV]  max_depth=1, min_samples_split=5, score=0.6738781069118147, total=   1.8s\n",
      "[CV] max_depth=1, min_samples_split=10 ...............................\n",
      "[CV]  max_depth=1, min_samples_split=10, score=0.6598869713049301, total=   1.8s\n",
      "[CV] max_depth=1, min_samples_split=10 ...............................\n",
      "[CV]  max_depth=1, min_samples_split=10, score=0.6720180528691166, total=   1.8s\n",
      "[CV] max_depth=1, min_samples_split=10 ...............................\n",
      "[CV]  max_depth=1, min_samples_split=10, score=0.678749194068343, total=   1.8s\n",
      "[CV] max_depth=1, min_samples_split=10 ...............................\n",
      "[CV]  max_depth=1, min_samples_split=10, score=0.6695138620245003, total=   1.8s\n",
      "[CV] max_depth=1, min_samples_split=10 ...............................\n",
      "[CV]  max_depth=1, min_samples_split=10, score=0.6663288201160541, total=   1.8s\n",
      "[CV] max_depth=1, min_samples_split=10 ...............................\n",
      "[CV]  max_depth=1, min_samples_split=10, score=0.6722321083172147, total=   1.8s\n",
      "[CV] max_depth=1, min_samples_split=10 ...............................\n",
      "[CV]  max_depth=1, min_samples_split=10, score=0.6764306898774983, total=   1.8s\n",
      "[CV] max_depth=1, min_samples_split=10 ...............................\n",
      "[CV]  max_depth=1, min_samples_split=10, score=0.681619600257898, total=   1.8s\n",
      "[CV] max_depth=1, min_samples_split=10 ...............................\n",
      "[CV]  max_depth=1, min_samples_split=10, score=0.6711618310767247, total=   1.8s\n",
      "[CV] max_depth=1, min_samples_split=10 ...............................\n",
      "[CV]  max_depth=1, min_samples_split=10, score=0.6738781069118147, total=   1.8s\n",
      "[CV] max_depth=1, min_samples_split=100 ..............................\n",
      "[CV]  max_depth=1, min_samples_split=100, score=0.6598869713049301, total=   1.8s\n",
      "[CV] max_depth=1, min_samples_split=100 ..............................\n",
      "[CV]  max_depth=1, min_samples_split=100, score=0.6720180528691166, total=   1.8s\n",
      "[CV] max_depth=1, min_samples_split=100 ..............................\n",
      "[CV]  max_depth=1, min_samples_split=100, score=0.678749194068343, total=   1.8s\n",
      "[CV] max_depth=1, min_samples_split=100 ..............................\n",
      "[CV]  max_depth=1, min_samples_split=100, score=0.6695138620245003, total=   1.8s\n",
      "[CV] max_depth=1, min_samples_split=100 ..............................\n",
      "[CV]  max_depth=1, min_samples_split=100, score=0.6663288201160541, total=   1.8s\n",
      "[CV] max_depth=1, min_samples_split=100 ..............................\n",
      "[CV]  max_depth=1, min_samples_split=100, score=0.6722321083172147, total=   1.8s\n",
      "[CV] max_depth=1, min_samples_split=100 ..............................\n",
      "[CV]  max_depth=1, min_samples_split=100, score=0.6764306898774983, total=   1.8s\n",
      "[CV] max_depth=1, min_samples_split=100 ..............................\n",
      "[CV]  max_depth=1, min_samples_split=100, score=0.681619600257898, total=   1.8s\n",
      "[CV] max_depth=1, min_samples_split=100 ..............................\n",
      "[CV]  max_depth=1, min_samples_split=100, score=0.6711618310767247, total=   1.8s\n",
      "[CV] max_depth=1, min_samples_split=100 ..............................\n",
      "[CV]  max_depth=1, min_samples_split=100, score=0.6738781069118147, total=   1.8s\n",
      "[CV] max_depth=1, min_samples_split=500 ..............................\n",
      "[CV]  max_depth=1, min_samples_split=500, score=0.6598869713049301, total=   1.8s\n",
      "[CV] max_depth=1, min_samples_split=500 ..............................\n",
      "[CV]  max_depth=1, min_samples_split=500, score=0.6720180528691166, total=   1.8s\n",
      "[CV] max_depth=1, min_samples_split=500 ..............................\n",
      "[CV]  max_depth=1, min_samples_split=500, score=0.678749194068343, total=   1.8s\n",
      "[CV] max_depth=1, min_samples_split=500 ..............................\n",
      "[CV]  max_depth=1, min_samples_split=500, score=0.6695138620245003, total=   1.8s\n",
      "[CV] max_depth=1, min_samples_split=500 ..............................\n",
      "[CV]  max_depth=1, min_samples_split=500, score=0.6663288201160541, total=   1.8s\n",
      "[CV] max_depth=1, min_samples_split=500 ..............................\n",
      "[CV]  max_depth=1, min_samples_split=500, score=0.6722321083172147, total=   1.8s\n",
      "[CV] max_depth=1, min_samples_split=500 ..............................\n",
      "[CV]  max_depth=1, min_samples_split=500, score=0.6764306898774983, total=   1.8s\n",
      "[CV] max_depth=1, min_samples_split=500 ..............................\n",
      "[CV]  max_depth=1, min_samples_split=500, score=0.681619600257898, total=   1.8s\n",
      "[CV] max_depth=1, min_samples_split=500 ..............................\n",
      "[CV]  max_depth=1, min_samples_split=500, score=0.6711618310767247, total=   1.8s\n",
      "[CV] max_depth=1, min_samples_split=500 ..............................\n",
      "[CV]  max_depth=1, min_samples_split=500, score=0.6738781069118147, total=   1.8s\n",
      "[CV] max_depth=5, min_samples_split=5 ................................\n",
      "[CV]  max_depth=5, min_samples_split=5, score=0.8239861933954975, total=   7.9s\n",
      "[CV] max_depth=5, min_samples_split=5 ................................\n",
      "[CV]  max_depth=5, min_samples_split=5, score=0.8197213668600902, total=   7.8s\n",
      "[CV] max_depth=5, min_samples_split=5 ................................\n",
      "[CV]  max_depth=5, min_samples_split=5, score=0.8214511411992264, total=   8.4s\n",
      "[CV] max_depth=5, min_samples_split=5 ................................\n",
      "[CV]  max_depth=5, min_samples_split=5, score=0.8430074016763378, total=   7.8s\n",
      "[CV] max_depth=5, min_samples_split=5 ................................\n",
      "[CV]  max_depth=5, min_samples_split=5, score=0.8099375370728561, total=   7.8s\n",
      "[CV] max_depth=5, min_samples_split=5 ................................\n",
      "[CV]  max_depth=5, min_samples_split=5, score=0.8144450805931657, total=   7.7s\n",
      "[CV] max_depth=5, min_samples_split=5 ................................\n",
      "[CV]  max_depth=5, min_samples_split=5, score=0.8209642295293359, total=   7.8s\n",
      "[CV] max_depth=5, min_samples_split=5 ................................\n",
      "[CV]  max_depth=5, min_samples_split=5, score=0.8330146744036105, total=   7.7s\n",
      "[CV] max_depth=5, min_samples_split=5 ................................\n",
      "[CV]  max_depth=5, min_samples_split=5, score=0.8302616634429401, total=   7.8s\n",
      "[CV] max_depth=5, min_samples_split=5 ................................\n",
      "[CV]  max_depth=5, min_samples_split=5, score=0.8216226617554503, total=   7.7s\n",
      "[CV] max_depth=5, min_samples_split=10 ...............................\n",
      "[CV]  max_depth=5, min_samples_split=10, score=0.8239861933954975, total=   7.8s\n",
      "[CV] max_depth=5, min_samples_split=10 ...............................\n",
      "[CV]  max_depth=5, min_samples_split=10, score=0.8197213668600902, total=   7.7s\n",
      "[CV] max_depth=5, min_samples_split=10 ...............................\n",
      "[CV]  max_depth=5, min_samples_split=10, score=0.8214511411992264, total=   7.7s\n",
      "[CV] max_depth=5, min_samples_split=10 ...............................\n",
      "[CV]  max_depth=5, min_samples_split=10, score=0.8430074016763378, total=   7.7s\n",
      "[CV] max_depth=5, min_samples_split=10 ...............................\n",
      "[CV]  max_depth=5, min_samples_split=10, score=0.8099375370728561, total=   7.8s\n",
      "[CV] max_depth=5, min_samples_split=10 ...............................\n",
      "[CV]  max_depth=5, min_samples_split=10, score=0.8144450805931657, total=   7.7s\n",
      "[CV] max_depth=5, min_samples_split=10 ...............................\n",
      "[CV]  max_depth=5, min_samples_split=10, score=0.8209642295293359, total=   7.8s\n",
      "[CV] max_depth=5, min_samples_split=10 ...............................\n",
      "[CV]  max_depth=5, min_samples_split=10, score=0.8330146744036105, total=   7.8s\n",
      "[CV] max_depth=5, min_samples_split=10 ...............................\n",
      "[CV]  max_depth=5, min_samples_split=10, score=0.8302616634429401, total=   7.8s\n",
      "[CV] max_depth=5, min_samples_split=10 ...............................\n",
      "[CV]  max_depth=5, min_samples_split=10, score=0.8216226617554503, total=   7.8s\n",
      "[CV] max_depth=5, min_samples_split=100 ..............................\n",
      "[CV]  max_depth=5, min_samples_split=100, score=0.8239861933954975, total=   7.8s\n",
      "[CV] max_depth=5, min_samples_split=100 ..............................\n",
      "[CV]  max_depth=5, min_samples_split=100, score=0.8197213668600902, total=   7.8s\n",
      "[CV] max_depth=5, min_samples_split=100 ..............................\n",
      "[CV]  max_depth=5, min_samples_split=100, score=0.8214511411992264, total=   7.8s\n",
      "[CV] max_depth=5, min_samples_split=100 ..............................\n"
     ]
    },
    {
     "name": "stdout",
     "output_type": "stream",
     "text": [
      "[CV]  max_depth=5, min_samples_split=100, score=0.8430074016763378, total=   7.9s\n",
      "[CV] max_depth=5, min_samples_split=100 ..............................\n",
      "[CV]  max_depth=5, min_samples_split=100, score=0.8099375370728561, total=   8.4s\n",
      "[CV] max_depth=5, min_samples_split=100 ..............................\n",
      "[CV]  max_depth=5, min_samples_split=100, score=0.8144450805931657, total=   7.8s\n",
      "[CV] max_depth=5, min_samples_split=100 ..............................\n",
      "[CV]  max_depth=5, min_samples_split=100, score=0.8209642295293359, total=   7.8s\n",
      "[CV] max_depth=5, min_samples_split=100 ..............................\n",
      "[CV]  max_depth=5, min_samples_split=100, score=0.8330146744036105, total=   7.8s\n",
      "[CV] max_depth=5, min_samples_split=100 ..............................\n",
      "[CV]  max_depth=5, min_samples_split=100, score=0.8302616634429401, total=   7.8s\n",
      "[CV] max_depth=5, min_samples_split=100 ..............................\n",
      "[CV]  max_depth=5, min_samples_split=100, score=0.8216226617554503, total=   7.7s\n",
      "[CV] max_depth=5, min_samples_split=500 ..............................\n",
      "[CV]  max_depth=5, min_samples_split=500, score=0.8239861933954975, total=   7.7s\n",
      "[CV] max_depth=5, min_samples_split=500 ..............................\n",
      "[CV]  max_depth=5, min_samples_split=500, score=0.8197213668600902, total=   7.8s\n",
      "[CV] max_depth=5, min_samples_split=500 ..............................\n",
      "[CV]  max_depth=5, min_samples_split=500, score=0.8214511411992264, total=   7.8s\n",
      "[CV] max_depth=5, min_samples_split=500 ..............................\n",
      "[CV]  max_depth=5, min_samples_split=500, score=0.8430074016763378, total=   7.7s\n",
      "[CV] max_depth=5, min_samples_split=500 ..............................\n",
      "[CV]  max_depth=5, min_samples_split=500, score=0.8100811347517731, total=   7.8s\n",
      "[CV] max_depth=5, min_samples_split=500 ..............................\n",
      "[CV]  max_depth=5, min_samples_split=500, score=0.8145247195357834, total=   7.7s\n",
      "[CV] max_depth=5, min_samples_split=500 ..............................\n",
      "[CV]  max_depth=5, min_samples_split=500, score=0.820929774339136, total=   7.6s\n",
      "[CV] max_depth=5, min_samples_split=500 ..............................\n",
      "[CV]  max_depth=5, min_samples_split=500, score=0.8330146744036105, total=   7.8s\n",
      "[CV] max_depth=5, min_samples_split=500 ..............................\n",
      "[CV]  max_depth=5, min_samples_split=500, score=0.829832520954223, total=   7.8s\n",
      "[CV] max_depth=5, min_samples_split=500 ..............................\n",
      "[CV]  max_depth=5, min_samples_split=500, score=0.8216226617554503, total=   7.6s\n",
      "[CV] max_depth=10, min_samples_split=5 ...............................\n",
      "[CV]  max_depth=10, min_samples_split=5, score=0.7849517284014219, total=  13.5s\n",
      "[CV] max_depth=10, min_samples_split=5 ...............................\n",
      "[CV]  max_depth=10, min_samples_split=5, score=0.8000283687943263, total=  13.6s\n",
      "[CV] max_depth=10, min_samples_split=5 ...............................\n",
      "[CV]  max_depth=10, min_samples_split=5, score=0.7969808381689232, total=  13.3s\n",
      "[CV] max_depth=10, min_samples_split=5 ...............................\n",
      "[CV]  max_depth=10, min_samples_split=5, score=0.8083455834945197, total=  13.4s\n",
      "[CV] max_depth=10, min_samples_split=5 ...............................\n",
      "[CV]  max_depth=10, min_samples_split=5, score=0.7859041134751774, total=  13.3s\n",
      "[CV] max_depth=10, min_samples_split=5 ...............................\n",
      "[CV]  max_depth=10, min_samples_split=5, score=0.7882332430689878, total=  13.2s\n",
      "[CV] max_depth=10, min_samples_split=5 ...............................\n",
      "[CV]  max_depth=10, min_samples_split=5, score=0.8044272856221792, total=  13.2s\n",
      "[CV] max_depth=10, min_samples_split=5 ...............................\n",
      "[CV]  max_depth=10, min_samples_split=5, score=0.8033668085106384, total=  13.3s\n",
      "[CV] max_depth=10, min_samples_split=5 ...............................\n",
      "[CV]  max_depth=10, min_samples_split=5, score=0.799578388136686, total=  13.3s\n",
      "[CV] max_depth=10, min_samples_split=5 ...............................\n",
      "[CV]  max_depth=10, min_samples_split=5, score=0.7768335035750766, total=  13.3s\n",
      "[CV] max_depth=10, min_samples_split=10 ..............................\n",
      "[CV]  max_depth=10, min_samples_split=10, score=0.7889649167997528, total=  13.3s\n",
      "[CV] max_depth=10, min_samples_split=10 ..............................\n",
      "[CV]  max_depth=10, min_samples_split=10, score=0.800785867182463, total=  13.2s\n",
      "[CV] max_depth=10, min_samples_split=10 ..............................\n",
      "[CV]  max_depth=10, min_samples_split=10, score=0.7989059961315281, total=  13.2s\n",
      "[CV] max_depth=10, min_samples_split=10 ..............................\n",
      "[CV]  max_depth=10, min_samples_split=10, score=0.8130417021276596, total=  13.7s\n",
      "[CV] max_depth=10, min_samples_split=10 ..............................\n",
      "[CV]  max_depth=10, min_samples_split=10, score=0.7936036105738233, total=  13.4s\n",
      "[CV] max_depth=10, min_samples_split=10 ..............................\n",
      "[CV]  max_depth=10, min_samples_split=10, score=0.790046679561573, total=  13.3s\n",
      "[CV] max_depth=10, min_samples_split=10 ..............................\n",
      "[CV]  max_depth=10, min_samples_split=10, score=0.8041382333978079, total=  13.4s\n",
      "[CV] max_depth=10, min_samples_split=10 ..............................\n",
      "[CV]  max_depth=10, min_samples_split=10, score=0.8071874145712444, total=  13.1s\n",
      "[CV] max_depth=10, min_samples_split=10 ..............................\n",
      "[CV]  max_depth=10, min_samples_split=10, score=0.8006402063185041, total=  13.5s\n",
      "[CV] max_depth=10, min_samples_split=10 ..............................\n",
      "[CV]  max_depth=10, min_samples_split=10, score=0.7778399933966837, total=  13.3s\n",
      "[CV] max_depth=10, min_samples_split=100 .............................\n",
      "[CV]  max_depth=10, min_samples_split=100, score=0.8338178352480552, total=  13.3s\n",
      "[CV] max_depth=10, min_samples_split=100 .............................\n",
      "[CV]  max_depth=10, min_samples_split=100, score=0.834355641521599, total=  13.2s\n",
      "[CV] max_depth=10, min_samples_split=100 .............................\n",
      "[CV]  max_depth=10, min_samples_split=100, score=0.831674635718891, total=  13.2s\n",
      "[CV] max_depth=10, min_samples_split=100 .............................\n",
      "[CV]  max_depth=10, min_samples_split=100, score=0.8393217279174725, total=  13.2s\n",
      "[CV] max_depth=10, min_samples_split=100 .............................\n",
      "[CV]  max_depth=10, min_samples_split=100, score=0.8146092069632495, total=  13.9s\n",
      "[CV] max_depth=10, min_samples_split=100 .............................\n",
      "[CV]  max_depth=10, min_samples_split=100, score=0.8262169954867826, total=  13.1s\n",
      "[CV] max_depth=10, min_samples_split=100 .............................\n",
      "[CV]  max_depth=10, min_samples_split=100, score=0.8350895164410059, total=  13.2s\n",
      "[CV] max_depth=10, min_samples_split=100 .............................\n",
      "[CV]  max_depth=10, min_samples_split=100, score=0.8357378723404255, total=  13.1s\n",
      "[CV] max_depth=10, min_samples_split=100 .............................\n",
      "[CV]  max_depth=10, min_samples_split=100, score=0.8360639587362992, total=  13.1s\n",
      "[CV] max_depth=10, min_samples_split=100 .............................\n",
      "[CV]  max_depth=10, min_samples_split=100, score=0.829819543752128, total=  13.1s\n",
      "[CV] max_depth=10, min_samples_split=500 .............................\n",
      "[CV]  max_depth=10, min_samples_split=500, score=0.8405666889907786, total=  12.5s\n",
      "[CV] max_depth=10, min_samples_split=500 .............................\n",
      "[CV]  max_depth=10, min_samples_split=500, score=0.8381729464861379, total=  12.4s\n",
      "[CV] max_depth=10, min_samples_split=500 .............................\n",
      "[CV]  max_depth=10, min_samples_split=500, score=0.8439415087040619, total=  12.5s\n",
      "[CV] max_depth=10, min_samples_split=500 .............................\n",
      "[CV]  max_depth=10, min_samples_split=500, score=0.8475246421663444, total=  12.3s\n",
      "[CV] max_depth=10, min_samples_split=500 .............................\n",
      "[CV]  max_depth=10, min_samples_split=500, score=0.8298251966473243, total=  12.5s\n",
      "[CV] max_depth=10, min_samples_split=500 .............................\n",
      "[CV]  max_depth=10, min_samples_split=500, score=0.8301915151515151, total=  12.4s\n",
      "[CV] max_depth=10, min_samples_split=500 .............................\n",
      "[CV]  max_depth=10, min_samples_split=500, score=0.8365222952933591, total=  12.3s\n",
      "[CV] max_depth=10, min_samples_split=500 .............................\n"
     ]
    },
    {
     "name": "stdout",
     "output_type": "stream",
     "text": [
      "[CV]  max_depth=10, min_samples_split=500, score=0.8446460863958737, total=  12.9s\n",
      "[CV] max_depth=10, min_samples_split=500 .............................\n",
      "[CV]  max_depth=10, min_samples_split=500, score=0.8443645647969052, total=  12.5s\n",
      "[CV] max_depth=10, min_samples_split=500 .............................\n",
      "[CV]  max_depth=10, min_samples_split=500, score=0.8327331538056769, total=  12.5s\n",
      "[CV] max_depth=50, min_samples_split=5 ...............................\n",
      "[CV]  max_depth=50, min_samples_split=5, score=0.6639992787594662, total=  23.4s\n",
      "[CV] max_depth=50, min_samples_split=5 ...............................\n",
      "[CV]  max_depth=50, min_samples_split=5, score=0.6595990199871051, total=  22.9s\n",
      "[CV] max_depth=50, min_samples_split=5 ...............................\n",
      "[CV]  max_depth=50, min_samples_split=5, score=0.6659285622179238, total=  24.3s\n",
      "[CV] max_depth=50, min_samples_split=5 ...............................\n",
      "[CV]  max_depth=50, min_samples_split=5, score=0.6774720825274017, total=  23.6s\n",
      "[CV] max_depth=50, min_samples_split=5 ...............................\n",
      "[CV]  max_depth=50, min_samples_split=5, score=0.6597045519019986, total=  23.9s\n",
      "[CV] max_depth=50, min_samples_split=5 ...............................\n",
      "[CV]  max_depth=50, min_samples_split=5, score=0.6517608768536428, total=  24.6s\n",
      "[CV] max_depth=50, min_samples_split=5 ...............................\n",
      "[CV]  max_depth=50, min_samples_split=5, score=0.6640211476466796, total=  23.5s\n",
      "[CV] max_depth=50, min_samples_split=5 ...............................\n",
      "[CV]  max_depth=50, min_samples_split=5, score=0.6576033010960671, total=  25.0s\n",
      "[CV] max_depth=50, min_samples_split=5 ...............................\n",
      "[CV]  max_depth=50, min_samples_split=5, score=0.6746571760154738, total=  24.8s\n",
      "[CV] max_depth=50, min_samples_split=5 ...............................\n",
      "[CV]  max_depth=50, min_samples_split=5, score=0.6614119747010452, total=  23.9s\n",
      "[CV] max_depth=50, min_samples_split=10 ..............................\n",
      "[CV]  max_depth=50, min_samples_split=10, score=0.6806529287517387, total=  23.5s\n",
      "[CV] max_depth=50, min_samples_split=10 ..............................\n",
      "[CV]  max_depth=50, min_samples_split=10, score=0.6803767375886526, total=  23.4s\n",
      "[CV] max_depth=50, min_samples_split=10 ..............................\n",
      "[CV]  max_depth=50, min_samples_split=10, score=0.6836883558994198, total=  24.3s\n",
      "[CV] max_depth=50, min_samples_split=10 ..............................\n",
      "[CV]  max_depth=50, min_samples_split=10, score=0.6950046163765313, total=  23.4s\n",
      "[CV] max_depth=50, min_samples_split=10 ..............................\n",
      "[CV]  max_depth=50, min_samples_split=10, score=0.6770713088330109, total=  23.0s\n",
      "[CV] max_depth=50, min_samples_split=10 ..............................\n",
      "[CV]  max_depth=50, min_samples_split=10, score=0.6603179368149581, total=  24.4s\n",
      "[CV] max_depth=50, min_samples_split=10 ..............................\n",
      "[CV]  max_depth=50, min_samples_split=10, score=0.6837376660219214, total=  23.3s\n",
      "[CV] max_depth=50, min_samples_split=10 ..............................\n",
      "[CV]  max_depth=50, min_samples_split=10, score=0.6725959509993552, total=  25.9s\n",
      "[CV] max_depth=50, min_samples_split=10 ..............................\n",
      "[CV]  max_depth=50, min_samples_split=10, score=0.6849295680206319, total=  24.9s\n",
      "[CV] max_depth=50, min_samples_split=10 ..............................\n",
      "[CV]  max_depth=50, min_samples_split=10, score=0.6673058470300555, total=  23.9s\n",
      "[CV] max_depth=50, min_samples_split=100 .............................\n",
      "[CV]  max_depth=50, min_samples_split=100, score=0.7875588068620886, total=  22.8s\n",
      "[CV] max_depth=50, min_samples_split=100 .............................\n",
      "[CV]  max_depth=50, min_samples_split=100, score=0.7899769439071567, total=  22.3s\n",
      "[CV] max_depth=50, min_samples_split=100 .............................\n",
      "[CV]  max_depth=50, min_samples_split=100, score=0.8008083558994197, total=  23.7s\n",
      "[CV] max_depth=50, min_samples_split=100 .............................\n",
      "[CV]  max_depth=50, min_samples_split=100, score=0.7917607736943908, total=  23.0s\n",
      "[CV] max_depth=50, min_samples_split=100 .............................\n",
      "[CV]  max_depth=50, min_samples_split=100, score=0.7671283043197936, total=  22.9s\n",
      "[CV] max_depth=50, min_samples_split=100 .............................\n",
      "[CV]  max_depth=50, min_samples_split=100, score=0.7922610960670535, total=  23.9s\n",
      "[CV] max_depth=50, min_samples_split=100 .............................\n",
      "[CV]  max_depth=50, min_samples_split=100, score=0.786795615731786, total=  22.8s\n",
      "[CV] max_depth=50, min_samples_split=100 .............................\n",
      "[CV]  max_depth=50, min_samples_split=100, score=0.7944372404900064, total=  24.3s\n",
      "[CV] max_depth=50, min_samples_split=100 .............................\n",
      "[CV]  max_depth=50, min_samples_split=100, score=0.7920684977433914, total=  24.3s\n",
      "[CV] max_depth=50, min_samples_split=100 .............................\n",
      "[CV]  max_depth=50, min_samples_split=100, score=0.7814354990146615, total=  23.5s\n",
      "[CV] max_depth=50, min_samples_split=500 .............................\n",
      "[CV]  max_depth=50, min_samples_split=500, score=0.8383850394106434, total=  21.1s\n",
      "[CV] max_depth=50, min_samples_split=500 .............................\n",
      "[CV]  max_depth=50, min_samples_split=500, score=0.8377512314635718, total=  20.2s\n",
      "[CV] max_depth=50, min_samples_split=500 .............................\n",
      "[CV]  max_depth=50, min_samples_split=500, score=0.8375896840747904, total=  21.1s\n",
      "[CV] max_depth=50, min_samples_split=500 .............................\n",
      "[CV]  max_depth=50, min_samples_split=500, score=0.8388188265635074, total=  20.3s\n",
      "[CV] max_depth=50, min_samples_split=500 .............................\n",
      "[CV]  max_depth=50, min_samples_split=500, score=0.8184058800773693, total=  20.0s\n",
      "[CV] max_depth=50, min_samples_split=500 .............................\n",
      "[CV]  max_depth=50, min_samples_split=500, score=0.8238415473887813, total=  21.2s\n",
      "[CV] max_depth=50, min_samples_split=500 .............................\n",
      "[CV]  max_depth=50, min_samples_split=500, score=0.8269993552546744, total=  20.0s\n",
      "[CV] max_depth=50, min_samples_split=500 .............................\n",
      "[CV]  max_depth=50, min_samples_split=500, score=0.8340651450676982, total=  21.9s\n",
      "[CV] max_depth=50, min_samples_split=500 .............................\n",
      "[CV]  max_depth=50, min_samples_split=500, score=0.8372466795615732, total=  22.2s\n",
      "[CV] max_depth=50, min_samples_split=500 .............................\n",
      "[CV]  max_depth=50, min_samples_split=500, score=0.826280785381909, total=  20.7s\n",
      "[CV] max_depth=100, min_samples_split=5 ..............................\n",
      "[CV]  max_depth=100, min_samples_split=5, score=0.658698057802277, total=  23.4s\n",
      "[CV] max_depth=100, min_samples_split=5 ..............................\n",
      "[CV]  max_depth=100, min_samples_split=5, score=0.6695117988394583, total=  23.2s\n",
      "[CV] max_depth=100, min_samples_split=5 ..............................\n",
      "[CV]  max_depth=100, min_samples_split=5, score=0.6653315796260477, total=  24.6s\n",
      "[CV] max_depth=100, min_samples_split=5 ..............................\n",
      "[CV]  max_depth=100, min_samples_split=5, score=0.6792757188910381, total=  23.5s\n",
      "[CV] max_depth=100, min_samples_split=5 ..............................\n",
      "[CV]  max_depth=100, min_samples_split=5, score=0.6648513733075435, total=  23.2s\n",
      "[CV] max_depth=100, min_samples_split=5 ..............................\n",
      "[CV]  max_depth=100, min_samples_split=5, score=0.6544026821405545, total=  25.1s\n",
      "[CV] max_depth=100, min_samples_split=5 ..............................\n",
      "[CV]  max_depth=100, min_samples_split=5, score=0.6604384268214055, total=  23.6s\n",
      "[CV] max_depth=100, min_samples_split=5 ..............................\n",
      "[CV]  max_depth=100, min_samples_split=5, score=0.6616336299161831, total=  25.1s\n",
      "[CV] max_depth=100, min_samples_split=5 ..............................\n",
      "[CV]  max_depth=100, min_samples_split=5, score=0.6700893874919407, total=  25.1s\n",
      "[CV] max_depth=100, min_samples_split=5 ..............................\n",
      "[CV]  max_depth=100, min_samples_split=5, score=0.6590130105962588, total=  23.9s\n",
      "[CV] max_depth=100, min_samples_split=10 .............................\n",
      "[CV]  max_depth=100, min_samples_split=10, score=0.6789699654834888, total=  23.4s\n",
      "[CV] max_depth=100, min_samples_split=10 .............................\n"
     ]
    },
    {
     "name": "stdout",
     "output_type": "stream",
     "text": [
      "[CV]  max_depth=100, min_samples_split=10, score=0.6780315151515152, total=  23.5s\n",
      "[CV] max_depth=100, min_samples_split=10 .............................\n",
      "[CV]  max_depth=100, min_samples_split=10, score=0.6841150225660864, total=  24.4s\n",
      "[CV] max_depth=100, min_samples_split=10 .............................\n",
      "[CV]  max_depth=100, min_samples_split=10, score=0.6913618568665376, total=  23.5s\n",
      "[CV] max_depth=100, min_samples_split=10 .............................\n",
      "[CV]  max_depth=100, min_samples_split=10, score=0.6788906254029659, total=  23.1s\n",
      "[CV] max_depth=100, min_samples_split=10 .............................\n",
      "[CV]  max_depth=100, min_samples_split=10, score=0.6656731399097356, total=  24.6s\n",
      "[CV] max_depth=100, min_samples_split=10 .............................\n",
      "[CV]  max_depth=100, min_samples_split=10, score=0.6770679045776917, total=  23.4s\n",
      "[CV] max_depth=100, min_samples_split=10 .............................\n",
      "[CV]  max_depth=100, min_samples_split=10, score=0.6769910509348807, total=  25.4s\n",
      "[CV] max_depth=100, min_samples_split=10 .............................\n",
      "[CV]  max_depth=100, min_samples_split=10, score=0.681173952288846, total=  25.2s\n",
      "[CV] max_depth=100, min_samples_split=10 .............................\n",
      "[CV]  max_depth=100, min_samples_split=10, score=0.6719516926156355, total=  24.0s\n",
      "[CV] max_depth=100, min_samples_split=100 ............................\n",
      "[CV]  max_depth=100, min_samples_split=100, score=0.7887162948843439, total=  22.9s\n",
      "[CV] max_depth=100, min_samples_split=100 ............................\n",
      "[CV]  max_depth=100, min_samples_split=100, score=0.7908341972920696, total=  22.4s\n",
      "[CV] max_depth=100, min_samples_split=100 ............................\n",
      "[CV]  max_depth=100, min_samples_split=100, score=0.798753526756931, total=  23.8s\n",
      "[CV] max_depth=100, min_samples_split=100 ............................\n",
      "[CV]  max_depth=100, min_samples_split=100, score=0.7941305480335268, total=  22.8s\n",
      "[CV] max_depth=100, min_samples_split=100 ............................\n",
      "[CV]  max_depth=100, min_samples_split=100, score=0.7673673243068987, total=  22.9s\n",
      "[CV] max_depth=100, min_samples_split=100 ............................\n",
      "[CV]  max_depth=100, min_samples_split=100, score=0.7906060090264346, total=  24.0s\n",
      "[CV] max_depth=100, min_samples_split=100 ............................\n",
      "[CV]  max_depth=100, min_samples_split=100, score=0.7873143004513217, total=  22.8s\n",
      "[CV] max_depth=100, min_samples_split=100 ............................\n",
      "[CV]  max_depth=100, min_samples_split=100, score=0.7952846937459703, total=  24.4s\n",
      "[CV] max_depth=100, min_samples_split=100 ............................\n",
      "[CV]  max_depth=100, min_samples_split=100, score=0.7921336943907157, total=  24.1s\n",
      "[CV] max_depth=100, min_samples_split=100 ............................\n",
      "[CV]  max_depth=100, min_samples_split=100, score=0.782835195674828, total=  23.4s\n",
      "[CV] max_depth=100, min_samples_split=500 ............................\n",
      "[CV]  max_depth=100, min_samples_split=500, score=0.8386898150533202, total=  20.5s\n",
      "[CV] max_depth=100, min_samples_split=500 ............................\n",
      "[CV]  max_depth=100, min_samples_split=500, score=0.8367607994842037, total=  20.6s\n",
      "[CV] max_depth=100, min_samples_split=500 ............................\n",
      "[CV]  max_depth=100, min_samples_split=500, score=0.8378526370083816, total=  21.2s\n",
      "[CV] max_depth=100, min_samples_split=500 ............................\n",
      "[CV]  max_depth=100, min_samples_split=500, score=0.840239948420374, total=  20.2s\n",
      "[CV] max_depth=100, min_samples_split=500 ............................\n",
      "[CV]  max_depth=100, min_samples_split=500, score=0.818470148291425, total=  20.0s\n",
      "[CV] max_depth=100, min_samples_split=500 ............................\n",
      "[CV]  max_depth=100, min_samples_split=500, score=0.8233499935525468, total=  21.3s\n",
      "[CV] max_depth=100, min_samples_split=500 ............................\n",
      "[CV]  max_depth=100, min_samples_split=500, score=0.8277377691811735, total=  20.2s\n",
      "[CV] max_depth=100, min_samples_split=500 ............................\n",
      "[CV]  max_depth=100, min_samples_split=500, score=0.8346988523533205, total=  21.8s\n",
      "[CV] max_depth=100, min_samples_split=500 ............................\n",
      "[CV]  max_depth=100, min_samples_split=500, score=0.8362522243713734, total=  22.1s\n",
      "[CV] max_depth=100, min_samples_split=500 ............................\n",
      "[CV]  max_depth=100, min_samples_split=500, score=0.8259038804799785, total=  21.0s\n",
      "[CV] max_depth=500, min_samples_split=5 ..............................\n",
      "[CV]  max_depth=500, min_samples_split=5, score=0.6585136262943692, total=  23.8s\n",
      "[CV] max_depth=500, min_samples_split=5 ..............................\n",
      "[CV]  max_depth=500, min_samples_split=5, score=0.6681822823984526, total=  23.3s\n",
      "[CV] max_depth=500, min_samples_split=5 ..............................\n",
      "[CV]  max_depth=500, min_samples_split=5, score=0.6628156286266924, total=  24.6s\n",
      "[CV] max_depth=500, min_samples_split=5 ..............................\n",
      "[CV]  max_depth=500, min_samples_split=5, score=0.6770819342359768, total=  23.8s\n",
      "[CV] max_depth=500, min_samples_split=5 ..............................\n",
      "[CV]  max_depth=500, min_samples_split=5, score=0.6586379883945842, total=  23.2s\n",
      "[CV] max_depth=500, min_samples_split=5 ..............................\n",
      "[CV]  max_depth=500, min_samples_split=5, score=0.6498859574468084, total=  25.4s\n",
      "[CV] max_depth=500, min_samples_split=5 ..............................\n",
      "[CV]  max_depth=500, min_samples_split=5, score=0.6607154094132817, total=  23.5s\n",
      "[CV] max_depth=500, min_samples_split=5 ..............................\n",
      "[CV]  max_depth=500, min_samples_split=5, score=0.6666338620245004, total=  25.1s\n",
      "[CV] max_depth=500, min_samples_split=5 ..............................\n",
      "[CV]  max_depth=500, min_samples_split=5, score=0.6654472211476468, total=  24.8s\n",
      "[CV] max_depth=500, min_samples_split=5 ..............................\n",
      "[CV]  max_depth=500, min_samples_split=5, score=0.6512640191496166, total=  24.0s\n",
      "[CV] max_depth=500, min_samples_split=10 .............................\n",
      "[CV]  max_depth=500, min_samples_split=10, score=0.6804843645355725, total=  23.8s\n",
      "[CV] max_depth=500, min_samples_split=10 .............................\n",
      "[CV]  max_depth=500, min_samples_split=10, score=0.6814401031592521, total=  23.6s\n",
      "[CV] max_depth=500, min_samples_split=10 .............................\n",
      "[CV]  max_depth=500, min_samples_split=10, score=0.6840814958091553, total=  24.6s\n",
      "[CV] max_depth=500, min_samples_split=10 .............................\n",
      "[CV]  max_depth=500, min_samples_split=10, score=0.6892895938104449, total=  23.9s\n",
      "[CV] max_depth=500, min_samples_split=10 .............................\n",
      "[CV]  max_depth=500, min_samples_split=10, score=0.6666064216634429, total=  23.2s\n",
      "[CV] max_depth=500, min_samples_split=10 .............................\n",
      "[CV]  max_depth=500, min_samples_split=10, score=0.6637598452611218, total=  24.5s\n",
      "[CV] max_depth=500, min_samples_split=10 .............................\n",
      "[CV]  max_depth=500, min_samples_split=10, score=0.6829127014829142, total=  23.7s\n",
      "[CV] max_depth=500, min_samples_split=10 .............................\n",
      "[CV]  max_depth=500, min_samples_split=10, score=0.6805122888459059, total=  25.2s\n",
      "[CV] max_depth=500, min_samples_split=10 .............................\n",
      "[CV]  max_depth=500, min_samples_split=10, score=0.6888647840103159, total=  25.5s\n",
      "[CV] max_depth=500, min_samples_split=10 .............................\n",
      "[CV]  max_depth=500, min_samples_split=10, score=0.6648925413481082, total=  24.0s\n",
      "[CV] max_depth=500, min_samples_split=100 ............................\n",
      "[CV]  max_depth=500, min_samples_split=100, score=0.7888855803410437, total=  23.0s\n",
      "[CV] max_depth=500, min_samples_split=100 ............................\n",
      "[CV]  max_depth=500, min_samples_split=100, score=0.7897454545454545, total=  22.5s\n",
      "[CV] max_depth=500, min_samples_split=100 ............................\n",
      "[CV]  max_depth=500, min_samples_split=100, score=0.8010333462282397, total=  23.8s\n",
      "[CV] max_depth=500, min_samples_split=100 ............................\n",
      "[CV]  max_depth=500, min_samples_split=100, score=0.7922336557059961, total=  23.4s\n",
      "[CV] max_depth=500, min_samples_split=100 ............................\n",
      "[CV]  max_depth=500, min_samples_split=100, score=0.7664005157962605, total=  22.7s\n",
      "[CV] max_depth=500, min_samples_split=100 ............................\n"
     ]
    },
    {
     "name": "stdout",
     "output_type": "stream",
     "text": [
      "[CV]  max_depth=500, min_samples_split=100, score=0.790507079303675, total=  24.0s\n",
      "[CV] max_depth=500, min_samples_split=100 ............................\n",
      "[CV]  max_depth=500, min_samples_split=100, score=0.7884345067698258, total=  22.8s\n",
      "[CV] max_depth=500, min_samples_split=100 ............................\n",
      "[CV]  max_depth=500, min_samples_split=100, score=0.7950274145712444, total=  24.5s\n",
      "[CV] max_depth=500, min_samples_split=100 ............................\n",
      "[CV]  max_depth=500, min_samples_split=100, score=0.7924446163765313, total=  24.3s\n",
      "[CV] max_depth=500, min_samples_split=100 ............................\n",
      "[CV]  max_depth=500, min_samples_split=100, score=0.7817651489357311, total=  23.3s\n",
      "[CV] max_depth=500, min_samples_split=500 ............................\n",
      "[CV]  max_depth=500, min_samples_split=500, score=0.8387304105919324, total=  20.4s\n",
      "[CV] max_depth=500, min_samples_split=500 ............................\n",
      "[CV]  max_depth=500, min_samples_split=500, score=0.8377870277240489, total=  20.6s\n",
      "[CV] max_depth=500, min_samples_split=500 ............................\n",
      "[CV]  max_depth=500, min_samples_split=500, score=0.8385724822695038, total=  21.1s\n",
      "[CV] max_depth=500, min_samples_split=500 ............................\n",
      "[CV]  max_depth=500, min_samples_split=500, score=0.8390734235976791, total=  20.1s\n",
      "[CV] max_depth=500, min_samples_split=500 ............................\n",
      "[CV]  max_depth=500, min_samples_split=500, score=0.8184716956802062, total=  20.0s\n",
      "[CV] max_depth=500, min_samples_split=500 ............................\n",
      "[CV]  max_depth=500, min_samples_split=500, score=0.8235306254029658, total=  21.3s\n",
      "[CV] max_depth=500, min_samples_split=500 ............................\n",
      "[CV]  max_depth=500, min_samples_split=500, score=0.8276512185686654, total=  20.3s\n",
      "[CV] max_depth=500, min_samples_split=500 ............................\n",
      "[CV]  max_depth=500, min_samples_split=500, score=0.8340256350741456, total=  22.2s\n",
      "[CV] max_depth=500, min_samples_split=500 ............................\n",
      "[CV]  max_depth=500, min_samples_split=500, score=0.8371810702772404, total=  21.8s\n",
      "[CV] max_depth=500, min_samples_split=500 ............................\n",
      "[CV]  max_depth=500, min_samples_split=500, score=0.8257124874898113, total=  20.8s\n",
      "[CV] max_depth=1000, min_samples_split=5 .............................\n",
      "[CV]  max_depth=1000, min_samples_split=5, score=0.6703818453454227, total=  23.7s\n",
      "[CV] max_depth=1000, min_samples_split=5 .............................\n",
      "[CV]  max_depth=1000, min_samples_split=5, score=0.6659097872340425, total=  23.4s\n",
      "[CV] max_depth=1000, min_samples_split=5 .............................\n",
      "[CV]  max_depth=1000, min_samples_split=5, score=0.6644300709219858, total=  24.5s\n",
      "[CV] max_depth=1000, min_samples_split=5 .............................\n",
      "[CV]  max_depth=1000, min_samples_split=5, score=0.6710425789813024, total=  23.7s\n",
      "[CV] max_depth=1000, min_samples_split=5 .............................\n",
      "[CV]  max_depth=1000, min_samples_split=5, score=0.6614917859445518, total=  23.2s\n",
      "[CV] max_depth=1000, min_samples_split=5 .............................\n",
      "[CV]  max_depth=1000, min_samples_split=5, score=0.6481395744680851, total=  25.5s\n",
      "[CV] max_depth=1000, min_samples_split=5 .............................\n",
      "[CV]  max_depth=1000, min_samples_split=5, score=0.6588890780141845, total=  23.4s\n",
      "[CV] max_depth=1000, min_samples_split=5 .............................\n",
      "[CV]  max_depth=1000, min_samples_split=5, score=0.6592999613152806, total=  25.1s\n",
      "[CV] max_depth=1000, min_samples_split=5 .............................\n",
      "[CV]  max_depth=1000, min_samples_split=5, score=0.6638568149580915, total=  24.8s\n",
      "[CV] max_depth=1000, min_samples_split=5 .............................\n",
      "[CV]  max_depth=1000, min_samples_split=5, score=0.655291113381001, total=  24.0s\n",
      "[CV] max_depth=1000, min_samples_split=10 ............................\n",
      "[CV]  max_depth=1000, min_samples_split=10, score=0.67789748080985, total=  23.9s\n",
      "[CV] max_depth=1000, min_samples_split=10 ............................\n",
      "[CV]  max_depth=1000, min_samples_split=10, score=0.6758910638297873, total=  23.3s\n",
      "[CV] max_depth=1000, min_samples_split=10 ............................\n",
      "[CV]  max_depth=1000, min_samples_split=10, score=0.683351334622824, total=  24.5s\n",
      "[CV] max_depth=1000, min_samples_split=10 ............................\n",
      "[CV]  max_depth=1000, min_samples_split=10, score=0.6987371244358479, total=  23.7s\n",
      "[CV] max_depth=1000, min_samples_split=10 ............................\n",
      "[CV]  max_depth=1000, min_samples_split=10, score=0.6658850290135396, total=  23.2s\n",
      "[CV] max_depth=1000, min_samples_split=10 ............................\n",
      "[CV]  max_depth=1000, min_samples_split=10, score=0.6778301482914248, total=  24.8s\n",
      "[CV] max_depth=1000, min_samples_split=10 ............................\n",
      "[CV]  max_depth=1000, min_samples_split=10, score=0.6829824371373308, total=  23.5s\n",
      "[CV] max_depth=1000, min_samples_split=10 ............................\n",
      "[CV]  max_depth=1000, min_samples_split=10, score=0.6744273372018054, total=  25.2s\n",
      "[CV] max_depth=1000, min_samples_split=10 ............................\n",
      "[CV]  max_depth=1000, min_samples_split=10, score=0.6895731785944551, total=  25.9s\n",
      "[CV] max_depth=1000, min_samples_split=10 ............................\n",
      "[CV]  max_depth=1000, min_samples_split=10, score=0.6659417463707555, total=  24.0s\n",
      "[CV] max_depth=1000, min_samples_split=100 ...........................\n",
      "[CV]  max_depth=1000, min_samples_split=100, score=0.7859417855854928, total=  22.8s\n",
      "[CV] max_depth=1000, min_samples_split=100 ...........................\n",
      "[CV]  max_depth=1000, min_samples_split=100, score=0.7875050419084462, total=  22.4s\n",
      "[CV] max_depth=1000, min_samples_split=100 ...........................\n",
      "[CV]  max_depth=1000, min_samples_split=100, score=0.8019780786589298, total=  23.9s\n",
      "[CV] max_depth=1000, min_samples_split=100 ...........................\n",
      "[CV]  max_depth=1000, min_samples_split=100, score=0.7927307801418441, total=  23.4s\n",
      "[CV] max_depth=1000, min_samples_split=100 ...........................\n",
      "[CV]  max_depth=1000, min_samples_split=100, score=0.7663724564796905, total=  22.4s\n",
      "[CV] max_depth=1000, min_samples_split=100 ...........................\n",
      "[CV]  max_depth=1000, min_samples_split=100, score=0.7935012765957448, total=  24.0s\n",
      "[CV] max_depth=1000, min_samples_split=100 ...........................\n",
      "[CV]  max_depth=1000, min_samples_split=100, score=0.7882563507414572, total=  22.8s\n",
      "[CV] max_depth=1000, min_samples_split=100 ...........................\n",
      "[CV]  max_depth=1000, min_samples_split=100, score=0.7958645519019987, total=  24.4s\n",
      "[CV] max_depth=1000, min_samples_split=100 ...........................\n",
      "[CV]  max_depth=1000, min_samples_split=100, score=0.7913846550612508, total=  24.2s\n",
      "[CV] max_depth=1000, min_samples_split=100 ...........................\n",
      "[CV]  max_depth=1000, min_samples_split=100, score=0.7807573178155405, total=  23.3s\n",
      "[CV] max_depth=1000, min_samples_split=500 ...........................\n",
      "[CV]  max_depth=1000, min_samples_split=500, score=0.838165988357117, total=  20.3s\n",
      "[CV] max_depth=1000, min_samples_split=500 ...........................\n",
      "[CV]  max_depth=1000, min_samples_split=500, score=0.8382825016118636, total=  20.2s\n",
      "[CV] max_depth=1000, min_samples_split=500 ...........................\n",
      "[CV]  max_depth=1000, min_samples_split=500, score=0.838540502901354, total=  21.5s\n",
      "[CV] max_depth=1000, min_samples_split=500 ...........................\n",
      "[CV]  max_depth=1000, min_samples_split=500, score=0.8379472340425533, total=  20.1s\n",
      "[CV] max_depth=1000, min_samples_split=500 ...........................\n",
      "[CV]  max_depth=1000, min_samples_split=500, score=0.8182404126370083, total=  19.9s\n",
      "[CV] max_depth=1000, min_samples_split=500 ...........................\n",
      "[CV]  max_depth=1000, min_samples_split=500, score=0.8245501482914249, total=  21.3s\n",
      "[CV] max_depth=1000, min_samples_split=500 ...........................\n",
      "[CV]  max_depth=1000, min_samples_split=500, score=0.8276349194068343, total=  20.1s\n",
      "[CV] max_depth=1000, min_samples_split=500 ...........................\n",
      "[CV]  max_depth=1000, min_samples_split=500, score=0.8335204642166345, total=  22.4s\n",
      "[CV] max_depth=1000, min_samples_split=500 ...........................\n"
     ]
    },
    {
     "name": "stdout",
     "output_type": "stream",
     "text": [
      "[CV]  max_depth=1000, min_samples_split=500, score=0.8363741586073501, total=  21.6s\n",
      "[CV] max_depth=1000, min_samples_split=500 ...........................\n",
      "[CV]  max_depth=1000, min_samples_split=500, score=0.8247666656348985, total=  21.0s\n"
     ]
    },
    {
     "name": "stderr",
     "output_type": "stream",
     "text": [
      "[Parallel(n_jobs=1)]: Done 280 out of 280 | elapsed: 77.3min finished\n"
     ]
    },
    {
     "name": "stdout",
     "output_type": "stream",
     "text": [
      "Best Hyperparameter: DecisionTreeClassifier(class_weight=None, criterion='gini', max_depth=10,\n",
      "            max_features=None, max_leaf_nodes=None,\n",
      "            min_impurity_decrease=0.0, min_impurity_split=None,\n",
      "            min_samples_leaf=1, min_samples_split=500,\n",
      "            min_weight_fraction_leaf=0.0, presort=False, random_state=None,\n",
      "            splitter='best')\n"
     ]
    }
   ],
   "source": [
    "# Model Training\n",
    "clf = DecisionTreeClassifier()\n",
    "parameters = {\"max_depth\":[1, 5, 10, 50, 100, 500, 1000],\n",
    "              \"min_samples_split\": [5, 10, 100, 500]} \n",
    "\n",
    "model = GridSearchCV(clf, parameters, cv=10,verbose=10, scoring='roc_auc')\n",
    "model.fit(X_train_w2v, y_train)\n",
    "bestParameter = model.best_estimator_\n",
    "print(\"Best Hyperparameter: \"+ str(bestParameter))"
   ]
  },
  {
   "cell_type": "markdown",
   "metadata": {},
   "source": [
    "<br>\n",
    "Heatmap  of <B>max_depth</B> and <B>min_sample_split</B> parameters to find the areas where the maximum AUC is achieved in the test set."
   ]
  },
  {
   "cell_type": "code",
   "execution_count": 41,
   "metadata": {},
   "outputs": [
    {
     "data": {
      "image/png": "[encoded data removed]",
      "text/plain": [
       "<Figure size 1224x360 with 4 Axes>"
      ]
     },
     "metadata": {
      "needs_background": "light"
     },
     "output_type": "display_data"
    }
   ],
   "source": [
    "# https://stackoverflow.com/questions/48272437/combining-two-heat-maps-in-seaborn?rq=1\n",
    "# Train vs CV auc score\n",
    "df_gridsearch = pd.DataFrame(model.cv_results_)\n",
    "max_scores = df_gridsearch.groupby(['param_max_depth', 'param_min_samples_split']).max()\n",
    "max_scores = max_scores.unstack()[['mean_test_score', 'mean_train_score']]\n",
    "\n",
    "fig, (ax,ax2) = plt.subplots(ncols=2, figsize=(17,5))\n",
    "fig.subplots_adjust(wspace=0.2)\n",
    "sns.heatmap(max_scores.mean_train_score,annot=True, fmt='.4g', cmap=\"rocket\", ax=ax, cbar=False)\n",
    "fig.colorbar(ax.collections[0], ax=ax,location=\"left\", use_gridspec=False, pad=0.2)\n",
    "sns.heatmap(max_scores.mean_test_score,annot=True, fmt='.4g', cmap=\"icefire\", ax=ax2, cbar=False)\n",
    "fig.colorbar(ax2.collections[0], ax=ax2,location=\"right\", use_gridspec=False, pad=0.2)\n",
    "ax2.yaxis.tick_right()\n",
    "ax2.tick_params(rotation=0)\n",
    "ax.title.set_text('Train AUC Score')\n",
    "ax2.title.set_text('CV AUC Score')\n",
    "plt.show()"
   ]
  },
  {
   "cell_type": "code",
   "execution_count": 79,
   "metadata": {},
   "outputs": [
    {
     "data": {
      "image/png": "[encoded data removed]",
      "text/plain": [
       "<Figure size 432x288 with 1 Axes>"
      ]
     },
     "metadata": {
      "needs_background": "light"
     },
     "output_type": "display_data"
    }
   ],
   "source": [
    "# Testing accuracy on test dataset\n",
    "clf3 = DecisionTreeClassifier( max_depth=bestParameter.max_depth, min_samples_split=bestParameter.min_samples_split)\n",
    "clf3.fit(X_train_w2v,y_train)\n",
    "\n",
    "predTest  = clf3.predict_proba(X_test_w2v)\n",
    "predTrain = clf3.predict_proba(X_train_w2v)\n",
    "\n",
    "train_fpr, train_tpr, thresholds = roc_curve(y_train, predTrain[:,1])\n",
    "test_fpr, test_tpr, thresholds = roc_curve(y_test, predTest[:,1])\n",
    "\n",
    "plt.plot(train_fpr, train_tpr, label=\"train AUC =\"+str(auc(train_fpr, train_tpr)))\n",
    "plt.plot(test_fpr, test_tpr, label=\"test AUC =\"+str(auc(test_fpr, test_tpr)))\n",
    "\n",
    "plt.legend()\n",
    "plt.xlabel(\"FPR\")\n",
    "plt.ylabel(\"TPR\")\n",
    "plt.title(\"ROC\")\n",
    "plt.show()"
   ]
  },
  {
   "cell_type": "code",
   "execution_count": 80,
   "metadata": {},
   "outputs": [
    {
     "data": {
      "image/png": "[encoded data removed]",
      "text/plain": [
       "<Figure size 432x288 with 2 Axes>"
      ]
     },
     "metadata": {
      "needs_background": "light"
     },
     "output_type": "display_data"
    }
   ],
   "source": [
    "# Confusion Matrix\n",
    "confusionMatrixPlot(y_test,clf3.predict(X_test_w2v))"
   ]
  },
  {
   "cell_type": "markdown",
   "metadata": {
    "colab_type": "text",
    "id": "PnwVzXytiWO7"
   },
   "source": [
    "## [5.4] Applying Decision Trees on TFIDF W2V,<font color='red'> SET 4</font>"
   ]
  },
  {
   "cell_type": "code",
   "execution_count": 60,
   "metadata": {},
   "outputs": [],
   "source": [
    "# Vectorization of train and test review\n",
    "vectorizer = TfidfVectorizer(ngram_range=(1,2),min_df=10)\n",
    "vectorizer.fit(X_trainText)\n",
    "\n",
    "# List of sentence in X_train text\n",
    "sent_of_train=[]\n",
    "for sent in X_trainText:\n",
    "    sent_of_train.append(sent.split())\n",
    "\n",
    "# List of sentence in X_est text\n",
    "sent_of_test=[]\n",
    "for sent in X_testText:\n",
    "    sent_of_test.append(sent.split()) "
   ]
  },
  {
   "cell_type": "code",
   "execution_count": null,
   "metadata": {},
   "outputs": [],
   "source": [
    "# TFIDF-Word2Vec for training data.\n",
    "tfidf_feat = vectorizer.get_feature_names()\n",
    "X_train_tfidf = vectorizer.transform(X_trainText)\n",
    "X_train_tfidf_AW2V = []; \n",
    "row=0;\n",
    "for sent in sent_of_train: \n",
    "    sent_vec = np.zeros(150) \n",
    "    weight_sum =0; \n",
    "    for word in sent: \n",
    "        if word in w2v_words and word in tfidf_feat:\n",
    "            vec = w2v_model.wv[word]\n",
    "            # obtain the tf_idfidf of a word in a sentence/review\n",
    "            tf_idf = X_train_tfidf[row, tfidf_feat.index(word)]\n",
    "            sent_vec += (vec * tf_idf)\n",
    "            weight_sum += tf_idf\n",
    "    if weight_sum != 0:\n",
    "        sent_vec /= weight_sum\n",
    "    X_train_tfidf_AW2V.append(sent_vec)\n",
    "    row += 1"
   ]
  },
  {
   "cell_type": "code",
   "execution_count": 18,
   "metadata": {},
   "outputs": [],
   "source": [
    "# TFIDF-Word2Vec for test data .\n",
    "X_test_tfidf_AW2V = []; \n",
    "X_test_tfidf = vectorizer.transform(X_testText)\n",
    "row=0;\n",
    "for sent in sent_of_test: \n",
    "    sent_vec = np.zeros(150) \n",
    "    weight_sum =0; \n",
    "    for word in sent: \n",
    "        if word in w2v_words and word in tfidf_feat:\n",
    "            vec = w2v_model.wv[word]\n",
    "            # obtain the tf_idfidf of a word in a sentence/review\n",
    "            tf_idf = X_test_tfidf[row, tfidf_feat.index(word)]\n",
    "            sent_vec += (vec * tf_idf)\n",
    "            weight_sum += tf_idf\n",
    "    if weight_sum != 0:\n",
    "        sent_vec /= weight_sum\n",
    "    X_test_tfidf_AW2V.append(sent_vec)\n",
    "    row += 1"
   ]
  },
  {
   "cell_type": "code",
   "execution_count": 66,
   "metadata": {},
   "outputs": [],
   "source": [
    "X_train_tfidf_AW2V = preprocessing.normalize(X_train_tfidf_AW2V) \n",
    "X_test_tfidf_AW2V = preprocessing.normalize(X_test_tfidf_AW2V)"
   ]
  },
  {
   "cell_type": "code",
   "execution_count": 67,
   "metadata": {},
   "outputs": [
    {
     "name": "stdout",
     "output_type": "stream",
     "text": [
      "Fitting 10 folds for each of 28 candidates, totalling 280 fits\n",
      "[CV] max_depth=1, min_samples_split=5 ................................\n"
     ]
    },
    {
     "name": "stderr",
     "output_type": "stream",
     "text": [
      "[Parallel(n_jobs=1)]: Using backend SequentialBackend with 1 concurrent workers.\n"
     ]
    },
    {
     "name": "stdout",
     "output_type": "stream",
     "text": [
      "[CV]  max_depth=1, min_samples_split=5, score=0.6620614084797279, total=   1.8s\n",
      "[CV] max_depth=1, min_samples_split=5 ................................\n"
     ]
    },
    {
     "name": "stderr",
     "output_type": "stream",
     "text": [
      "[Parallel(n_jobs=1)]: Done   1 out of   1 | elapsed:    1.8s remaining:    0.0s\n"
     ]
    },
    {
     "name": "stdout",
     "output_type": "stream",
     "text": [
      "[CV]  max_depth=1, min_samples_split=5, score=0.6455731785944552, total=   1.8s\n",
      "[CV] max_depth=1, min_samples_split=5 ................................\n"
     ]
    },
    {
     "name": "stderr",
     "output_type": "stream",
     "text": [
      "[Parallel(n_jobs=1)]: Done   2 out of   2 | elapsed:    3.7s remaining:    0.0s\n"
     ]
    },
    {
     "name": "stdout",
     "output_type": "stream",
     "text": [
      "[CV]  max_depth=1, min_samples_split=5, score=0.6658439716312057, total=   1.8s\n",
      "[CV] max_depth=1, min_samples_split=5 ................................\n"
     ]
    },
    {
     "name": "stderr",
     "output_type": "stream",
     "text": [
      "[Parallel(n_jobs=1)]: Done   3 out of   3 | elapsed:    5.5s remaining:    0.0s\n"
     ]
    },
    {
     "name": "stdout",
     "output_type": "stream",
     "text": [
      "[CV]  max_depth=1, min_samples_split=5, score=0.6666434558349451, total=   1.8s\n",
      "[CV] max_depth=1, min_samples_split=5 ................................\n"
     ]
    },
    {
     "name": "stderr",
     "output_type": "stream",
     "text": [
      "[Parallel(n_jobs=1)]: Done   4 out of   4 | elapsed:    7.3s remaining:    0.0s\n"
     ]
    },
    {
     "name": "stdout",
     "output_type": "stream",
     "text": [
      "[CV]  max_depth=1, min_samples_split=5, score=0.6622798194713089, total=   1.8s\n",
      "[CV] max_depth=1, min_samples_split=5 ................................\n"
     ]
    },
    {
     "name": "stderr",
     "output_type": "stream",
     "text": [
      "[Parallel(n_jobs=1)]: Done   5 out of   5 | elapsed:    9.2s remaining:    0.0s\n"
     ]
    },
    {
     "name": "stdout",
     "output_type": "stream",
     "text": [
      "[CV]  max_depth=1, min_samples_split=5, score=0.6652817537072856, total=   1.8s\n",
      "[CV] max_depth=1, min_samples_split=5 ................................\n"
     ]
    },
    {
     "name": "stderr",
     "output_type": "stream",
     "text": [
      "[Parallel(n_jobs=1)]: Done   6 out of   6 | elapsed:   11.0s remaining:    0.0s\n"
     ]
    },
    {
     "name": "stdout",
     "output_type": "stream",
     "text": [
      "[CV]  max_depth=1, min_samples_split=5, score=0.6743288201160541, total=   1.8s\n",
      "[CV] max_depth=1, min_samples_split=5 ................................\n"
     ]
    },
    {
     "name": "stderr",
     "output_type": "stream",
     "text": [
      "[Parallel(n_jobs=1)]: Done   7 out of   7 | elapsed:   12.9s remaining:    0.0s\n"
     ]
    },
    {
     "name": "stdout",
     "output_type": "stream",
     "text": [
      "[CV]  max_depth=1, min_samples_split=5, score=0.6775834945196648, total=   1.8s\n",
      "[CV] max_depth=1, min_samples_split=5 ................................\n"
     ]
    },
    {
     "name": "stderr",
     "output_type": "stream",
     "text": [
      "[Parallel(n_jobs=1)]: Done   8 out of   8 | elapsed:   14.7s remaining:    0.0s\n"
     ]
    },
    {
     "name": "stdout",
     "output_type": "stream",
     "text": [
      "[CV]  max_depth=1, min_samples_split=5, score=0.6697047066408769, total=   1.8s\n",
      "[CV] max_depth=1, min_samples_split=5 ................................\n"
     ]
    },
    {
     "name": "stderr",
     "output_type": "stream",
     "text": [
      "[Parallel(n_jobs=1)]: Done   9 out of   9 | elapsed:   16.5s remaining:    0.0s\n"
     ]
    },
    {
     "name": "stdout",
     "output_type": "stream",
     "text": [
      "[CV]  max_depth=1, min_samples_split=5, score=0.6713415049370106, total=   1.8s\n",
      "[CV] max_depth=1, min_samples_split=10 ...............................\n",
      "[CV]  max_depth=1, min_samples_split=10, score=0.6620614084797279, total=   1.8s\n",
      "[CV] max_depth=1, min_samples_split=10 ...............................\n",
      "[CV]  max_depth=1, min_samples_split=10, score=0.6455731785944552, total=   1.8s\n",
      "[CV] max_depth=1, min_samples_split=10 ...............................\n",
      "[CV]  max_depth=1, min_samples_split=10, score=0.6658439716312057, total=   1.8s\n",
      "[CV] max_depth=1, min_samples_split=10 ...............................\n",
      "[CV]  max_depth=1, min_samples_split=10, score=0.6666434558349451, total=   1.8s\n",
      "[CV] max_depth=1, min_samples_split=10 ...............................\n",
      "[CV]  max_depth=1, min_samples_split=10, score=0.6622798194713089, total=   1.8s\n",
      "[CV] max_depth=1, min_samples_split=10 ...............................\n",
      "[CV]  max_depth=1, min_samples_split=10, score=0.6652817537072856, total=   1.8s\n",
      "[CV] max_depth=1, min_samples_split=10 ...............................\n",
      "[CV]  max_depth=1, min_samples_split=10, score=0.6743288201160541, total=   1.8s\n",
      "[CV] max_depth=1, min_samples_split=10 ...............................\n",
      "[CV]  max_depth=1, min_samples_split=10, score=0.6775834945196648, total=   1.8s\n",
      "[CV] max_depth=1, min_samples_split=10 ...............................\n",
      "[CV]  max_depth=1, min_samples_split=10, score=0.6697047066408769, total=   1.8s\n",
      "[CV] max_depth=1, min_samples_split=10 ...............................\n",
      "[CV]  max_depth=1, min_samples_split=10, score=0.6713415049370106, total=   1.8s\n",
      "[CV] max_depth=1, min_samples_split=100 ..............................\n",
      "[CV]  max_depth=1, min_samples_split=100, score=0.6620614084797279, total=   1.8s\n",
      "[CV] max_depth=1, min_samples_split=100 ..............................\n",
      "[CV]  max_depth=1, min_samples_split=100, score=0.6455731785944552, total=   1.8s\n",
      "[CV] max_depth=1, min_samples_split=100 ..............................\n",
      "[CV]  max_depth=1, min_samples_split=100, score=0.6658439716312057, total=   1.8s\n",
      "[CV] max_depth=1, min_samples_split=100 ..............................\n",
      "[CV]  max_depth=1, min_samples_split=100, score=0.6666434558349451, total=   1.8s\n",
      "[CV] max_depth=1, min_samples_split=100 ..............................\n",
      "[CV]  max_depth=1, min_samples_split=100, score=0.6622798194713089, total=   1.8s\n",
      "[CV] max_depth=1, min_samples_split=100 ..............................\n",
      "[CV]  max_depth=1, min_samples_split=100, score=0.6652817537072856, total=   1.8s\n",
      "[CV] max_depth=1, min_samples_split=100 ..............................\n",
      "[CV]  max_depth=1, min_samples_split=100, score=0.6743288201160541, total=   1.8s\n",
      "[CV] max_depth=1, min_samples_split=100 ..............................\n",
      "[CV]  max_depth=1, min_samples_split=100, score=0.6775834945196648, total=   1.8s\n",
      "[CV] max_depth=1, min_samples_split=100 ..............................\n",
      "[CV]  max_depth=1, min_samples_split=100, score=0.6697047066408769, total=   1.8s\n",
      "[CV] max_depth=1, min_samples_split=100 ..............................\n",
      "[CV]  max_depth=1, min_samples_split=100, score=0.6713415049370106, total=   1.8s\n",
      "[CV] max_depth=1, min_samples_split=500 ..............................\n",
      "[CV]  max_depth=1, min_samples_split=500, score=0.6620614084797279, total=   1.8s\n",
      "[CV] max_depth=1, min_samples_split=500 ..............................\n",
      "[CV]  max_depth=1, min_samples_split=500, score=0.6455731785944552, total=   1.8s\n",
      "[CV] max_depth=1, min_samples_split=500 ..............................\n",
      "[CV]  max_depth=1, min_samples_split=500, score=0.6658439716312057, total=   1.8s\n",
      "[CV] max_depth=1, min_samples_split=500 ..............................\n",
      "[CV]  max_depth=1, min_samples_split=500, score=0.6666434558349451, total=   1.8s\n",
      "[CV] max_depth=1, min_samples_split=500 ..............................\n",
      "[CV]  max_depth=1, min_samples_split=500, score=0.6622798194713089, total=   1.8s\n",
      "[CV] max_depth=1, min_samples_split=500 ..............................\n",
      "[CV]  max_depth=1, min_samples_split=500, score=0.6652817537072856, total=   1.7s\n",
      "[CV] max_depth=1, min_samples_split=500 ..............................\n",
      "[CV]  max_depth=1, min_samples_split=500, score=0.6743288201160541, total=   1.8s\n",
      "[CV] max_depth=1, min_samples_split=500 ..............................\n",
      "[CV]  max_depth=1, min_samples_split=500, score=0.6775834945196648, total=   1.8s\n",
      "[CV] max_depth=1, min_samples_split=500 ..............................\n",
      "[CV]  max_depth=1, min_samples_split=500, score=0.6697047066408769, total=   1.8s\n",
      "[CV] max_depth=1, min_samples_split=500 ..............................\n",
      "[CV]  max_depth=1, min_samples_split=500, score=0.6713415049370106, total=   1.8s\n",
      "[CV] max_depth=5, min_samples_split=5 ................................\n",
      "[CV]  max_depth=5, min_samples_split=5, score=0.7895384060584205, total=   7.8s\n",
      "[CV] max_depth=5, min_samples_split=5 ................................\n",
      "[CV]  max_depth=5, min_samples_split=5, score=0.7934984912959382, total=   7.8s\n",
      "[CV] max_depth=5, min_samples_split=5 ................................\n",
      "[CV]  max_depth=5, min_samples_split=5, score=0.7888373436492586, total=   7.8s\n",
      "[CV] max_depth=5, min_samples_split=5 ................................\n",
      "[CV]  max_depth=5, min_samples_split=5, score=0.8082887427466151, total=   7.7s\n",
      "[CV] max_depth=5, min_samples_split=5 ................................\n",
      "[CV]  max_depth=5, min_samples_split=5, score=0.787368665377176, total=   7.8s\n",
      "[CV] max_depth=5, min_samples_split=5 ................................\n",
      "[CV]  max_depth=5, min_samples_split=5, score=0.7943505867182462, total=   7.7s\n",
      "[CV] max_depth=5, min_samples_split=5 ................................\n",
      "[CV]  max_depth=5, min_samples_split=5, score=0.7917219858156028, total=   7.8s\n",
      "[CV] max_depth=5, min_samples_split=5 ................................\n",
      "[CV]  max_depth=5, min_samples_split=5, score=0.8117327143778208, total=   7.7s\n",
      "[CV] max_depth=5, min_samples_split=5 ................................\n",
      "[CV]  max_depth=5, min_samples_split=5, score=0.783090754352031, total=   7.8s\n",
      "[CV] max_depth=5, min_samples_split=5 ................................\n",
      "[CV]  max_depth=5, min_samples_split=5, score=0.788895801735434, total=   7.8s\n",
      "[CV] max_depth=5, min_samples_split=10 ...............................\n",
      "[CV]  max_depth=5, min_samples_split=10, score=0.7895384060584205, total=   7.8s\n",
      "[CV] max_depth=5, min_samples_split=10 ...............................\n",
      "[CV]  max_depth=5, min_samples_split=10, score=0.7934984912959382, total=   7.8s\n",
      "[CV] max_depth=5, min_samples_split=10 ...............................\n",
      "[CV]  max_depth=5, min_samples_split=10, score=0.7888373436492586, total=   7.6s\n",
      "[CV] max_depth=5, min_samples_split=10 ...............................\n",
      "[CV]  max_depth=5, min_samples_split=10, score=0.8082887427466151, total=   7.7s\n",
      "[CV] max_depth=5, min_samples_split=10 ...............................\n",
      "[CV]  max_depth=5, min_samples_split=10, score=0.787368665377176, total=   7.7s\n",
      "[CV] max_depth=5, min_samples_split=10 ...............................\n",
      "[CV]  max_depth=5, min_samples_split=10, score=0.7943505867182462, total=   7.8s\n",
      "[CV] max_depth=5, min_samples_split=10 ...............................\n",
      "[CV]  max_depth=5, min_samples_split=10, score=0.7917219858156028, total=   7.8s\n",
      "[CV] max_depth=5, min_samples_split=10 ...............................\n",
      "[CV]  max_depth=5, min_samples_split=10, score=0.8117327143778208, total=   7.6s\n",
      "[CV] max_depth=5, min_samples_split=10 ...............................\n",
      "[CV]  max_depth=5, min_samples_split=10, score=0.783090754352031, total=   7.7s\n",
      "[CV] max_depth=5, min_samples_split=10 ...............................\n",
      "[CV]  max_depth=5, min_samples_split=10, score=0.788895801735434, total=   7.8s\n",
      "[CV] max_depth=5, min_samples_split=100 ..............................\n",
      "[CV]  max_depth=5, min_samples_split=100, score=0.7895384060584205, total=   7.7s\n",
      "[CV] max_depth=5, min_samples_split=100 ..............................\n",
      "[CV]  max_depth=5, min_samples_split=100, score=0.7934984912959382, total=   7.8s\n",
      "[CV] max_depth=5, min_samples_split=100 ..............................\n",
      "[CV]  max_depth=5, min_samples_split=100, score=0.7888373436492586, total=   7.8s\n",
      "[CV] max_depth=5, min_samples_split=100 ..............................\n"
     ]
    },
    {
     "name": "stdout",
     "output_type": "stream",
     "text": [
      "[CV]  max_depth=5, min_samples_split=100, score=0.8082887427466151, total=   7.8s\n",
      "[CV] max_depth=5, min_samples_split=100 ..............................\n",
      "[CV]  max_depth=5, min_samples_split=100, score=0.787368665377176, total=   7.7s\n",
      "[CV] max_depth=5, min_samples_split=100 ..............................\n",
      "[CV]  max_depth=5, min_samples_split=100, score=0.7943505867182462, total=   8.2s\n",
      "[CV] max_depth=5, min_samples_split=100 ..............................\n",
      "[CV]  max_depth=5, min_samples_split=100, score=0.7917219858156028, total=   8.3s\n",
      "[CV] max_depth=5, min_samples_split=100 ..............................\n",
      "[CV]  max_depth=5, min_samples_split=100, score=0.8117327143778208, total=   7.8s\n",
      "[CV] max_depth=5, min_samples_split=100 ..............................\n",
      "[CV]  max_depth=5, min_samples_split=100, score=0.783090754352031, total=   7.7s\n",
      "[CV] max_depth=5, min_samples_split=100 ..............................\n",
      "[CV]  max_depth=5, min_samples_split=100, score=0.788895801735434, total=   7.8s\n",
      "[CV] max_depth=5, min_samples_split=500 ..............................\n",
      "[CV]  max_depth=5, min_samples_split=500, score=0.7894559785688527, total=   7.8s\n",
      "[CV] max_depth=5, min_samples_split=500 ..............................\n",
      "[CV]  max_depth=5, min_samples_split=500, score=0.7936162991618312, total=   7.9s\n",
      "[CV] max_depth=5, min_samples_split=500 ..............................\n",
      "[CV]  max_depth=5, min_samples_split=500, score=0.7885535525467441, total=   7.8s\n",
      "[CV] max_depth=5, min_samples_split=500 ..............................\n",
      "[CV]  max_depth=5, min_samples_split=500, score=0.8080494132817537, total=   7.5s\n",
      "[CV] max_depth=5, min_samples_split=500 ..............................\n",
      "[CV]  max_depth=5, min_samples_split=500, score=0.7868882527401676, total=   7.9s\n",
      "[CV] max_depth=5, min_samples_split=500 ..............................\n",
      "[CV]  max_depth=5, min_samples_split=500, score=0.7944665377176017, total=   7.7s\n",
      "[CV] max_depth=5, min_samples_split=500 ..............................\n",
      "[CV]  max_depth=5, min_samples_split=500, score=0.7908425531914894, total=   7.9s\n",
      "[CV] max_depth=5, min_samples_split=500 ..............................\n",
      "[CV]  max_depth=5, min_samples_split=500, score=0.8118140038684719, total=   7.7s\n",
      "[CV] max_depth=5, min_samples_split=500 ..............................\n",
      "[CV]  max_depth=5, min_samples_split=500, score=0.7825176015473887, total=   7.9s\n",
      "[CV] max_depth=5, min_samples_split=500 ..............................\n",
      "[CV]  max_depth=5, min_samples_split=500, score=0.7885712074782556, total=   7.9s\n",
      "[CV] max_depth=10, min_samples_split=5 ...............................\n",
      "[CV]  max_depth=10, min_samples_split=5, score=0.7619647622482097, total=  13.7s\n",
      "[CV] max_depth=10, min_samples_split=5 ...............................\n",
      "[CV]  max_depth=10, min_samples_split=5, score=0.7597527272727272, total=  13.7s\n",
      "[CV] max_depth=10, min_samples_split=5 ...............................\n",
      "[CV]  max_depth=10, min_samples_split=5, score=0.7374185428755642, total=  13.3s\n",
      "[CV] max_depth=10, min_samples_split=5 ...............................\n",
      "[CV]  max_depth=10, min_samples_split=5, score=0.7895681237911025, total=  13.3s\n",
      "[CV] max_depth=10, min_samples_split=5 ...............................\n",
      "[CV]  max_depth=10, min_samples_split=5, score=0.7732340941328175, total=  13.8s\n",
      "[CV] max_depth=10, min_samples_split=5 ...............................\n",
      "[CV]  max_depth=10, min_samples_split=5, score=0.7510289619600258, total=  13.4s\n",
      "[CV] max_depth=10, min_samples_split=5 ...............................\n",
      "[CV]  max_depth=10, min_samples_split=5, score=0.7531889103803997, total=  13.4s\n",
      "[CV] max_depth=10, min_samples_split=5 ...............................\n",
      "[CV]  max_depth=10, min_samples_split=5, score=0.7723322759509992, total=  13.5s\n",
      "[CV] max_depth=10, min_samples_split=5 ...............................\n",
      "[CV]  max_depth=10, min_samples_split=5, score=0.7627224758220503, total=  13.7s\n",
      "[CV] max_depth=10, min_samples_split=5 ...............................\n",
      "[CV]  max_depth=10, min_samples_split=5, score=0.7459562943015445, total=  13.6s\n",
      "[CV] max_depth=10, min_samples_split=10 ..............................\n",
      "[CV]  max_depth=10, min_samples_split=10, score=0.7569400855185204, total=  13.7s\n",
      "[CV] max_depth=10, min_samples_split=10 ..............................\n",
      "[CV]  max_depth=10, min_samples_split=10, score=0.7610029142488717, total=  13.5s\n",
      "[CV] max_depth=10, min_samples_split=10 ..............................\n",
      "[CV]  max_depth=10, min_samples_split=10, score=0.7474729593810445, total=  13.4s\n",
      "[CV] max_depth=10, min_samples_split=10 ..............................\n",
      "[CV]  max_depth=10, min_samples_split=10, score=0.7886167891682785, total=  13.4s\n",
      "[CV] max_depth=10, min_samples_split=10 ..............................\n",
      "[CV]  max_depth=10, min_samples_split=10, score=0.7801759896840748, total=  14.1s\n",
      "[CV] max_depth=10, min_samples_split=10 ..............................\n",
      "[CV]  max_depth=10, min_samples_split=10, score=0.753184784010316, total=  13.8s\n",
      "[CV] max_depth=10, min_samples_split=10 ..............................\n",
      "[CV]  max_depth=10, min_samples_split=10, score=0.749778465506125, total=  13.6s\n",
      "[CV] max_depth=10, min_samples_split=10 ..............................\n",
      "[CV]  max_depth=10, min_samples_split=10, score=0.775951205673759, total=  13.5s\n",
      "[CV] max_depth=10, min_samples_split=10 ..............................\n",
      "[CV]  max_depth=10, min_samples_split=10, score=0.7715273243068987, total=  13.4s\n",
      "[CV] max_depth=10, min_samples_split=10 ..............................\n",
      "[CV]  max_depth=10, min_samples_split=10, score=0.7495794513057026, total=  13.5s\n",
      "[CV] max_depth=10, min_samples_split=100 .............................\n",
      "[CV]  max_depth=10, min_samples_split=100, score=0.793519035598372, total=  13.5s\n",
      "[CV] max_depth=10, min_samples_split=100 .............................\n",
      "[CV]  max_depth=10, min_samples_split=100, score=0.7900695809155384, total=  13.4s\n",
      "[CV] max_depth=10, min_samples_split=100 .............................\n",
      "[CV]  max_depth=10, min_samples_split=100, score=0.7836495680206319, total=  13.2s\n",
      "[CV] max_depth=10, min_samples_split=100 .............................\n",
      "[CV]  max_depth=10, min_samples_split=100, score=0.817541508704062, total=  13.4s\n",
      "[CV] max_depth=10, min_samples_split=100 .............................\n",
      "[CV]  max_depth=10, min_samples_split=100, score=0.8063322243713733, total=  13.5s\n",
      "[CV] max_depth=10, min_samples_split=100 .............................\n",
      "[CV]  max_depth=10, min_samples_split=100, score=0.7971992263056094, total=  13.3s\n",
      "[CV] max_depth=10, min_samples_split=100 .............................\n",
      "[CV]  max_depth=10, min_samples_split=100, score=0.7989197163120567, total=  13.5s\n",
      "[CV] max_depth=10, min_samples_split=100 .............................\n",
      "[CV]  max_depth=10, min_samples_split=100, score=0.8120959381044488, total=  13.4s\n",
      "[CV] max_depth=10, min_samples_split=100 .............................\n",
      "[CV]  max_depth=10, min_samples_split=100, score=0.7925470535138621, total=  13.6s\n",
      "[CV] max_depth=10, min_samples_split=100 .............................\n",
      "[CV]  max_depth=10, min_samples_split=100, score=0.7906003858812847, total=  13.4s\n",
      "[CV] max_depth=10, min_samples_split=500 .............................\n",
      "[CV]  max_depth=10, min_samples_split=500, score=0.8086244912678379, total=  12.8s\n",
      "[CV] max_depth=10, min_samples_split=500 .............................\n",
      "[CV]  max_depth=10, min_samples_split=500, score=0.7936989297227595, total=  13.0s\n",
      "[CV] max_depth=10, min_samples_split=500 .............................\n",
      "[CV]  max_depth=10, min_samples_split=500, score=0.798876802063185, total=  12.8s\n",
      "[CV] max_depth=10, min_samples_split=500 .............................\n",
      "[CV]  max_depth=10, min_samples_split=500, score=0.8250543907156672, total=  12.6s\n",
      "[CV] max_depth=10, min_samples_split=500 .............................\n",
      "[CV]  max_depth=10, min_samples_split=500, score=0.8098903932946487, total=  12.9s\n",
      "[CV] max_depth=10, min_samples_split=500 .............................\n",
      "[CV]  max_depth=10, min_samples_split=500, score=0.8114825531914893, total=  12.4s\n",
      "[CV] max_depth=10, min_samples_split=500 .............................\n",
      "[CV]  max_depth=10, min_samples_split=500, score=0.8078300967117988, total=  12.9s\n",
      "[CV] max_depth=10, min_samples_split=500 .............................\n"
     ]
    },
    {
     "name": "stdout",
     "output_type": "stream",
     "text": [
      "[CV]  max_depth=10, min_samples_split=500, score=0.8178538749194068, total=  12.9s\n",
      "[CV] max_depth=10, min_samples_split=500 .............................\n",
      "[CV]  max_depth=10, min_samples_split=500, score=0.8010180786589297, total=  13.6s\n",
      "[CV] max_depth=10, min_samples_split=500 .............................\n",
      "[CV]  max_depth=10, min_samples_split=500, score=0.8007702149173037, total=  12.8s\n",
      "[CV] max_depth=50, min_samples_split=5 ...............................\n",
      "[CV]  max_depth=50, min_samples_split=5, score=0.5891210138581218, total=  38.1s\n",
      "[CV] max_depth=50, min_samples_split=5 ...............................\n",
      "[CV]  max_depth=50, min_samples_split=5, score=0.6148946486137976, total=  38.5s\n",
      "[CV] max_depth=50, min_samples_split=5 ...............................\n",
      "[CV]  max_depth=50, min_samples_split=5, score=0.6274452095422308, total=  34.1s\n",
      "[CV] max_depth=50, min_samples_split=5 ...............................\n",
      "[CV]  max_depth=50, min_samples_split=5, score=0.6086366989039329, total=  36.4s\n",
      "[CV] max_depth=50, min_samples_split=5 ...............................\n",
      "[CV]  max_depth=50, min_samples_split=5, score=0.6435469245647969, total=  36.9s\n",
      "[CV] max_depth=50, min_samples_split=5 ...............................\n",
      "[CV]  max_depth=50, min_samples_split=5, score=0.6444324435847841, total=  36.5s\n",
      "[CV] max_depth=50, min_samples_split=5 ...............................\n",
      "[CV]  max_depth=50, min_samples_split=5, score=0.6440830431979367, total=  35.4s\n",
      "[CV] max_depth=50, min_samples_split=5 ...............................\n",
      "[CV]  max_depth=50, min_samples_split=5, score=0.6029988394584139, total=  38.1s\n",
      "[CV] max_depth=50, min_samples_split=5 ...............................\n",
      "[CV]  max_depth=50, min_samples_split=5, score=0.6281607221147647, total=  37.4s\n",
      "[CV] max_depth=50, min_samples_split=5 ...............................\n",
      "[CV]  max_depth=50, min_samples_split=5, score=0.5504469619587087, total=  39.0s\n",
      "[CV] max_depth=50, min_samples_split=10 ..............................\n",
      "[CV]  max_depth=50, min_samples_split=10, score=0.5960617175828138, total=  37.9s\n",
      "[CV] max_depth=50, min_samples_split=10 ..............................\n",
      "[CV]  max_depth=50, min_samples_split=10, score=0.6263558478401032, total=  39.1s\n",
      "[CV] max_depth=50, min_samples_split=10 ..............................\n",
      "[CV]  max_depth=50, min_samples_split=10, score=0.648477730496454, total=  34.1s\n",
      "[CV] max_depth=50, min_samples_split=10 ..............................\n",
      "[CV]  max_depth=50, min_samples_split=10, score=0.6214426821405545, total=  36.9s\n",
      "[CV] max_depth=50, min_samples_split=10 ..............................\n",
      "[CV]  max_depth=50, min_samples_split=10, score=0.665442269503546, total=  37.3s\n",
      "[CV] max_depth=50, min_samples_split=10 ..............................\n",
      "[CV]  max_depth=50, min_samples_split=10, score=0.6558509348807222, total=  36.9s\n",
      "[CV] max_depth=50, min_samples_split=10 ..............................\n",
      "[CV]  max_depth=50, min_samples_split=10, score=0.6556753578336557, total=  36.3s\n",
      "[CV] max_depth=50, min_samples_split=10 ..............................\n",
      "[CV]  max_depth=50, min_samples_split=10, score=0.6217266795615732, total=  37.2s\n",
      "[CV] max_depth=50, min_samples_split=10 ..............................\n",
      "[CV]  max_depth=50, min_samples_split=10, score=0.6415742101869761, total=  37.1s\n",
      "[CV] max_depth=50, min_samples_split=10 ..............................\n",
      "[CV]  max_depth=50, min_samples_split=10, score=0.6168296860329546, total=  35.8s\n",
      "[CV] max_depth=50, min_samples_split=100 .............................\n",
      "[CV]  max_depth=50, min_samples_split=100, score=0.7130894853433619, total=  37.3s\n",
      "[CV] max_depth=50, min_samples_split=100 .............................\n",
      "[CV]  max_depth=50, min_samples_split=100, score=0.718799948420374, total=  38.1s\n",
      "[CV] max_depth=50, min_samples_split=100 .............................\n",
      "[CV]  max_depth=50, min_samples_split=100, score=0.7247853513862026, total=  33.5s\n",
      "[CV] max_depth=50, min_samples_split=100 .............................\n",
      "[CV]  max_depth=50, min_samples_split=100, score=0.7530884332688588, total=  35.4s\n",
      "[CV] max_depth=50, min_samples_split=100 .............................\n",
      "[CV]  max_depth=50, min_samples_split=100, score=0.7364954738878144, total=  37.7s\n",
      "[CV] max_depth=50, min_samples_split=100 .............................\n",
      "[CV]  max_depth=50, min_samples_split=100, score=0.7321808381689234, total=  35.8s\n",
      "[CV] max_depth=50, min_samples_split=100 .............................\n",
      "[CV]  max_depth=50, min_samples_split=100, score=0.7440817021276596, total=  35.6s\n",
      "[CV] max_depth=50, min_samples_split=100 .............................\n",
      "[CV]  max_depth=50, min_samples_split=100, score=0.7266263313990975, total=  36.5s\n",
      "[CV] max_depth=50, min_samples_split=100 .............................\n",
      "[CV]  max_depth=50, min_samples_split=100, score=0.7237567504835589, total=  36.5s\n",
      "[CV] max_depth=50, min_samples_split=100 .............................\n",
      "[CV]  max_depth=50, min_samples_split=100, score=0.6937610012278042, total=  37.9s\n",
      "[CV] max_depth=50, min_samples_split=500 .............................\n",
      "[CV]  max_depth=50, min_samples_split=500, score=0.7843416619442584, total=  34.8s\n",
      "[CV] max_depth=50, min_samples_split=500 .............................\n",
      "[CV]  max_depth=50, min_samples_split=500, score=0.7776994455190198, total=  35.6s\n",
      "[CV] max_depth=50, min_samples_split=500 .............................\n",
      "[CV]  max_depth=50, min_samples_split=500, score=0.7831205673758864, total=  31.2s\n",
      "[CV] max_depth=50, min_samples_split=500 .............................\n",
      "[CV]  max_depth=50, min_samples_split=500, score=0.8017875435203095, total=  34.1s\n",
      "[CV] max_depth=50, min_samples_split=500 .............................\n",
      "[CV]  max_depth=50, min_samples_split=500, score=0.7942135912314636, total=  33.8s\n",
      "[CV] max_depth=50, min_samples_split=500 .............................\n",
      "[CV]  max_depth=50, min_samples_split=500, score=0.7915441392649902, total=  32.9s\n",
      "[CV] max_depth=50, min_samples_split=500 .............................\n",
      "[CV]  max_depth=50, min_samples_split=500, score=0.7901824371373309, total=  31.8s\n",
      "[CV] max_depth=50, min_samples_split=500 .............................\n",
      "[CV]  max_depth=50, min_samples_split=500, score=0.7935032366215345, total=  33.4s\n",
      "[CV] max_depth=50, min_samples_split=500 .............................\n",
      "[CV]  max_depth=50, min_samples_split=500, score=0.7832669503546099, total=  33.7s\n",
      "[CV] max_depth=50, min_samples_split=500 .............................\n",
      "[CV]  max_depth=50, min_samples_split=500, score=0.7706335056386129, total=  35.2s\n",
      "[CV] max_depth=100, min_samples_split=5 ..............................\n",
      "[CV]  max_depth=100, min_samples_split=5, score=0.6325094018855288, total=  39.3s\n",
      "[CV] max_depth=100, min_samples_split=5 ..............................\n",
      "[CV]  max_depth=100, min_samples_split=5, score=0.6489506125080593, total=  40.6s\n",
      "[CV] max_depth=100, min_samples_split=5 ..............................\n",
      "[CV]  max_depth=100, min_samples_split=5, score=0.6317974983881367, total=  35.1s\n",
      "[CV] max_depth=100, min_samples_split=5 ..............................\n",
      "[CV]  max_depth=100, min_samples_split=5, score=0.6584923275306254, total=  36.5s\n",
      "[CV] max_depth=100, min_samples_split=5 ..............................\n",
      "[CV]  max_depth=100, min_samples_split=5, score=0.6318998323662153, total=  37.3s\n",
      "[CV] max_depth=100, min_samples_split=5 ..............................\n",
      "[CV]  max_depth=100, min_samples_split=5, score=0.6395702385557706, total=  36.7s\n",
      "[CV] max_depth=100, min_samples_split=5 ..............................\n",
      "[CV]  max_depth=100, min_samples_split=5, score=0.643754584139265, total=  36.0s\n",
      "[CV] max_depth=100, min_samples_split=5 ..............................\n",
      "[CV]  max_depth=100, min_samples_split=5, score=0.6403752933591231, total=  37.8s\n",
      "[CV] max_depth=100, min_samples_split=5 ..............................\n",
      "[CV]  max_depth=100, min_samples_split=5, score=0.6490910122501612, total=  37.9s\n",
      "[CV] max_depth=100, min_samples_split=5 ..............................\n",
      "[CV]  max_depth=100, min_samples_split=5, score=0.6277179352255962, total=  40.8s\n",
      "[CV] max_depth=100, min_samples_split=10 .............................\n",
      "[CV]  max_depth=100, min_samples_split=10, score=0.645025604038947, total=  39.9s\n",
      "[CV] max_depth=100, min_samples_split=10 .............................\n"
     ]
    },
    {
     "name": "stdout",
     "output_type": "stream",
     "text": [
      "[CV]  max_depth=100, min_samples_split=10, score=0.6516581302385558, total=  39.7s\n",
      "[CV] max_depth=100, min_samples_split=10 .............................\n",
      "[CV]  max_depth=100, min_samples_split=10, score=0.6439344938749194, total=  34.6s\n",
      "[CV] max_depth=100, min_samples_split=10 .............................\n",
      "[CV]  max_depth=100, min_samples_split=10, score=0.6629383881366859, total=  36.7s\n",
      "[CV] max_depth=100, min_samples_split=10 .............................\n",
      "[CV]  max_depth=100, min_samples_split=10, score=0.6677083687943262, total=  37.4s\n",
      "[CV] max_depth=100, min_samples_split=10 .............................\n",
      "[CV]  max_depth=100, min_samples_split=10, score=0.6598991102514506, total=  36.3s\n",
      "[CV] max_depth=100, min_samples_split=10 .............................\n",
      "[CV]  max_depth=100, min_samples_split=10, score=0.6613890393294649, total=  36.5s\n",
      "[CV] max_depth=100, min_samples_split=10 .............................\n",
      "[CV]  max_depth=100, min_samples_split=10, score=0.6554109606705351, total=  37.4s\n",
      "[CV] max_depth=100, min_samples_split=10 .............................\n",
      "[CV]  max_depth=100, min_samples_split=10, score=0.6640485880077369, total=  38.4s\n",
      "[CV] max_depth=100, min_samples_split=10 .............................\n",
      "[CV]  max_depth=100, min_samples_split=10, score=0.6435082180332435, total=  38.9s\n",
      "[CV] max_depth=100, min_samples_split=100 ............................\n",
      "[CV]  max_depth=100, min_samples_split=100, score=0.7332881355932204, total=  39.6s\n",
      "[CV] max_depth=100, min_samples_split=100 ............................\n",
      "[CV]  max_depth=100, min_samples_split=100, score=0.730191205673759, total=  39.1s\n",
      "[CV] max_depth=100, min_samples_split=100 ............................\n",
      "[CV]  max_depth=100, min_samples_split=100, score=0.7199162346872985, total=  33.9s\n",
      "[CV] max_depth=100, min_samples_split=100 ............................\n",
      "[CV]  max_depth=100, min_samples_split=100, score=0.7648041263700838, total=  36.0s\n",
      "[CV] max_depth=100, min_samples_split=100 ............................\n",
      "[CV]  max_depth=100, min_samples_split=100, score=0.7493816118633141, total=  36.8s\n",
      "[CV] max_depth=100, min_samples_split=100 ............................\n",
      "[CV]  max_depth=100, min_samples_split=100, score=0.7347599226305609, total=  36.0s\n",
      "[CV] max_depth=100, min_samples_split=100 ............................\n",
      "[CV]  max_depth=100, min_samples_split=100, score=0.7421489103803998, total=  36.4s\n",
      "[CV] max_depth=100, min_samples_split=100 ............................\n",
      "[CV]  max_depth=100, min_samples_split=100, score=0.7452209929078014, total=  38.0s\n",
      "[CV] max_depth=100, min_samples_split=100 ............................\n",
      "[CV]  max_depth=100, min_samples_split=100, score=0.7315731270148291, total=  37.2s\n",
      "[CV] max_depth=100, min_samples_split=100 ............................\n",
      "[CV]  max_depth=100, min_samples_split=100, score=0.7227746308849475, total=  37.7s\n",
      "[CV] max_depth=100, min_samples_split=500 ............................\n",
      "[CV]  max_depth=100, min_samples_split=500, score=0.7892051929318428, total=  36.0s\n",
      "[CV] max_depth=100, min_samples_split=500 ............................\n",
      "[CV]  max_depth=100, min_samples_split=500, score=0.7770079690522244, total=  36.9s\n",
      "[CV] max_depth=100, min_samples_split=500 ............................\n",
      "[CV]  max_depth=100, min_samples_split=500, score=0.7840288845905868, total=  30.6s\n",
      "[CV] max_depth=100, min_samples_split=500 ............................\n",
      "[CV]  max_depth=100, min_samples_split=500, score=0.8059118504190845, total=  33.4s\n",
      "[CV] max_depth=100, min_samples_split=500 ............................\n",
      "[CV]  max_depth=100, min_samples_split=500, score=0.7971527014829141, total=  34.3s\n",
      "[CV] max_depth=100, min_samples_split=500 ............................\n",
      "[CV]  max_depth=100, min_samples_split=500, score=0.7904515796260476, total=  33.6s\n",
      "[CV] max_depth=100, min_samples_split=500 ............................\n",
      "[CV]  max_depth=100, min_samples_split=500, score=0.7866015731785945, total=  33.7s\n",
      "[CV] max_depth=100, min_samples_split=500 ............................\n",
      "[CV]  max_depth=100, min_samples_split=500, score=0.800768845905867, total=  34.4s\n",
      "[CV] max_depth=100, min_samples_split=500 ............................\n",
      "[CV]  max_depth=100, min_samples_split=500, score=0.7856878916827854, total=  35.2s\n",
      "[CV] max_depth=100, min_samples_split=500 ............................\n",
      "[CV]  max_depth=100, min_samples_split=500, score=0.7797365895935865, total=  38.0s\n",
      "[CV] max_depth=500, min_samples_split=5 ..............................\n",
      "[CV]  max_depth=500, min_samples_split=5, score=0.6336234094070372, total=  40.3s\n",
      "[CV] max_depth=500, min_samples_split=5 ..............................\n",
      "[CV]  max_depth=500, min_samples_split=5, score=0.6381925467440361, total=  40.5s\n",
      "[CV] max_depth=500, min_samples_split=5 ..............................\n",
      "[CV]  max_depth=500, min_samples_split=5, score=0.6356917601547389, total=  35.2s\n",
      "[CV] max_depth=500, min_samples_split=5 ..............................\n",
      "[CV]  max_depth=500, min_samples_split=5, score=0.6537559767891683, total=  37.9s\n",
      "[CV] max_depth=500, min_samples_split=5 ..............................\n",
      "[CV]  max_depth=500, min_samples_split=5, score=0.6562573823339781, total=  38.5s\n",
      "[CV] max_depth=500, min_samples_split=5 ..............................\n",
      "[CV]  max_depth=500, min_samples_split=5, score=0.6455800902643456, total=  36.8s\n",
      "[CV] max_depth=500, min_samples_split=5 ..............................\n",
      "[CV]  max_depth=500, min_samples_split=5, score=0.6425593810444874, total=  36.0s\n",
      "[CV] max_depth=500, min_samples_split=5 ..............................\n",
      "[CV]  max_depth=500, min_samples_split=5, score=0.6463483172147002, total=  38.4s\n",
      "[CV] max_depth=500, min_samples_split=5 ..............................\n",
      "[CV]  max_depth=500, min_samples_split=5, score=0.6469486009026435, total=  38.2s\n",
      "[CV] max_depth=500, min_samples_split=5 ..............................\n",
      "[CV]  max_depth=500, min_samples_split=5, score=0.627376419970904, total=  41.1s\n",
      "[CV] max_depth=500, min_samples_split=10 .............................\n",
      "[CV]  max_depth=500, min_samples_split=10, score=0.6515715831229716, total=  39.7s\n",
      "[CV] max_depth=500, min_samples_split=10 .............................\n",
      "[CV]  max_depth=500, min_samples_split=10, score=0.6425849645390072, total=  41.4s\n",
      "[CV] max_depth=500, min_samples_split=10 .............................\n",
      "[CV]  max_depth=500, min_samples_split=10, score=0.645631463571889, total=  35.4s\n",
      "[CV] max_depth=500, min_samples_split=10 .............................\n",
      "[CV]  max_depth=500, min_samples_split=10, score=0.6763107156673114, total=  37.2s\n",
      "[CV] max_depth=500, min_samples_split=10 .............................\n",
      "[CV]  max_depth=500, min_samples_split=10, score=0.6693104319793681, total=  37.1s\n",
      "[CV] max_depth=500, min_samples_split=10 .............................\n",
      "[CV]  max_depth=500, min_samples_split=10, score=0.6612169696969699, total=  36.5s\n",
      "[CV] max_depth=500, min_samples_split=10 .............................\n",
      "[CV]  max_depth=500, min_samples_split=10, score=0.6483500193423597, total=  36.9s\n",
      "[CV] max_depth=500, min_samples_split=10 .............................\n",
      "[CV]  max_depth=500, min_samples_split=10, score=0.6572827852998067, total=  37.5s\n",
      "[CV] max_depth=500, min_samples_split=10 .............................\n",
      "[CV]  max_depth=500, min_samples_split=10, score=0.6585782591876208, total=  37.9s\n",
      "[CV] max_depth=500, min_samples_split=10 .............................\n",
      "[CV]  max_depth=500, min_samples_split=10, score=0.6451165382115329, total=  39.4s\n",
      "[CV] max_depth=500, min_samples_split=100 ............................\n",
      "[CV]  max_depth=500, min_samples_split=100, score=0.7334869919118026, total=  38.7s\n",
      "[CV] max_depth=500, min_samples_split=100 ............................\n",
      "[CV]  max_depth=500, min_samples_split=100, score=0.7294014184397164, total=  40.2s\n",
      "[CV] max_depth=500, min_samples_split=100 ............................\n",
      "[CV]  max_depth=500, min_samples_split=100, score=0.7268895938104447, total=  33.7s\n",
      "[CV] max_depth=500, min_samples_split=100 ............................\n",
      "[CV]  max_depth=500, min_samples_split=100, score=0.7679667827208253, total=  36.4s\n",
      "[CV] max_depth=500, min_samples_split=100 ............................\n",
      "[CV]  max_depth=500, min_samples_split=100, score=0.7473988910380399, total=  36.5s\n",
      "[CV] max_depth=500, min_samples_split=100 ............................\n"
     ]
    },
    {
     "name": "stdout",
     "output_type": "stream",
     "text": [
      "[CV]  max_depth=500, min_samples_split=100, score=0.7356423468729851, total=  35.8s\n",
      "[CV] max_depth=500, min_samples_split=100 ............................\n",
      "[CV]  max_depth=500, min_samples_split=100, score=0.7409402965828498, total=  35.1s\n",
      "[CV] max_depth=500, min_samples_split=100 ............................\n",
      "[CV]  max_depth=500, min_samples_split=100, score=0.7425352417794971, total=  37.1s\n",
      "[CV] max_depth=500, min_samples_split=100 ............................\n",
      "[CV]  max_depth=500, min_samples_split=100, score=0.7349324049000645, total=  37.5s\n",
      "[CV] max_depth=500, min_samples_split=100 ............................\n",
      "[CV]  max_depth=500, min_samples_split=100, score=0.7210272283612427, total=  40.6s\n",
      "[CV] max_depth=500, min_samples_split=500 ............................\n",
      "[CV]  max_depth=500, min_samples_split=500, score=0.7870202462521252, total=  36.0s\n",
      "[CV] max_depth=500, min_samples_split=500 ............................\n",
      "[CV]  max_depth=500, min_samples_split=500, score=0.776923172147002, total=  37.0s\n",
      "[CV] max_depth=500, min_samples_split=500 ............................\n",
      "[CV]  max_depth=500, min_samples_split=500, score=0.7836588523533204, total=  30.5s\n",
      "[CV] max_depth=500, min_samples_split=500 ............................\n",
      "[CV]  max_depth=500, min_samples_split=500, score=0.8057747517730496, total=  32.9s\n",
      "[CV] max_depth=500, min_samples_split=500 ............................\n",
      "[CV]  max_depth=500, min_samples_split=500, score=0.7970356157317858, total=  33.5s\n",
      "[CV] max_depth=500, min_samples_split=500 ............................\n",
      "[CV]  max_depth=500, min_samples_split=500, score=0.7917579883945842, total=  32.8s\n",
      "[CV] max_depth=500, min_samples_split=500 ............................\n",
      "[CV]  max_depth=500, min_samples_split=500, score=0.7864569439071567, total=  33.4s\n",
      "[CV] max_depth=500, min_samples_split=500 ............................\n",
      "[CV]  max_depth=500, min_samples_split=500, score=0.7979516698903932, total=  34.4s\n",
      "[CV] max_depth=500, min_samples_split=500 ............................\n",
      "[CV]  max_depth=500, min_samples_split=500, score=0.7834692456479692, total=  35.5s\n",
      "[CV] max_depth=500, min_samples_split=500 ............................\n",
      "[CV]  max_depth=500, min_samples_split=500, score=0.7792299914363244, total=  37.3s\n",
      "[CV] max_depth=1000, min_samples_split=5 .............................\n",
      "[CV]  max_depth=1000, min_samples_split=5, score=0.6354368141775282, total=  39.3s\n",
      "[CV] max_depth=1000, min_samples_split=5 .............................\n",
      "[CV]  max_depth=1000, min_samples_split=5, score=0.640073552546744, total=  39.7s\n",
      "[CV] max_depth=1000, min_samples_split=5 .............................\n",
      "[CV]  max_depth=1000, min_samples_split=5, score=0.6272905738233399, total=  34.5s\n",
      "[CV] max_depth=1000, min_samples_split=5 .............................\n",
      "[CV]  max_depth=1000, min_samples_split=5, score=0.653313733075435, total=  36.9s\n",
      "[CV] max_depth=1000, min_samples_split=5 .............................\n",
      "[CV]  max_depth=1000, min_samples_split=5, score=0.647484203739523, total=  37.5s\n",
      "[CV] max_depth=1000, min_samples_split=5 .............................\n",
      "[CV]  max_depth=1000, min_samples_split=5, score=0.648290805931657, total=  37.3s\n",
      "[CV] max_depth=1000, min_samples_split=5 .............................\n",
      "[CV]  max_depth=1000, min_samples_split=5, score=0.6498327272727273, total=  35.8s\n",
      "[CV] max_depth=1000, min_samples_split=5 .............................\n",
      "[CV]  max_depth=1000, min_samples_split=5, score=0.6356744294003869, total=  38.2s\n",
      "[CV] max_depth=1000, min_samples_split=5 .............................\n",
      "[CV]  max_depth=1000, min_samples_split=5, score=0.6570785299806576, total=  38.1s\n",
      "[CV] max_depth=1000, min_samples_split=5 .............................\n",
      "[CV]  max_depth=1000, min_samples_split=5, score=0.6266371580978323, total=  40.9s\n",
      "[CV] max_depth=1000, min_samples_split=10 ............................\n",
      "[CV]  max_depth=1000, min_samples_split=10, score=0.6465314512389881, total=  39.5s\n",
      "[CV] max_depth=1000, min_samples_split=10 ............................\n",
      "[CV]  max_depth=1000, min_samples_split=10, score=0.6442785299806577, total=  39.3s\n",
      "[CV] max_depth=1000, min_samples_split=10 ............................\n",
      "[CV]  max_depth=1000, min_samples_split=10, score=0.6429103288201161, total=  34.3s\n",
      "[CV] max_depth=1000, min_samples_split=10 ............................\n",
      "[CV]  max_depth=1000, min_samples_split=10, score=0.6650107543520309, total=  37.4s\n",
      "[CV] max_depth=1000, min_samples_split=10 ............................\n",
      "[CV]  max_depth=1000, min_samples_split=10, score=0.6620924822695036, total=  37.5s\n",
      "[CV] max_depth=1000, min_samples_split=10 ............................\n",
      "[CV]  max_depth=1000, min_samples_split=10, score=0.6541836750483558, total=  36.9s\n",
      "[CV] max_depth=1000, min_samples_split=10 ............................\n",
      "[CV]  max_depth=1000, min_samples_split=10, score=0.6589904835589941, total=  36.4s\n",
      "[CV] max_depth=1000, min_samples_split=10 ............................\n",
      "[CV]  max_depth=1000, min_samples_split=10, score=0.6594252998065764, total=  37.6s\n",
      "[CV] max_depth=1000, min_samples_split=10 ............................\n",
      "[CV]  max_depth=1000, min_samples_split=10, score=0.6612525596389426, total=  38.0s\n",
      "[CV] max_depth=1000, min_samples_split=10 ............................\n",
      "[CV]  max_depth=1000, min_samples_split=10, score=0.6375825672454887, total=  40.8s\n",
      "[CV] max_depth=1000, min_samples_split=100 ...........................\n",
      "[CV]  max_depth=1000, min_samples_split=100, score=0.7340796455617948, total=  38.8s\n",
      "[CV] max_depth=1000, min_samples_split=100 ...........................\n",
      "[CV]  max_depth=1000, min_samples_split=100, score=0.7288376531270149, total=  40.5s\n",
      "[CV] max_depth=1000, min_samples_split=100 ...........................\n",
      "[CV]  max_depth=1000, min_samples_split=100, score=0.7236061379754997, total=  33.7s\n",
      "[CV] max_depth=1000, min_samples_split=100 ...........................\n",
      "[CV]  max_depth=1000, min_samples_split=100, score=0.7655054029658286, total=  37.5s\n",
      "[CV] max_depth=1000, min_samples_split=100 ...........................\n",
      "[CV]  max_depth=1000, min_samples_split=100, score=0.7407661637653128, total=  36.6s\n",
      "[CV] max_depth=1000, min_samples_split=100 ...........................\n",
      "[CV]  max_depth=1000, min_samples_split=100, score=0.7362917343649258, total=  36.2s\n",
      "[CV] max_depth=1000, min_samples_split=100 ...........................\n",
      "[CV]  max_depth=1000, min_samples_split=100, score=0.7411948936170213, total=  36.0s\n",
      "[CV] max_depth=1000, min_samples_split=100 ...........................\n",
      "[CV]  max_depth=1000, min_samples_split=100, score=0.7421735654416506, total=  37.0s\n",
      "[CV] max_depth=1000, min_samples_split=100 ...........................\n",
      "[CV]  max_depth=1000, min_samples_split=100, score=0.7336573565441651, total=  37.7s\n",
      "[CV] max_depth=1000, min_samples_split=100 ...........................\n",
      "[CV]  max_depth=1000, min_samples_split=100, score=0.7227067405412655, total=  38.9s\n",
      "[CV] max_depth=1000, min_samples_split=500 ...........................\n",
      "[CV]  max_depth=1000, min_samples_split=500, score=0.7883595899232394, total=  36.2s\n",
      "[CV] max_depth=1000, min_samples_split=500 ...........................\n",
      "[CV]  max_depth=1000, min_samples_split=500, score=0.7784295035460993, total=  36.5s\n",
      "[CV] max_depth=1000, min_samples_split=500 ...........................\n",
      "[CV]  max_depth=1000, min_samples_split=500, score=0.7844662798194713, total=  30.8s\n",
      "[CV] max_depth=1000, min_samples_split=500 ...........................\n",
      "[CV]  max_depth=1000, min_samples_split=500, score=0.8068059316569954, total=  33.0s\n",
      "[CV] max_depth=1000, min_samples_split=500 ...........................\n",
      "[CV]  max_depth=1000, min_samples_split=500, score=0.7965036234687298, total=  33.8s\n",
      "[CV] max_depth=1000, min_samples_split=500 ...........................\n",
      "[CV]  max_depth=1000, min_samples_split=500, score=0.7913922888459058, total=  33.3s\n",
      "[CV] max_depth=1000, min_samples_split=500 ...........................\n",
      "[CV]  max_depth=1000, min_samples_split=500, score=0.7872372404900064, total=  32.9s\n",
      "[CV] max_depth=1000, min_samples_split=500 ...........................\n",
      "[CV]  max_depth=1000, min_samples_split=500, score=0.7979897356544163, total=  34.4s\n",
      "[CV] max_depth=1000, min_samples_split=500 ...........................\n"
     ]
    },
    {
     "name": "stdout",
     "output_type": "stream",
     "text": [
      "[CV]  max_depth=1000, min_samples_split=500, score=0.7837888330109608, total=  35.3s\n",
      "[CV] max_depth=1000, min_samples_split=500 ...........................\n",
      "[CV]  max_depth=1000, min_samples_split=500, score=0.7789032304660497, total=  37.6s\n"
     ]
    },
    {
     "name": "stderr",
     "output_type": "stream",
     "text": [
      "[Parallel(n_jobs=1)]: Done 280 out of 280 | elapsed: 113.3min finished\n"
     ]
    },
    {
     "name": "stdout",
     "output_type": "stream",
     "text": [
      "Best Hyperparameter: DecisionTreeClassifier(class_weight=None, criterion='gini', max_depth=10,\n",
      "            max_features=None, max_leaf_nodes=None,\n",
      "            min_impurity_decrease=0.0, min_impurity_split=None,\n",
      "            min_samples_leaf=1, min_samples_split=500,\n",
      "            min_weight_fraction_leaf=0.0, presort=False, random_state=None,\n",
      "            splitter='best')\n"
     ]
    }
   ],
   "source": [
    "# Model Training\n",
    "clf = DecisionTreeClassifier()\n",
    "parameters = {\"max_depth\":[1, 5, 10, 50, 100, 500, 1000],\n",
    "              \"min_samples_split\": [5, 10, 100, 500]} \n",
    "\n",
    "model = GridSearchCV(clf, parameters, cv=10,verbose=10, scoring='roc_auc')\n",
    "model.fit(X_train_tfidf_AW2V, y_train)\n",
    "bestParameter = model.best_estimator_\n",
    "print(\"Best Hyperparameter: \"+ str(bestParameter))"
   ]
  },
  {
   "cell_type": "markdown",
   "metadata": {},
   "source": [
    "<br>\n",
    "Heatmap  of <B>max_depth</B> and <B>min_sample_split</B> parameters to find the areas where the maximum AUC is achieved in the test set."
   ]
  },
  {
   "cell_type": "code",
   "execution_count": 39,
   "metadata": {},
   "outputs": [
    {
     "data": {
      "image/png": "[encoded data removed]",
      "text/plain": [
       "<Figure size 1224x360 with 4 Axes>"
      ]
     },
     "metadata": {
      "needs_background": "light"
     },
     "output_type": "display_data"
    }
   ],
   "source": [
    "# Train vs CV auc score\n",
    "df_gridsearch = pd.DataFrame(model.cv_results_)\n",
    "max_scores = df_gridsearch.groupby(['param_max_depth', 'param_min_samples_split']).max()\n",
    "max_scores = max_scores.unstack()[['mean_test_score', 'mean_train_score']]\n",
    "\n",
    "fig, (ax,ax2) = plt.subplots(ncols=2, figsize=(17,5))\n",
    "fig.subplots_adjust(wspace=0.2)\n",
    "sns.heatmap(max_scores.mean_train_score,annot=True, fmt='.4g', cmap=\"rocket\", ax=ax, cbar=False)\n",
    "fig.colorbar(ax.collections[0], ax=ax,location=\"left\", use_gridspec=False, pad=0.2)\n",
    "sns.heatmap(max_scores.mean_test_score,annot=True, fmt='.4g', cmap=\"icefire\", ax=ax2, cbar=False)\n",
    "fig.colorbar(ax2.collections[0], ax=ax2,location=\"right\", use_gridspec=False, pad=0.2)\n",
    "ax2.yaxis.tick_right()\n",
    "ax2.tick_params(rotation=0)\n",
    "ax.title.set_text('Train AUC Score')\n",
    "ax2.title.set_text('CV AUC Score')\n",
    "plt.show()"
   ]
  },
  {
   "cell_type": "code",
   "execution_count": 72,
   "metadata": {
    "colab": {},
    "colab_type": "code",
    "id": "YqODkVCgiWO7"
   },
   "outputs": [
    {
     "data": {
      "image/png": "[encoded data removed]",
      "text/plain": [
       "<Figure size 432x288 with 1 Axes>"
      ]
     },
     "metadata": {
      "needs_background": "light"
     },
     "output_type": "display_data"
    }
   ],
   "source": [
    "# Testing accuracy on test dataset\n",
    "clf4 = DecisionTreeClassifier( max_depth=bestParameter.max_depth, min_samples_split=bestParameter.min_samples_split)\n",
    "clf4.fit(X_train_tfidf_AW2V,y_train)\n",
    "\n",
    "predTest  = clf4.predict_proba(X_test_tfidf_AW2V)\n",
    "predTrain = clf4.predict_proba(X_train_tfidf_AW2V)\n",
    "\n",
    "train_fpr, train_tpr, thresholds = roc_curve(y_train, predTrain[:,1])\n",
    "test_fpr, test_tpr, thresholds = roc_curve(y_test, predTest[:,1])\n",
    "\n",
    "plt.plot(train_fpr, train_tpr, label=\"train AUC =\"+str(auc(train_fpr, train_tpr)))\n",
    "plt.plot(test_fpr, test_tpr, label=\"test AUC =\"+str(auc(test_fpr, test_tpr)))\n",
    "\n",
    "plt.legend()\n",
    "plt.xlabel(\"FPR\")\n",
    "plt.ylabel(\"TPR\")\n",
    "plt.title(\"ROC\")\n",
    "plt.show()"
   ]
  },
  {
   "cell_type": "code",
   "execution_count": 73,
   "metadata": {},
   "outputs": [
    {
     "data": {
      "image/png": "[encoded data removed]",
      "text/plain": [
       "<Figure size 432x288 with 2 Axes>"
      ]
     },
     "metadata": {
      "needs_background": "light"
     },
     "output_type": "display_data"
    }
   ],
   "source": [
    "# Confusion Matrix\n",
    "confusionMatrixPlot(y_test,clf2.predict(X_test_tfidf_AW2V))"
   ]
  },
  {
   "cell_type": "markdown",
   "metadata": {
    "colab_type": "text",
    "id": "Em-rF6u2iWO8"
   },
   "source": [
    "# [6] Conclusions"
   ]
  },
  {
   "cell_type": "code",
   "execution_count": 19,
   "metadata": {
    "colab": {},
    "colab_type": "code",
    "id": "3Hnu2QziiWO9"
   },
   "outputs": [
    {
     "name": "stdout",
     "output_type": "stream",
     "text": [
      "+-------------+--------------+----------------------------------------------+--------+\n",
      "|  Vectorizer |    Model     | Hyperparameter: max_depth, min_samples_split |  AUC   |\n",
      "+-------------+--------------+----------------------------------------------+--------+\n",
      "|     BOW     | Decison Tree |                    50,500                    | 0.8149 |\n",
      "|    TFIDF    | Decison Tree |                    50,500                    | 0.8187 |\n",
      "| Average W2v | Decison Tree |                    10,500                    | 0.8319 |\n",
      "|  TFIDF-W2v  | Decison Tree |                    10,500                    | 0.8077 |\n",
      "+-------------+--------------+----------------------------------------------+--------+\n"
     ]
    }
   ],
   "source": [
    "from prettytable import PrettyTable\n",
    "    \n",
    "x = PrettyTable()\n",
    "x.field_names = [\"Vectorizer\", \"Model\", \"Hyperparameter: max_depth, min_samples_split\", \"AUC\"]\n",
    "x.add_row([\"BOW\", \"Decison Tree\",\"50,500\",0.8149])\n",
    "x.add_row([\"TFIDF\", \"Decison Tree\", \"50,500\", 0.8187])\n",
    "x.add_row([\"Average W2v\",\"Decison Tree\",\"10,500\", 0.8319])\n",
    "x.add_row([\"TFIDF-W2v\", \"Decison Tree\", \"10,500\", 0.8077])\n",
    "print(x)"
   ]
  },
  {
   "cell_type": "markdown",
   "metadata": {},
   "source": [
    "#### Observation(s):\n",
    "    - From the conclusion matrix we can say that the  Decision Tree classifier is not suitable for large dimesion data. \n",
    "      As AUC score for all the four vectorizer is between 0.80 to 0.85.\n",
    "    - Linear SVM and Logistic Regression models have comparatively better accurcy over same dataset.\n",
    "    "
   ]
  }
 ],
 "metadata": {
  "colab": {
   "collapsed_sections": [
    "NTwQITJKiWN5",
    "T_LFck8iiWOX",
    "mjfrB76yiWOa",
    "0tcbbZxSiWOd",
    "u566lt93iWOf",
    "mUNnof40iWOl",
    "heHLB_FCiWOm",
    "ylTn3LgiiWOo",
    "NVhl_V6MiWO5",
    "PnwVzXytiWO7"
   ],
   "name": "08 Amazon Fine Food Reviews Analysis_Decision Trees.ipynb",
   "provenance": [],
   "version": "0.3.2"
  },
  "kernelspec": {
   "display_name": "Python 3",
   "language": "python",
   "name": "python3"
  },
  "language_info": {
   "codemirror_mode": {
    "name": "ipython",
    "version": 3
   },
   "file_extension": ".py",
   "mimetype": "text/x-python",
   "name": "python",
   "nbconvert_exporter": "python",
   "pygments_lexer": "ipython3",
   "version": "3.6.7"
  }
 },
 "nbformat": 4,
 "nbformat_minor": 1
}
